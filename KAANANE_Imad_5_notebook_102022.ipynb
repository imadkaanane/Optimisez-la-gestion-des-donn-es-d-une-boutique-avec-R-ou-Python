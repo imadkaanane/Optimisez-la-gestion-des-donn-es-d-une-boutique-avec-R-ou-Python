{
 "cells": [
  {
   "cell_type": "markdown",
   "metadata": {},
   "source": [
    "# Optimisez la gestion des données d'une boutique avec Python"
   ]
  },
  {
   "cell_type": "markdown",
   "metadata": {},
   "source": [
    "1. Traitement des fichiers\n",
    "    - 1.1. Fichier 'erp'\n",
    "        - 1.1.1. Lecture du fichier\n",
    "        - 1.1.2. Nettoyage du fichier\n",
    "    - 1.2. Fichier 'web'\n",
    "        - 1.2.1. Lecture du fichier\n",
    "        - 1.2.2. Nettoyage du fichier\n",
    "    - 1.3. Fichier 'liaison'\n",
    "        - 1.2.1. Lecture du fichier\n",
    "        - 1.2.2. Nettoyage du fichier\n",
    "1. Réponses aux questions de LAURENT\n",
    "    - 2.1. Joindre les 3 dataframes 'erp','web'et 'liaison'\n",
    "    - 2.2. Le chiffre d’affaire par produit\n",
    "    - 2.3. Le chiffre d’affaire total réalisé en ligne\n",
    "    - 2.4 Analyse sur la variable prix\n",
    "        - 2.4.1 Description de la variable prix\n",
    "        - 2.4.2 Visualisation à l'aide de graphiques 'histogramme' et 'boîte à moustaches'\n",
    "        - 2.4.3 Chercher les outliers (aberrantes) avec la méthode IQR\n",
    "        - 2.4.4 Chercher les outliers avec la methode Z-score\n",
    "        - 2.4.5 Visualisation à l'aide de graphiques ' nuage de points'\n",
    "        - 2.4.6 Calcul du chiffre d’affaire total réalisé en ligne si suppression des valeurs aberrantes (Z-score, threshold=2 )\n",
    "        \n",
    "1. Conclusions et Solutions"
   ]
  },
  {
   "cell_type": "code",
   "execution_count": 1,
   "metadata": {},
   "outputs": [],
   "source": [
    "import pandas as pd\n",
    "import numpy as np\n",
    "import plotly.express as px\n",
    "import plotly.graph_objects as go\n",
    "from IPython.display import Image, display"
   ]
  },
  {
   "cell_type": "markdown",
   "metadata": {},
   "source": [
    "## 1. Traitement des fichiers :"
   ]
  },
  {
   "cell_type": "markdown",
   "metadata": {},
   "source": [
    "### 1.1. Fichier 'erp'"
   ]
  },
  {
   "cell_type": "markdown",
   "metadata": {},
   "source": [
    "#### 1.1.1 Lecture du fichier"
   ]
  },
  {
   "cell_type": "code",
   "execution_count": 2,
   "metadata": {},
   "outputs": [
    {
     "name": "stderr",
     "output_type": "stream",
     "text": [
      "c:\\Python312\\Lib\\site-packages\\openpyxl\\worksheet\\_reader.py:329: UserWarning: Unknown extension is not supported and will be removed\n",
      "  warn(msg)\n"
     ]
    }
   ],
   "source": [
    "# Charger le fichier \n",
    "erp = pd.read_excel(r\"Data\\Fichier_erp.xlsx\", engine=\"openpyxl\")"
   ]
  },
  {
   "cell_type": "code",
   "execution_count": 3,
   "metadata": {},
   "outputs": [
    {
     "data": {
      "text/html": [
       "<div>\n",
       "<style scoped>\n",
       "    .dataframe tbody tr th:only-of-type {\n",
       "        vertical-align: middle;\n",
       "    }\n",
       "\n",
       "    .dataframe tbody tr th {\n",
       "        vertical-align: top;\n",
       "    }\n",
       "\n",
       "    .dataframe thead th {\n",
       "        text-align: right;\n",
       "    }\n",
       "</style>\n",
       "<table border=\"1\" class=\"dataframe\">\n",
       "  <thead>\n",
       "    <tr style=\"text-align: right;\">\n",
       "      <th></th>\n",
       "      <th>product_id</th>\n",
       "      <th>onsale_web</th>\n",
       "      <th>price</th>\n",
       "      <th>stock_quantity</th>\n",
       "      <th>stock_status</th>\n",
       "    </tr>\n",
       "  </thead>\n",
       "  <tbody>\n",
       "    <tr>\n",
       "      <th>0</th>\n",
       "      <td>3847</td>\n",
       "      <td>1</td>\n",
       "      <td>24.2</td>\n",
       "      <td>0</td>\n",
       "      <td>outofstock</td>\n",
       "    </tr>\n",
       "    <tr>\n",
       "      <th>1</th>\n",
       "      <td>3849</td>\n",
       "      <td>1</td>\n",
       "      <td>34.3</td>\n",
       "      <td>0</td>\n",
       "      <td>outofstock</td>\n",
       "    </tr>\n",
       "    <tr>\n",
       "      <th>2</th>\n",
       "      <td>3850</td>\n",
       "      <td>1</td>\n",
       "      <td>20.8</td>\n",
       "      <td>0</td>\n",
       "      <td>outofstock</td>\n",
       "    </tr>\n",
       "    <tr>\n",
       "      <th>3</th>\n",
       "      <td>4032</td>\n",
       "      <td>1</td>\n",
       "      <td>14.1</td>\n",
       "      <td>0</td>\n",
       "      <td>outofstock</td>\n",
       "    </tr>\n",
       "    <tr>\n",
       "      <th>4</th>\n",
       "      <td>4039</td>\n",
       "      <td>1</td>\n",
       "      <td>46.0</td>\n",
       "      <td>0</td>\n",
       "      <td>outofstock</td>\n",
       "    </tr>\n",
       "    <tr>\n",
       "      <th>5</th>\n",
       "      <td>4040</td>\n",
       "      <td>1</td>\n",
       "      <td>34.3</td>\n",
       "      <td>0</td>\n",
       "      <td>outofstock</td>\n",
       "    </tr>\n",
       "    <tr>\n",
       "      <th>6</th>\n",
       "      <td>4041</td>\n",
       "      <td>1</td>\n",
       "      <td>32.7</td>\n",
       "      <td>15</td>\n",
       "      <td>instock</td>\n",
       "    </tr>\n",
       "    <tr>\n",
       "      <th>7</th>\n",
       "      <td>4042</td>\n",
       "      <td>1</td>\n",
       "      <td>31.2</td>\n",
       "      <td>34</td>\n",
       "      <td>instock</td>\n",
       "    </tr>\n",
       "    <tr>\n",
       "      <th>8</th>\n",
       "      <td>4043</td>\n",
       "      <td>1</td>\n",
       "      <td>60.0</td>\n",
       "      <td>12</td>\n",
       "      <td>instock</td>\n",
       "    </tr>\n",
       "    <tr>\n",
       "      <th>9</th>\n",
       "      <td>4045</td>\n",
       "      <td>1</td>\n",
       "      <td>42.6</td>\n",
       "      <td>66</td>\n",
       "      <td>instock</td>\n",
       "    </tr>\n",
       "  </tbody>\n",
       "</table>\n",
       "</div>"
      ],
      "text/plain": [
       "   product_id  onsale_web  price  stock_quantity stock_status\n",
       "0        3847           1   24.2               0   outofstock\n",
       "1        3849           1   34.3               0   outofstock\n",
       "2        3850           1   20.8               0   outofstock\n",
       "3        4032           1   14.1               0   outofstock\n",
       "4        4039           1   46.0               0   outofstock\n",
       "5        4040           1   34.3               0   outofstock\n",
       "6        4041           1   32.7              15      instock\n",
       "7        4042           1   31.2              34      instock\n",
       "8        4043           1   60.0              12      instock\n",
       "9        4045           1   42.6              66      instock"
      ]
     },
     "execution_count": 3,
     "metadata": {},
     "output_type": "execute_result"
    }
   ],
   "source": [
    "# Voir les 10 premières lignes du dataFrame\n",
    "erp.head(10)"
   ]
  },
  {
   "cell_type": "code",
   "execution_count": 4,
   "metadata": {},
   "outputs": [
    {
     "name": "stdout",
     "output_type": "stream",
     "text": [
      "<class 'pandas.core.frame.DataFrame'>\n",
      "RangeIndex: 825 entries, 0 to 824\n",
      "Data columns (total 5 columns):\n",
      " #   Column          Non-Null Count  Dtype  \n",
      "---  ------          --------------  -----  \n",
      " 0   product_id      825 non-null    int64  \n",
      " 1   onsale_web      825 non-null    int64  \n",
      " 2   price           825 non-null    float64\n",
      " 3   stock_quantity  825 non-null    int64  \n",
      " 4   stock_status    825 non-null    object \n",
      "dtypes: float64(1), int64(3), object(1)\n",
      "memory usage: 32.4+ KB\n"
     ]
    }
   ],
   "source": [
    "# Obtenir les détails essentiels sur notre dataFrame\n",
    "erp.info()"
   ]
  },
  {
   "cell_type": "code",
   "execution_count": 5,
   "metadata": {},
   "outputs": [
    {
     "data": {
      "text/html": [
       "<div>\n",
       "<style scoped>\n",
       "    .dataframe tbody tr th:only-of-type {\n",
       "        vertical-align: middle;\n",
       "    }\n",
       "\n",
       "    .dataframe tbody tr th {\n",
       "        vertical-align: top;\n",
       "    }\n",
       "\n",
       "    .dataframe thead th {\n",
       "        text-align: right;\n",
       "    }\n",
       "</style>\n",
       "<table border=\"1\" class=\"dataframe\">\n",
       "  <thead>\n",
       "    <tr style=\"text-align: right;\">\n",
       "      <th></th>\n",
       "      <th>product_id</th>\n",
       "      <th>onsale_web</th>\n",
       "      <th>price</th>\n",
       "      <th>stock_quantity</th>\n",
       "      <th>stock_status</th>\n",
       "    </tr>\n",
       "  </thead>\n",
       "  <tbody>\n",
       "    <tr>\n",
       "      <th>count</th>\n",
       "      <td>825.000000</td>\n",
       "      <td>825.000000</td>\n",
       "      <td>825.000000</td>\n",
       "      <td>825.000000</td>\n",
       "      <td>825</td>\n",
       "    </tr>\n",
       "    <tr>\n",
       "      <th>unique</th>\n",
       "      <td>NaN</td>\n",
       "      <td>NaN</td>\n",
       "      <td>NaN</td>\n",
       "      <td>NaN</td>\n",
       "      <td>2</td>\n",
       "    </tr>\n",
       "    <tr>\n",
       "      <th>top</th>\n",
       "      <td>NaN</td>\n",
       "      <td>NaN</td>\n",
       "      <td>NaN</td>\n",
       "      <td>NaN</td>\n",
       "      <td>instock</td>\n",
       "    </tr>\n",
       "    <tr>\n",
       "      <th>freq</th>\n",
       "      <td>NaN</td>\n",
       "      <td>NaN</td>\n",
       "      <td>NaN</td>\n",
       "      <td>NaN</td>\n",
       "      <td>638</td>\n",
       "    </tr>\n",
       "    <tr>\n",
       "      <th>mean</th>\n",
       "      <td>5162.597576</td>\n",
       "      <td>0.869091</td>\n",
       "      <td>32.384000</td>\n",
       "      <td>26.583030</td>\n",
       "      <td>NaN</td>\n",
       "    </tr>\n",
       "    <tr>\n",
       "      <th>std</th>\n",
       "      <td>902.644635</td>\n",
       "      <td>0.337506</td>\n",
       "      <td>26.832271</td>\n",
       "      <td>45.875948</td>\n",
       "      <td>NaN</td>\n",
       "    </tr>\n",
       "    <tr>\n",
       "      <th>min</th>\n",
       "      <td>3847.000000</td>\n",
       "      <td>0.000000</td>\n",
       "      <td>-8.000000</td>\n",
       "      <td>-1.000000</td>\n",
       "      <td>NaN</td>\n",
       "    </tr>\n",
       "    <tr>\n",
       "      <th>25%</th>\n",
       "      <td>4348.000000</td>\n",
       "      <td>1.000000</td>\n",
       "      <td>14.600000</td>\n",
       "      <td>1.000000</td>\n",
       "      <td>NaN</td>\n",
       "    </tr>\n",
       "    <tr>\n",
       "      <th>50%</th>\n",
       "      <td>4907.000000</td>\n",
       "      <td>1.000000</td>\n",
       "      <td>24.400000</td>\n",
       "      <td>11.000000</td>\n",
       "      <td>NaN</td>\n",
       "    </tr>\n",
       "    <tr>\n",
       "      <th>75%</th>\n",
       "      <td>5805.000000</td>\n",
       "      <td>1.000000</td>\n",
       "      <td>42.000000</td>\n",
       "      <td>34.000000</td>\n",
       "      <td>NaN</td>\n",
       "    </tr>\n",
       "    <tr>\n",
       "      <th>max</th>\n",
       "      <td>7338.000000</td>\n",
       "      <td>1.000000</td>\n",
       "      <td>225.000000</td>\n",
       "      <td>578.000000</td>\n",
       "      <td>NaN</td>\n",
       "    </tr>\n",
       "  </tbody>\n",
       "</table>\n",
       "</div>"
      ],
      "text/plain": [
       "         product_id  onsale_web       price  stock_quantity stock_status\n",
       "count    825.000000  825.000000  825.000000      825.000000          825\n",
       "unique          NaN         NaN         NaN             NaN            2\n",
       "top             NaN         NaN         NaN             NaN      instock\n",
       "freq            NaN         NaN         NaN             NaN          638\n",
       "mean    5162.597576    0.869091   32.384000       26.583030          NaN\n",
       "std      902.644635    0.337506   26.832271       45.875948          NaN\n",
       "min     3847.000000    0.000000   -8.000000       -1.000000          NaN\n",
       "25%     4348.000000    1.000000   14.600000        1.000000          NaN\n",
       "50%     4907.000000    1.000000   24.400000       11.000000          NaN\n",
       "75%     5805.000000    1.000000   42.000000       34.000000          NaN\n",
       "max     7338.000000    1.000000  225.000000      578.000000          NaN"
      ]
     },
     "execution_count": 5,
     "metadata": {},
     "output_type": "execute_result"
    }
   ],
   "source": [
    "# Voir les statistiques diverses (moyenne, maximum, minimum, etc.) du dataFrame \n",
    "erp.describe(include=\"all\")"
   ]
  },
  {
   "cell_type": "code",
   "execution_count": 6,
   "metadata": {},
   "outputs": [
    {
     "data": {
      "text/plain": [
       "(825, 5)"
      ]
     },
     "execution_count": 6,
     "metadata": {},
     "output_type": "execute_result"
    }
   ],
   "source": [
    "# Obtenir le nombre de lignes et le nombre de colonnes\n",
    "erp.shape"
   ]
  },
  {
   "cell_type": "markdown",
   "metadata": {},
   "source": [
    "#### 1.1.2. Nettoyage du fichier"
   ]
  },
  {
   "cell_type": "code",
   "execution_count": 7,
   "metadata": {},
   "outputs": [
    {
     "data": {
      "text/plain": [
       "0"
      ]
     },
     "execution_count": 7,
     "metadata": {},
     "output_type": "execute_result"
    }
   ],
   "source": [
    "# Vérification des doublons\n",
    "erp.duplicated(['product_id']).sum()"
   ]
  },
  {
   "cell_type": "code",
   "execution_count": 8,
   "metadata": {},
   "outputs": [
    {
     "data": {
      "text/plain": [
       "product_id        0\n",
       "onsale_web        0\n",
       "price             0\n",
       "stock_quantity    0\n",
       "stock_status      0\n",
       "dtype: int64"
      ]
     },
     "execution_count": 8,
     "metadata": {},
     "output_type": "execute_result"
    }
   ],
   "source": [
    "# Vérification des valeurs manquantes\n",
    "erp.isnull().sum()"
   ]
  },
  {
   "cell_type": "markdown",
   "metadata": {},
   "source": [
    "### 1.2. Fichier 'web'"
   ]
  },
  {
   "cell_type": "markdown",
   "metadata": {},
   "source": [
    "#### 1.2.1. Lecture du fichier "
   ]
  },
  {
   "cell_type": "code",
   "execution_count": 9,
   "metadata": {},
   "outputs": [
    {
     "name": "stderr",
     "output_type": "stream",
     "text": [
      "c:\\Python312\\Lib\\site-packages\\openpyxl\\worksheet\\_reader.py:329: UserWarning: Unknown extension is not supported and will be removed\n",
      "  warn(msg)\n"
     ]
    }
   ],
   "source": [
    "web = pd.read_excel(r\"Data\\Fichier_web.xlsx\")"
   ]
  },
  {
   "cell_type": "code",
   "execution_count": 10,
   "metadata": {},
   "outputs": [
    {
     "data": {
      "text/html": [
       "<div>\n",
       "<style scoped>\n",
       "    .dataframe tbody tr th:only-of-type {\n",
       "        vertical-align: middle;\n",
       "    }\n",
       "\n",
       "    .dataframe tbody tr th {\n",
       "        vertical-align: top;\n",
       "    }\n",
       "\n",
       "    .dataframe thead th {\n",
       "        text-align: right;\n",
       "    }\n",
       "</style>\n",
       "<table border=\"1\" class=\"dataframe\">\n",
       "  <thead>\n",
       "    <tr style=\"text-align: right;\">\n",
       "      <th></th>\n",
       "      <th>sku</th>\n",
       "      <th>virtual</th>\n",
       "      <th>downloadable</th>\n",
       "      <th>rating_count</th>\n",
       "      <th>average_rating</th>\n",
       "      <th>total_sales</th>\n",
       "      <th>tax_status</th>\n",
       "      <th>tax_class</th>\n",
       "      <th>post_author</th>\n",
       "      <th>post_date</th>\n",
       "      <th>...</th>\n",
       "      <th>post_name</th>\n",
       "      <th>post_modified</th>\n",
       "      <th>post_modified_gmt</th>\n",
       "      <th>post_content_filtered</th>\n",
       "      <th>post_parent</th>\n",
       "      <th>guid</th>\n",
       "      <th>menu_order</th>\n",
       "      <th>post_type</th>\n",
       "      <th>post_mime_type</th>\n",
       "      <th>comment_count</th>\n",
       "    </tr>\n",
       "  </thead>\n",
       "  <tbody>\n",
       "    <tr>\n",
       "      <th>0</th>\n",
       "      <td>16004</td>\n",
       "      <td>0</td>\n",
       "      <td>0</td>\n",
       "      <td>0</td>\n",
       "      <td>0.0</td>\n",
       "      <td>5.0</td>\n",
       "      <td>NaN</td>\n",
       "      <td>NaN</td>\n",
       "      <td>2.0</td>\n",
       "      <td>2018-06-07 16:27:25</td>\n",
       "      <td>...</td>\n",
       "      <td>chateau-du-couvent-pomerol-2017</td>\n",
       "      <td>2020-08-25 18:35:02</td>\n",
       "      <td>2020-08-25 16:35:02</td>\n",
       "      <td>NaN</td>\n",
       "      <td>0.0</td>\n",
       "      <td>https://www.bottle-neck.fr/wp-content/uploads/...</td>\n",
       "      <td>0.0</td>\n",
       "      <td>attachment</td>\n",
       "      <td>image/jpeg</td>\n",
       "      <td>0.0</td>\n",
       "    </tr>\n",
       "    <tr>\n",
       "      <th>1</th>\n",
       "      <td>NaN</td>\n",
       "      <td>0</td>\n",
       "      <td>0</td>\n",
       "      <td>0</td>\n",
       "      <td>NaN</td>\n",
       "      <td>NaN</td>\n",
       "      <td>NaN</td>\n",
       "      <td>NaN</td>\n",
       "      <td>NaN</td>\n",
       "      <td>NaT</td>\n",
       "      <td>...</td>\n",
       "      <td>NaN</td>\n",
       "      <td>NaT</td>\n",
       "      <td>NaT</td>\n",
       "      <td>NaN</td>\n",
       "      <td>NaN</td>\n",
       "      <td>NaN</td>\n",
       "      <td>NaN</td>\n",
       "      <td>NaN</td>\n",
       "      <td>NaN</td>\n",
       "      <td>NaN</td>\n",
       "    </tr>\n",
       "    <tr>\n",
       "      <th>2</th>\n",
       "      <td>15075</td>\n",
       "      <td>0</td>\n",
       "      <td>0</td>\n",
       "      <td>0</td>\n",
       "      <td>0.0</td>\n",
       "      <td>3.0</td>\n",
       "      <td>taxable</td>\n",
       "      <td>NaN</td>\n",
       "      <td>2.0</td>\n",
       "      <td>2018-02-14 15:39:43</td>\n",
       "      <td>...</td>\n",
       "      <td>pares-balta-penedes-indigena-2017</td>\n",
       "      <td>2020-08-20 15:35:02</td>\n",
       "      <td>2020-08-20 13:35:02</td>\n",
       "      <td>NaN</td>\n",
       "      <td>0.0</td>\n",
       "      <td>https://www.bottle-neck.fr/?post_type=product&amp;...</td>\n",
       "      <td>0.0</td>\n",
       "      <td>product</td>\n",
       "      <td>NaN</td>\n",
       "      <td>0.0</td>\n",
       "    </tr>\n",
       "    <tr>\n",
       "      <th>3</th>\n",
       "      <td>16209</td>\n",
       "      <td>0</td>\n",
       "      <td>0</td>\n",
       "      <td>0</td>\n",
       "      <td>0.0</td>\n",
       "      <td>6.0</td>\n",
       "      <td>taxable</td>\n",
       "      <td>NaN</td>\n",
       "      <td>2.0</td>\n",
       "      <td>2018-02-14 17:15:31</td>\n",
       "      <td>...</td>\n",
       "      <td>maurel-cabardes-tradition-2017</td>\n",
       "      <td>2020-08-05 18:05:03</td>\n",
       "      <td>2020-08-05 16:05:03</td>\n",
       "      <td>NaN</td>\n",
       "      <td>0.0</td>\n",
       "      <td>https://www.bottle-neck.fr/?post_type=product&amp;...</td>\n",
       "      <td>0.0</td>\n",
       "      <td>product</td>\n",
       "      <td>NaN</td>\n",
       "      <td>0.0</td>\n",
       "    </tr>\n",
       "    <tr>\n",
       "      <th>4</th>\n",
       "      <td>15763</td>\n",
       "      <td>0</td>\n",
       "      <td>0</td>\n",
       "      <td>0</td>\n",
       "      <td>0.0</td>\n",
       "      <td>1.0</td>\n",
       "      <td>NaN</td>\n",
       "      <td>NaN</td>\n",
       "      <td>2.0</td>\n",
       "      <td>2020-01-25 14:08:16</td>\n",
       "      <td>...</td>\n",
       "      <td>domaine-de-la-monardiere-vacqueyras-les-vieill...</td>\n",
       "      <td>2020-08-21 11:35:02</td>\n",
       "      <td>2020-08-21 09:35:02</td>\n",
       "      <td>NaN</td>\n",
       "      <td>0.0</td>\n",
       "      <td>https://www.bottle-neck.fr/wp-content/uploads/...</td>\n",
       "      <td>0.0</td>\n",
       "      <td>attachment</td>\n",
       "      <td>image/jpeg</td>\n",
       "      <td>0.0</td>\n",
       "    </tr>\n",
       "    <tr>\n",
       "      <th>5</th>\n",
       "      <td>13895</td>\n",
       "      <td>0</td>\n",
       "      <td>0</td>\n",
       "      <td>0</td>\n",
       "      <td>0.0</td>\n",
       "      <td>0.0</td>\n",
       "      <td>taxable</td>\n",
       "      <td>NaN</td>\n",
       "      <td>2.0</td>\n",
       "      <td>2019-03-19 10:41:50</td>\n",
       "      <td>...</td>\n",
       "      <td>chateau-saransot-dupre-bordeaux-blanc-2016</td>\n",
       "      <td>2020-04-25 21:11:40</td>\n",
       "      <td>2020-04-25 19:11:40</td>\n",
       "      <td>NaN</td>\n",
       "      <td>0.0</td>\n",
       "      <td>https://www.bottle-neck.fr/?post_type=product&amp;...</td>\n",
       "      <td>0.0</td>\n",
       "      <td>product</td>\n",
       "      <td>NaN</td>\n",
       "      <td>0.0</td>\n",
       "    </tr>\n",
       "    <tr>\n",
       "      <th>6</th>\n",
       "      <td>12857</td>\n",
       "      <td>0</td>\n",
       "      <td>0</td>\n",
       "      <td>0</td>\n",
       "      <td>0.0</td>\n",
       "      <td>0.0</td>\n",
       "      <td>taxable</td>\n",
       "      <td>NaN</td>\n",
       "      <td>2.0</td>\n",
       "      <td>2018-04-12 17:56:13</td>\n",
       "      <td>...</td>\n",
       "      <td>chateau-de-puligny-montrachet-1cru-champ-canet...</td>\n",
       "      <td>2020-02-06 16:35:02</td>\n",
       "      <td>2020-02-06 15:35:02</td>\n",
       "      <td>NaN</td>\n",
       "      <td>0.0</td>\n",
       "      <td>https://www.bottle-neck.fr/?post_type=product&amp;...</td>\n",
       "      <td>0.0</td>\n",
       "      <td>product</td>\n",
       "      <td>NaN</td>\n",
       "      <td>0.0</td>\n",
       "    </tr>\n",
       "    <tr>\n",
       "      <th>7</th>\n",
       "      <td>15740</td>\n",
       "      <td>0</td>\n",
       "      <td>0</td>\n",
       "      <td>0</td>\n",
       "      <td>0.0</td>\n",
       "      <td>0.0</td>\n",
       "      <td>NaN</td>\n",
       "      <td>NaN</td>\n",
       "      <td>2.0</td>\n",
       "      <td>2020-04-25 12:32:17</td>\n",
       "      <td>...</td>\n",
       "      <td>jean-faure-saint-emilion-grand-cru-2015</td>\n",
       "      <td>2020-08-27 11:35:02</td>\n",
       "      <td>2020-08-27 09:35:02</td>\n",
       "      <td>NaN</td>\n",
       "      <td>0.0</td>\n",
       "      <td>https://www.bottle-neck.fr/wp-content/uploads/...</td>\n",
       "      <td>0.0</td>\n",
       "      <td>attachment</td>\n",
       "      <td>image/jpeg</td>\n",
       "      <td>0.0</td>\n",
       "    </tr>\n",
       "    <tr>\n",
       "      <th>8</th>\n",
       "      <td>14253</td>\n",
       "      <td>0</td>\n",
       "      <td>0</td>\n",
       "      <td>0</td>\n",
       "      <td>0.0</td>\n",
       "      <td>0.0</td>\n",
       "      <td>NaN</td>\n",
       "      <td>NaN</td>\n",
       "      <td>2.0</td>\n",
       "      <td>2018-02-20 15:29:32</td>\n",
       "      <td>...</td>\n",
       "      <td>domaine-huet-vouvray-haut-lieu-sec-2016</td>\n",
       "      <td>2020-07-22 09:55:01</td>\n",
       "      <td>2020-07-22 07:55:01</td>\n",
       "      <td>NaN</td>\n",
       "      <td>0.0</td>\n",
       "      <td>https://www.bottle-neck.fr/wp-content/uploads/...</td>\n",
       "      <td>0.0</td>\n",
       "      <td>attachment</td>\n",
       "      <td>image/jpeg</td>\n",
       "      <td>0.0</td>\n",
       "    </tr>\n",
       "    <tr>\n",
       "      <th>9</th>\n",
       "      <td>14106</td>\n",
       "      <td>0</td>\n",
       "      <td>0</td>\n",
       "      <td>0</td>\n",
       "      <td>0.0</td>\n",
       "      <td>0.0</td>\n",
       "      <td>taxable</td>\n",
       "      <td>NaN</td>\n",
       "      <td>2.0</td>\n",
       "      <td>2019-06-08 09:54:21</td>\n",
       "      <td>...</td>\n",
       "      <td>stephane-tissot-chateau-chalon-2011</td>\n",
       "      <td>2020-05-29 17:35:03</td>\n",
       "      <td>2020-05-29 15:35:03</td>\n",
       "      <td>NaN</td>\n",
       "      <td>0.0</td>\n",
       "      <td>https://www.bottle-neck.fr/?post_type=product&amp;...</td>\n",
       "      <td>0.0</td>\n",
       "      <td>product</td>\n",
       "      <td>NaN</td>\n",
       "      <td>0.0</td>\n",
       "    </tr>\n",
       "  </tbody>\n",
       "</table>\n",
       "<p>10 rows × 28 columns</p>\n",
       "</div>"
      ],
      "text/plain": [
       "     sku  virtual  downloadable  rating_count  average_rating  total_sales  \\\n",
       "0  16004        0             0             0             0.0          5.0   \n",
       "1    NaN        0             0             0             NaN          NaN   \n",
       "2  15075        0             0             0             0.0          3.0   \n",
       "3  16209        0             0             0             0.0          6.0   \n",
       "4  15763        0             0             0             0.0          1.0   \n",
       "5  13895        0             0             0             0.0          0.0   \n",
       "6  12857        0             0             0             0.0          0.0   \n",
       "7  15740        0             0             0             0.0          0.0   \n",
       "8  14253        0             0             0             0.0          0.0   \n",
       "9  14106        0             0             0             0.0          0.0   \n",
       "\n",
       "  tax_status  tax_class  post_author           post_date  ...  \\\n",
       "0        NaN        NaN          2.0 2018-06-07 16:27:25  ...   \n",
       "1        NaN        NaN          NaN                 NaT  ...   \n",
       "2    taxable        NaN          2.0 2018-02-14 15:39:43  ...   \n",
       "3    taxable        NaN          2.0 2018-02-14 17:15:31  ...   \n",
       "4        NaN        NaN          2.0 2020-01-25 14:08:16  ...   \n",
       "5    taxable        NaN          2.0 2019-03-19 10:41:50  ...   \n",
       "6    taxable        NaN          2.0 2018-04-12 17:56:13  ...   \n",
       "7        NaN        NaN          2.0 2020-04-25 12:32:17  ...   \n",
       "8        NaN        NaN          2.0 2018-02-20 15:29:32  ...   \n",
       "9    taxable        NaN          2.0 2019-06-08 09:54:21  ...   \n",
       "\n",
       "                                           post_name       post_modified  \\\n",
       "0                    chateau-du-couvent-pomerol-2017 2020-08-25 18:35:02   \n",
       "1                                                NaN                 NaT   \n",
       "2                  pares-balta-penedes-indigena-2017 2020-08-20 15:35:02   \n",
       "3                     maurel-cabardes-tradition-2017 2020-08-05 18:05:03   \n",
       "4  domaine-de-la-monardiere-vacqueyras-les-vieill... 2020-08-21 11:35:02   \n",
       "5         chateau-saransot-dupre-bordeaux-blanc-2016 2020-04-25 21:11:40   \n",
       "6  chateau-de-puligny-montrachet-1cru-champ-canet... 2020-02-06 16:35:02   \n",
       "7            jean-faure-saint-emilion-grand-cru-2015 2020-08-27 11:35:02   \n",
       "8            domaine-huet-vouvray-haut-lieu-sec-2016 2020-07-22 09:55:01   \n",
       "9                stephane-tissot-chateau-chalon-2011 2020-05-29 17:35:03   \n",
       "\n",
       "    post_modified_gmt post_content_filtered post_parent  \\\n",
       "0 2020-08-25 16:35:02                   NaN         0.0   \n",
       "1                 NaT                   NaN         NaN   \n",
       "2 2020-08-20 13:35:02                   NaN         0.0   \n",
       "3 2020-08-05 16:05:03                   NaN         0.0   \n",
       "4 2020-08-21 09:35:02                   NaN         0.0   \n",
       "5 2020-04-25 19:11:40                   NaN         0.0   \n",
       "6 2020-02-06 15:35:02                   NaN         0.0   \n",
       "7 2020-08-27 09:35:02                   NaN         0.0   \n",
       "8 2020-07-22 07:55:01                   NaN         0.0   \n",
       "9 2020-05-29 15:35:03                   NaN         0.0   \n",
       "\n",
       "                                                guid menu_order   post_type  \\\n",
       "0  https://www.bottle-neck.fr/wp-content/uploads/...        0.0  attachment   \n",
       "1                                                NaN        NaN         NaN   \n",
       "2  https://www.bottle-neck.fr/?post_type=product&...        0.0     product   \n",
       "3  https://www.bottle-neck.fr/?post_type=product&...        0.0     product   \n",
       "4  https://www.bottle-neck.fr/wp-content/uploads/...        0.0  attachment   \n",
       "5  https://www.bottle-neck.fr/?post_type=product&...        0.0     product   \n",
       "6  https://www.bottle-neck.fr/?post_type=product&...        0.0     product   \n",
       "7  https://www.bottle-neck.fr/wp-content/uploads/...        0.0  attachment   \n",
       "8  https://www.bottle-neck.fr/wp-content/uploads/...        0.0  attachment   \n",
       "9  https://www.bottle-neck.fr/?post_type=product&...        0.0     product   \n",
       "\n",
       "  post_mime_type comment_count  \n",
       "0     image/jpeg           0.0  \n",
       "1            NaN           NaN  \n",
       "2            NaN           0.0  \n",
       "3            NaN           0.0  \n",
       "4     image/jpeg           0.0  \n",
       "5            NaN           0.0  \n",
       "6            NaN           0.0  \n",
       "7     image/jpeg           0.0  \n",
       "8     image/jpeg           0.0  \n",
       "9            NaN           0.0  \n",
       "\n",
       "[10 rows x 28 columns]"
      ]
     },
     "execution_count": 10,
     "metadata": {},
     "output_type": "execute_result"
    }
   ],
   "source": [
    "web.head(10)"
   ]
  },
  {
   "cell_type": "code",
   "execution_count": 11,
   "metadata": {},
   "outputs": [
    {
     "data": {
      "text/plain": [
       "(1513, 28)"
      ]
     },
     "execution_count": 11,
     "metadata": {},
     "output_type": "execute_result"
    }
   ],
   "source": [
    "web.shape"
   ]
  },
  {
   "cell_type": "code",
   "execution_count": 12,
   "metadata": {},
   "outputs": [
    {
     "name": "stdout",
     "output_type": "stream",
     "text": [
      "<class 'pandas.core.frame.DataFrame'>\n",
      "RangeIndex: 1513 entries, 0 to 1512\n",
      "Data columns (total 28 columns):\n",
      " #   Column                 Non-Null Count  Dtype         \n",
      "---  ------                 --------------  -----         \n",
      " 0   sku                    1428 non-null   object        \n",
      " 1   virtual                1513 non-null   int64         \n",
      " 2   downloadable           1513 non-null   int64         \n",
      " 3   rating_count           1513 non-null   int64         \n",
      " 4   average_rating         1430 non-null   float64       \n",
      " 5   total_sales            1430 non-null   float64       \n",
      " 6   tax_status             716 non-null    object        \n",
      " 7   tax_class              0 non-null      float64       \n",
      " 8   post_author            1430 non-null   float64       \n",
      " 9   post_date              1430 non-null   datetime64[ns]\n",
      " 10  post_date_gmt          1430 non-null   datetime64[ns]\n",
      " 11  post_content           0 non-null      float64       \n",
      " 12  post_title             1430 non-null   object        \n",
      " 13  post_excerpt           716 non-null    object        \n",
      " 14  post_status            1430 non-null   object        \n",
      " 15  comment_status         1430 non-null   object        \n",
      " 16  ping_status            1430 non-null   object        \n",
      " 17  post_password          0 non-null      float64       \n",
      " 18  post_name              1430 non-null   object        \n",
      " 19  post_modified          1430 non-null   datetime64[ns]\n",
      " 20  post_modified_gmt      1430 non-null   datetime64[ns]\n",
      " 21  post_content_filtered  0 non-null      float64       \n",
      " 22  post_parent            1430 non-null   float64       \n",
      " 23  guid                   1430 non-null   object        \n",
      " 24  menu_order             1430 non-null   float64       \n",
      " 25  post_type              1430 non-null   object        \n",
      " 26  post_mime_type         714 non-null    object        \n",
      " 27  comment_count          1430 non-null   float64       \n",
      "dtypes: datetime64[ns](4), float64(10), int64(3), object(11)\n",
      "memory usage: 331.1+ KB\n"
     ]
    }
   ],
   "source": [
    "web.info()"
   ]
  },
  {
   "cell_type": "code",
   "execution_count": 13,
   "metadata": {},
   "outputs": [
    {
     "data": {
      "text/html": [
       "<div>\n",
       "<style scoped>\n",
       "    .dataframe tbody tr th:only-of-type {\n",
       "        vertical-align: middle;\n",
       "    }\n",
       "\n",
       "    .dataframe tbody tr th {\n",
       "        vertical-align: top;\n",
       "    }\n",
       "\n",
       "    .dataframe thead th {\n",
       "        text-align: right;\n",
       "    }\n",
       "</style>\n",
       "<table border=\"1\" class=\"dataframe\">\n",
       "  <thead>\n",
       "    <tr style=\"text-align: right;\">\n",
       "      <th></th>\n",
       "      <th>sku</th>\n",
       "      <th>virtual</th>\n",
       "      <th>downloadable</th>\n",
       "      <th>rating_count</th>\n",
       "      <th>average_rating</th>\n",
       "      <th>total_sales</th>\n",
       "      <th>tax_status</th>\n",
       "      <th>tax_class</th>\n",
       "      <th>post_author</th>\n",
       "      <th>post_date</th>\n",
       "      <th>...</th>\n",
       "      <th>post_name</th>\n",
       "      <th>post_modified</th>\n",
       "      <th>post_modified_gmt</th>\n",
       "      <th>post_content_filtered</th>\n",
       "      <th>post_parent</th>\n",
       "      <th>guid</th>\n",
       "      <th>menu_order</th>\n",
       "      <th>post_type</th>\n",
       "      <th>post_mime_type</th>\n",
       "      <th>comment_count</th>\n",
       "    </tr>\n",
       "  </thead>\n",
       "  <tbody>\n",
       "    <tr>\n",
       "      <th>count</th>\n",
       "      <td>1428.0</td>\n",
       "      <td>1513.0</td>\n",
       "      <td>1513.0</td>\n",
       "      <td>1513.0</td>\n",
       "      <td>1430.0</td>\n",
       "      <td>1430.000000</td>\n",
       "      <td>716</td>\n",
       "      <td>0.0</td>\n",
       "      <td>1430.000000</td>\n",
       "      <td>1430</td>\n",
       "      <td>...</td>\n",
       "      <td>1430</td>\n",
       "      <td>1430</td>\n",
       "      <td>1430</td>\n",
       "      <td>0.0</td>\n",
       "      <td>1430.0</td>\n",
       "      <td>1430</td>\n",
       "      <td>1430.0</td>\n",
       "      <td>1430</td>\n",
       "      <td>714</td>\n",
       "      <td>1430.0</td>\n",
       "    </tr>\n",
       "    <tr>\n",
       "      <th>unique</th>\n",
       "      <td>714.0</td>\n",
       "      <td>NaN</td>\n",
       "      <td>NaN</td>\n",
       "      <td>NaN</td>\n",
       "      <td>NaN</td>\n",
       "      <td>NaN</td>\n",
       "      <td>1</td>\n",
       "      <td>NaN</td>\n",
       "      <td>NaN</td>\n",
       "      <td>NaN</td>\n",
       "      <td>...</td>\n",
       "      <td>716</td>\n",
       "      <td>NaN</td>\n",
       "      <td>NaN</td>\n",
       "      <td>NaN</td>\n",
       "      <td>NaN</td>\n",
       "      <td>1429</td>\n",
       "      <td>NaN</td>\n",
       "      <td>2</td>\n",
       "      <td>1</td>\n",
       "      <td>NaN</td>\n",
       "    </tr>\n",
       "    <tr>\n",
       "      <th>top</th>\n",
       "      <td>16004.0</td>\n",
       "      <td>NaN</td>\n",
       "      <td>NaN</td>\n",
       "      <td>NaN</td>\n",
       "      <td>NaN</td>\n",
       "      <td>NaN</td>\n",
       "      <td>taxable</td>\n",
       "      <td>NaN</td>\n",
       "      <td>NaN</td>\n",
       "      <td>NaN</td>\n",
       "      <td>...</td>\n",
       "      <td>chateau-du-couvent-pomerol-2017</td>\n",
       "      <td>NaN</td>\n",
       "      <td>NaN</td>\n",
       "      <td>NaN</td>\n",
       "      <td>NaN</td>\n",
       "      <td>https://www.bottle-neck.fr/?post_type=product&amp;...</td>\n",
       "      <td>NaN</td>\n",
       "      <td>product</td>\n",
       "      <td>image/jpeg</td>\n",
       "      <td>NaN</td>\n",
       "    </tr>\n",
       "    <tr>\n",
       "      <th>freq</th>\n",
       "      <td>2.0</td>\n",
       "      <td>NaN</td>\n",
       "      <td>NaN</td>\n",
       "      <td>NaN</td>\n",
       "      <td>NaN</td>\n",
       "      <td>NaN</td>\n",
       "      <td>716</td>\n",
       "      <td>NaN</td>\n",
       "      <td>NaN</td>\n",
       "      <td>NaN</td>\n",
       "      <td>...</td>\n",
       "      <td>2</td>\n",
       "      <td>NaN</td>\n",
       "      <td>NaN</td>\n",
       "      <td>NaN</td>\n",
       "      <td>NaN</td>\n",
       "      <td>2</td>\n",
       "      <td>NaN</td>\n",
       "      <td>716</td>\n",
       "      <td>714</td>\n",
       "      <td>NaN</td>\n",
       "    </tr>\n",
       "    <tr>\n",
       "      <th>mean</th>\n",
       "      <td>NaN</td>\n",
       "      <td>0.0</td>\n",
       "      <td>0.0</td>\n",
       "      <td>0.0</td>\n",
       "      <td>0.0</td>\n",
       "      <td>3.855245</td>\n",
       "      <td>NaN</td>\n",
       "      <td>NaN</td>\n",
       "      <td>1.998601</td>\n",
       "      <td>2018-08-22 03:22:17.090909184</td>\n",
       "      <td>...</td>\n",
       "      <td>NaN</td>\n",
       "      <td>2020-06-20 13:59:29.781818112</td>\n",
       "      <td>2020-06-20 12:06:02.509090816</td>\n",
       "      <td>NaN</td>\n",
       "      <td>0.0</td>\n",
       "      <td>NaN</td>\n",
       "      <td>0.0</td>\n",
       "      <td>NaN</td>\n",
       "      <td>NaN</td>\n",
       "      <td>0.0</td>\n",
       "    </tr>\n",
       "    <tr>\n",
       "      <th>min</th>\n",
       "      <td>NaN</td>\n",
       "      <td>0.0</td>\n",
       "      <td>0.0</td>\n",
       "      <td>0.0</td>\n",
       "      <td>0.0</td>\n",
       "      <td>0.000000</td>\n",
       "      <td>NaN</td>\n",
       "      <td>NaN</td>\n",
       "      <td>1.000000</td>\n",
       "      <td>2018-02-08 12:58:52</td>\n",
       "      <td>...</td>\n",
       "      <td>NaN</td>\n",
       "      <td>2018-02-20 15:19:23</td>\n",
       "      <td>2018-02-20 14:19:23</td>\n",
       "      <td>NaN</td>\n",
       "      <td>0.0</td>\n",
       "      <td>NaN</td>\n",
       "      <td>0.0</td>\n",
       "      <td>NaN</td>\n",
       "      <td>NaN</td>\n",
       "      <td>0.0</td>\n",
       "    </tr>\n",
       "    <tr>\n",
       "      <th>25%</th>\n",
       "      <td>NaN</td>\n",
       "      <td>0.0</td>\n",
       "      <td>0.0</td>\n",
       "      <td>0.0</td>\n",
       "      <td>0.0</td>\n",
       "      <td>0.000000</td>\n",
       "      <td>NaN</td>\n",
       "      <td>NaN</td>\n",
       "      <td>2.000000</td>\n",
       "      <td>2018-02-27 20:01:12.500000</td>\n",
       "      <td>...</td>\n",
       "      <td>NaN</td>\n",
       "      <td>2020-06-18 10:45:05.249999872</td>\n",
       "      <td>2020-06-18 08:45:05.249999872</td>\n",
       "      <td>NaN</td>\n",
       "      <td>0.0</td>\n",
       "      <td>NaN</td>\n",
       "      <td>0.0</td>\n",
       "      <td>NaN</td>\n",
       "      <td>NaN</td>\n",
       "      <td>0.0</td>\n",
       "    </tr>\n",
       "    <tr>\n",
       "      <th>50%</th>\n",
       "      <td>NaN</td>\n",
       "      <td>0.0</td>\n",
       "      <td>0.0</td>\n",
       "      <td>0.0</td>\n",
       "      <td>0.0</td>\n",
       "      <td>1.000000</td>\n",
       "      <td>NaN</td>\n",
       "      <td>NaN</td>\n",
       "      <td>2.000000</td>\n",
       "      <td>2018-04-19 14:56:05</td>\n",
       "      <td>...</td>\n",
       "      <td>NaN</td>\n",
       "      <td>2020-08-04 09:30:06</td>\n",
       "      <td>2020-08-04 07:30:06</td>\n",
       "      <td>NaN</td>\n",
       "      <td>0.0</td>\n",
       "      <td>NaN</td>\n",
       "      <td>0.0</td>\n",
       "      <td>NaN</td>\n",
       "      <td>NaN</td>\n",
       "      <td>0.0</td>\n",
       "    </tr>\n",
       "    <tr>\n",
       "      <th>75%</th>\n",
       "      <td>NaN</td>\n",
       "      <td>0.0</td>\n",
       "      <td>0.0</td>\n",
       "      <td>0.0</td>\n",
       "      <td>0.0</td>\n",
       "      <td>4.000000</td>\n",
       "      <td>NaN</td>\n",
       "      <td>NaN</td>\n",
       "      <td>2.000000</td>\n",
       "      <td>2019-01-31 14:35:47</td>\n",
       "      <td>...</td>\n",
       "      <td>NaN</td>\n",
       "      <td>2020-08-25 10:32:32</td>\n",
       "      <td>2020-08-25 08:32:32</td>\n",
       "      <td>NaN</td>\n",
       "      <td>0.0</td>\n",
       "      <td>NaN</td>\n",
       "      <td>0.0</td>\n",
       "      <td>NaN</td>\n",
       "      <td>NaN</td>\n",
       "      <td>0.0</td>\n",
       "    </tr>\n",
       "    <tr>\n",
       "      <th>max</th>\n",
       "      <td>NaN</td>\n",
       "      <td>0.0</td>\n",
       "      <td>0.0</td>\n",
       "      <td>0.0</td>\n",
       "      <td>0.0</td>\n",
       "      <td>96.000000</td>\n",
       "      <td>NaN</td>\n",
       "      <td>NaN</td>\n",
       "      <td>2.000000</td>\n",
       "      <td>2020-07-20 11:00:00</td>\n",
       "      <td>...</td>\n",
       "      <td>NaN</td>\n",
       "      <td>2020-08-27 18:55:03</td>\n",
       "      <td>2020-08-27 16:55:03</td>\n",
       "      <td>NaN</td>\n",
       "      <td>0.0</td>\n",
       "      <td>NaN</td>\n",
       "      <td>0.0</td>\n",
       "      <td>NaN</td>\n",
       "      <td>NaN</td>\n",
       "      <td>0.0</td>\n",
       "    </tr>\n",
       "    <tr>\n",
       "      <th>std</th>\n",
       "      <td>NaN</td>\n",
       "      <td>0.0</td>\n",
       "      <td>0.0</td>\n",
       "      <td>0.0</td>\n",
       "      <td>0.0</td>\n",
       "      <td>7.702346</td>\n",
       "      <td>NaN</td>\n",
       "      <td>NaN</td>\n",
       "      <td>0.037385</td>\n",
       "      <td>NaN</td>\n",
       "      <td>...</td>\n",
       "      <td>NaN</td>\n",
       "      <td>NaN</td>\n",
       "      <td>NaN</td>\n",
       "      <td>NaN</td>\n",
       "      <td>0.0</td>\n",
       "      <td>NaN</td>\n",
       "      <td>0.0</td>\n",
       "      <td>NaN</td>\n",
       "      <td>NaN</td>\n",
       "      <td>0.0</td>\n",
       "    </tr>\n",
       "  </tbody>\n",
       "</table>\n",
       "<p>11 rows × 28 columns</p>\n",
       "</div>"
      ],
      "text/plain": [
       "            sku  virtual  downloadable  rating_count  average_rating  \\\n",
       "count    1428.0   1513.0        1513.0        1513.0          1430.0   \n",
       "unique    714.0      NaN           NaN           NaN             NaN   \n",
       "top     16004.0      NaN           NaN           NaN             NaN   \n",
       "freq        2.0      NaN           NaN           NaN             NaN   \n",
       "mean        NaN      0.0           0.0           0.0             0.0   \n",
       "min         NaN      0.0           0.0           0.0             0.0   \n",
       "25%         NaN      0.0           0.0           0.0             0.0   \n",
       "50%         NaN      0.0           0.0           0.0             0.0   \n",
       "75%         NaN      0.0           0.0           0.0             0.0   \n",
       "max         NaN      0.0           0.0           0.0             0.0   \n",
       "std         NaN      0.0           0.0           0.0             0.0   \n",
       "\n",
       "        total_sales tax_status  tax_class  post_author  \\\n",
       "count   1430.000000        716        0.0  1430.000000   \n",
       "unique          NaN          1        NaN          NaN   \n",
       "top             NaN    taxable        NaN          NaN   \n",
       "freq            NaN        716        NaN          NaN   \n",
       "mean       3.855245        NaN        NaN     1.998601   \n",
       "min        0.000000        NaN        NaN     1.000000   \n",
       "25%        0.000000        NaN        NaN     2.000000   \n",
       "50%        1.000000        NaN        NaN     2.000000   \n",
       "75%        4.000000        NaN        NaN     2.000000   \n",
       "max       96.000000        NaN        NaN     2.000000   \n",
       "std        7.702346        NaN        NaN     0.037385   \n",
       "\n",
       "                            post_date  ...                        post_name  \\\n",
       "count                            1430  ...                             1430   \n",
       "unique                            NaN  ...                              716   \n",
       "top                               NaN  ...  chateau-du-couvent-pomerol-2017   \n",
       "freq                              NaN  ...                                2   \n",
       "mean    2018-08-22 03:22:17.090909184  ...                              NaN   \n",
       "min               2018-02-08 12:58:52  ...                              NaN   \n",
       "25%        2018-02-27 20:01:12.500000  ...                              NaN   \n",
       "50%               2018-04-19 14:56:05  ...                              NaN   \n",
       "75%               2019-01-31 14:35:47  ...                              NaN   \n",
       "max               2020-07-20 11:00:00  ...                              NaN   \n",
       "std                               NaN  ...                              NaN   \n",
       "\n",
       "                        post_modified              post_modified_gmt  \\\n",
       "count                            1430                           1430   \n",
       "unique                            NaN                            NaN   \n",
       "top                               NaN                            NaN   \n",
       "freq                              NaN                            NaN   \n",
       "mean    2020-06-20 13:59:29.781818112  2020-06-20 12:06:02.509090816   \n",
       "min               2018-02-20 15:19:23            2018-02-20 14:19:23   \n",
       "25%     2020-06-18 10:45:05.249999872  2020-06-18 08:45:05.249999872   \n",
       "50%               2020-08-04 09:30:06            2020-08-04 07:30:06   \n",
       "75%               2020-08-25 10:32:32            2020-08-25 08:32:32   \n",
       "max               2020-08-27 18:55:03            2020-08-27 16:55:03   \n",
       "std                               NaN                            NaN   \n",
       "\n",
       "       post_content_filtered post_parent  \\\n",
       "count                    0.0      1430.0   \n",
       "unique                   NaN         NaN   \n",
       "top                      NaN         NaN   \n",
       "freq                     NaN         NaN   \n",
       "mean                     NaN         0.0   \n",
       "min                      NaN         0.0   \n",
       "25%                      NaN         0.0   \n",
       "50%                      NaN         0.0   \n",
       "75%                      NaN         0.0   \n",
       "max                      NaN         0.0   \n",
       "std                      NaN         0.0   \n",
       "\n",
       "                                                     guid menu_order  \\\n",
       "count                                                1430     1430.0   \n",
       "unique                                               1429        NaN   \n",
       "top     https://www.bottle-neck.fr/?post_type=product&...        NaN   \n",
       "freq                                                    2        NaN   \n",
       "mean                                                  NaN        0.0   \n",
       "min                                                   NaN        0.0   \n",
       "25%                                                   NaN        0.0   \n",
       "50%                                                   NaN        0.0   \n",
       "75%                                                   NaN        0.0   \n",
       "max                                                   NaN        0.0   \n",
       "std                                                   NaN        0.0   \n",
       "\n",
       "        post_type post_mime_type comment_count  \n",
       "count        1430            714        1430.0  \n",
       "unique          2              1           NaN  \n",
       "top       product     image/jpeg           NaN  \n",
       "freq          716            714           NaN  \n",
       "mean          NaN            NaN           0.0  \n",
       "min           NaN            NaN           0.0  \n",
       "25%           NaN            NaN           0.0  \n",
       "50%           NaN            NaN           0.0  \n",
       "75%           NaN            NaN           0.0  \n",
       "max           NaN            NaN           0.0  \n",
       "std           NaN            NaN           0.0  \n",
       "\n",
       "[11 rows x 28 columns]"
      ]
     },
     "execution_count": 13,
     "metadata": {},
     "output_type": "execute_result"
    }
   ],
   "source": [
    "web.describe(include=\"all\")"
   ]
  },
  {
   "cell_type": "markdown",
   "metadata": {},
   "source": [
    "#### 1.2.2. Nettoyage du fichier"
   ]
  },
  {
   "cell_type": "code",
   "execution_count": 14,
   "metadata": {},
   "outputs": [],
   "source": [
    "# Supprimer les colonnes avec des valeurs nulles, '0', et les information inutiles\n",
    "list_drop = ['virtual', 'downloadable', 'rating_count', 'average_rating', 'tax_class', 'post_content', 'post_password', 'post_content_filtered', 'post_parent', 'menu_order', 'post_mime_type', 'comment_count', 'post_title','post_date_gmt','guid', 'post_modified'] \n",
    "web = web.drop(list_drop,axis = 1)"
   ]
  },
  {
   "cell_type": "code",
   "execution_count": 15,
   "metadata": {},
   "outputs": [
    {
     "name": "stdout",
     "output_type": "stream",
     "text": [
      "<class 'pandas.core.frame.DataFrame'>\n",
      "RangeIndex: 1513 entries, 0 to 1512\n",
      "Data columns (total 12 columns):\n",
      " #   Column             Non-Null Count  Dtype         \n",
      "---  ------             --------------  -----         \n",
      " 0   sku                1428 non-null   object        \n",
      " 1   total_sales        1430 non-null   float64       \n",
      " 2   tax_status         716 non-null    object        \n",
      " 3   post_author        1430 non-null   float64       \n",
      " 4   post_date          1430 non-null   datetime64[ns]\n",
      " 5   post_excerpt       716 non-null    object        \n",
      " 6   post_status        1430 non-null   object        \n",
      " 7   comment_status     1430 non-null   object        \n",
      " 8   ping_status        1430 non-null   object        \n",
      " 9   post_name          1430 non-null   object        \n",
      " 10  post_modified_gmt  1430 non-null   datetime64[ns]\n",
      " 11  post_type          1430 non-null   object        \n",
      "dtypes: datetime64[ns](2), float64(2), object(8)\n",
      "memory usage: 142.0+ KB\n"
     ]
    }
   ],
   "source": [
    "web.info()"
   ]
  },
  {
   "cell_type": "code",
   "execution_count": 16,
   "metadata": {},
   "outputs": [],
   "source": [
    "#Changer le nom de la colonne 'sku' en 'id_web'\n",
    "web = web.rename(columns={'sku':'id_web'})"
   ]
  },
  {
   "cell_type": "code",
   "execution_count": 17,
   "metadata": {},
   "outputs": [
    {
     "data": {
      "text/plain": [
       "array([16004, nan, 15075, 16209, 15763, 13895, 12857, 15740, 14253, 14106,\n",
       "       13996, 16146, 15895, 15861, 15428, 15310, 14372, 812, 7033, 7032,\n",
       "       16077, 16237, 16028, 1364, 13913, 15202, 15576, 19815, 15148,\n",
       "       15774, 14982, 15339, 15382, 15325, 15945, 14941, 15241, 12641,\n",
       "       16269, 12942, 15344, 15661, 16274, 14661, 15718, 14395, 15254,\n",
       "       16056, 14839, 13957, 15476, 13515, 15004, 15070, 15032, 16042,\n",
       "       16063, 11602, 16005, 16283, 15615, 15206, 13520, 19821, 15296,\n",
       "       11847, 14371, 15678, 16416, 16130, 15921, 15378, 15141, 14805,\n",
       "       16044, 16238, 16129, 15280, 15038, 16081, 16281, 16505, 15880,\n",
       "       14101, 16527, 15649, 16072, 15621, 14604, 15329, 15812, 15733,\n",
       "       15237, 16191, 14099, 15711, 15261, 15790, 12194, 15414, 15482,\n",
       "       15030, 14950, 15892, 13412, 15425, 16567, 13762, 16246, 807, 15316,\n",
       "       15933, 15868, 15478, 15444, 15269, 14000, 16186, 13904, 16043,\n",
       "       16247, 793, 14302, 14192, 14508, 10775, 15448, 15736, 15648, 15342,\n",
       "       16148, 12476, 15735, 15196, 16071, 13531, 3568, 13969, 14632,\n",
       "       12869, 16564, 15670, 15306, 15047, 14975, 11668, 13435, 16263,\n",
       "       14506, 15527, 804, 14580, 15490, 16189, 15714, 13089, 14802, 14800,\n",
       "       16053, 14944, 16264, 11586, 14573, 15303, 15213, 15345, 15461,\n",
       "       14746, 13959, 15657, 16151, 14092, 15479, 15887, 8193, 15891,\n",
       "       15928, 'bon-cadeau-25-euros', 12585, 15033, 12791, 13910, 16210,\n",
       "       15526, 14323, 16342, 13567, 15850, 3506, 11258, 14338, 12599,\n",
       "       15665, 3383, 13211, 14657, 14899, 16244, 15818, 15328, 15361, 2179,\n",
       "       16318, 2361, 14095, 16328, 7086, 16586, 15240, 16024, 16013, 11601,\n",
       "       13052, 15658, 3509, 16153, 15315, 16067, 15318, 13514, 15360,\n",
       "       16030, 14855, 15436, 16230, 16305, 15179, 16066, 15205, 15729,\n",
       "       15402, 16262, 15860, 16578, 14509, 15473, 16138, 15829, 16144,\n",
       "       14332, 16304, 15715, 16295, 13849, 13765, 15204, 15462, 15944,\n",
       "       15776, 14945, 16160, 16147, 14626, 15863, 16154, 14485, 15811,\n",
       "       15934, 15155, 15813, 15629, 16553, 15413, 15434, 15662, 14581,\n",
       "       13914, 16166, 19820, 16135, 12339, 15134, 15952, 12366, 15706,\n",
       "       12882, 14768, 16317, 16525, 14149, 15704, 12657, 16324, 16322,\n",
       "       15147, 15930, 16093, 16096, 14865, 11669, 13854, 805, 16537, 14930,\n",
       "       16239, 15672, 15404, 13460, 12365, 13291, 15441, 16229, 15337,\n",
       "       15655, 15612, 12588, 15300, 15185, 19814, 14897, 15756, 14915,\n",
       "       12203, 15577, 15292, 14856, 14241, 15140, 15791, 15795, 3510,\n",
       "       16155, 15845, 15567, 15753, 15797, 15282, 15574, 15922, 15958,\n",
       "       14374, 15927, 15530, 16529, 15415, 16023, 15720, 13209, 12771,\n",
       "       14679, 12640, 13096, 15429, 16062, 15487, 11736, 11585, 15614,\n",
       "       16539, 14570, 15870, 15631, 15264, 14366, 15647, 16037, 14265,\n",
       "       12587, 14955, 13215, 16498, 15486, 15183, 15656, 13627, 19822,\n",
       "       11049, 15794, 15946, 14696, 5646, 14100, 14729, 15881, 16255,\n",
       "       16565, 16211, 15862, 13074, 16585, 15145, 13736, 13453, 14220,\n",
       "       7819, 16256, 16014, 523, 16192, 14775, 14844, '13127-1', 13073,\n",
       "       2534, 15713, 13965, 15748, 13032, 4679, 16540, 15533, 15676, 14864,\n",
       "       15138, 13217, 13072, 13230, 15525, 15338, 14774, 15136, 15737,\n",
       "       16261, 15298, 15664, 15792, 16057, 14912, 15178, 16472, 15561,\n",
       "       15281, 16580, 15675, 10014, 15426, 802, 16159, 15403, 15859, 15073,\n",
       "       16022, 15674, 13958, 15663, 15775, 14797, 16047, 15781, 15783,\n",
       "       14596, 11996, 15683, 14809, 15808, 14089, 15481, 13809, 15707,\n",
       "       15201, 15583, 13313, 15767, 14692, 15731, 15613, 16330, 14819,\n",
       "       13853, 16190, 14905, 11467, 12315, 15849, 15127, 14725, 14599,\n",
       "       15554, 8365, 798, 14828, 16121, 16131, 14700, 16280, 16094, 15848,\n",
       "       13662, 15349, 13557, 14561, 14773, 16497, 14184, 16031, 14980,\n",
       "       15839, 15690, 15688, 15072, 14300, 16307, 15475, 15910, 12496,\n",
       "       15539, 15452, 15785, 13814, 14569, 15705, 41, 15793, 15184, 13117,\n",
       "       13766, 11849, 14461, 16029, 11587, 15125, 14469, 16273, 16306,\n",
       "       15162, 16326, 15766, 16120, 13379, 15036, 13572, 15582, 16045,\n",
       "       15095, 16010, 15149, 13172, 7818, 15732, 15834, 15787, 304, 15341,\n",
       "       8344, 15755, 15779, 15369, 8463, 15745, 15375, 12586, 16289, 15810,\n",
       "       15967, 16296, 16515, 16119, 14474, 13647, 9562, 15801, 11862,\n",
       "       16152, 15373, 16319, 531, 14756, 15864, 12790, 12639, 15869, 15660,\n",
       "       14680, 15161, 15163, 13517, 11933, 15440, 15784, 15126, 15324,\n",
       "       14429, 15471, 11641, 14699, 19816, 15080, 16320, 9636, 11277, 791,\n",
       "       15256, 15531, 16504, 16097, 15238, 16275, 16265, 13127, 14090,\n",
       "       15346, 6616, 15875, 16124, 16501, 16213, 15654, 15489, 15480,\n",
       "       14981, 16560, 15951, 15466, 15807, 15769, 15353, 14507, 16180,\n",
       "       14751, 15035, 15741, 15773, 15717, 16034, 16039, 15399, 16449,\n",
       "       15283, 15668, 15759, 15307, 15747, 16132, 16038, 13078, 16041,\n",
       "       15564, 14141, 15677, 12045, 15026, 15730, 15879, 15605, 1366,\n",
       "       15120, 14527, 14647, 15229, 16277, 15856, 16323, 15953, 16046,\n",
       "       15786, 12494, 15871, 13604, 16276, 16292, 15746, 1662, 15966,\n",
       "       13982, 15949, 15022, 15734, 12589, 14600, 15146, 15227, 15667,\n",
       "       15457, 16513, 38, 14451, 15566, 9937, 15923, 16149, 11225, 13754,\n",
       "       13905, 14736, 14977, 11997, 15659, 16133, 16003, 14983, 16069,\n",
       "       15764, 15941, 14923, 15770, 15710, 15343, 3507, 10459, 15432,\n",
       "       13516, 16462, 10814, 13659, 15106, 14712, 14676, 13416, 15758,\n",
       "       15351, 15465, 15116, 15940, 15456, 14845, 16065, 14827, 1360,\n",
       "       13599, 12881, 16068, 15575, 15857, 16011, 15180], dtype=object)"
      ]
     },
     "execution_count": 17,
     "metadata": {},
     "output_type": "execute_result"
    }
   ],
   "source": [
    "# chercher les données erreurs\n",
    "web.id_web.unique()"
   ]
  },
  {
   "cell_type": "markdown",
   "metadata": {},
   "source": [
    "La donnée 'bon-cadeau-25-euros' n'est pas normalisée comme les autres, mais nous la conservons car celà n'a pas d'impact.\n",
    "\n",
    "une donnée apparait avec un '-1' et doit être corrigée."
   ]
  },
  {
   "cell_type": "code",
   "execution_count": 18,
   "metadata": {},
   "outputs": [],
   "source": [
    "# Ramplacer le donnée '13127-1'  par '13127'\n",
    "web['id_web'].replace(['13127-1'], 13127, inplace=True)"
   ]
  },
  {
   "cell_type": "code",
   "execution_count": 19,
   "metadata": {},
   "outputs": [
    {
     "data": {
      "text/plain": [
       "id_web                85\n",
       "total_sales           83\n",
       "tax_status           797\n",
       "post_author           83\n",
       "post_date             83\n",
       "post_excerpt         797\n",
       "post_status           83\n",
       "comment_status        83\n",
       "ping_status           83\n",
       "post_name             83\n",
       "post_modified_gmt     83\n",
       "post_type             83\n",
       "dtype: int64"
      ]
     },
     "execution_count": 19,
     "metadata": {},
     "output_type": "execute_result"
    }
   ],
   "source": [
    "web.isnull().sum()"
   ]
  },
  {
   "cell_type": "code",
   "execution_count": 20,
   "metadata": {},
   "outputs": [
    {
     "data": {
      "text/html": [
       "<div>\n",
       "<style scoped>\n",
       "    .dataframe tbody tr th:only-of-type {\n",
       "        vertical-align: middle;\n",
       "    }\n",
       "\n",
       "    .dataframe tbody tr th {\n",
       "        vertical-align: top;\n",
       "    }\n",
       "\n",
       "    .dataframe thead th {\n",
       "        text-align: right;\n",
       "    }\n",
       "</style>\n",
       "<table border=\"1\" class=\"dataframe\">\n",
       "  <thead>\n",
       "    <tr style=\"text-align: right;\">\n",
       "      <th></th>\n",
       "      <th>id_web</th>\n",
       "      <th>total_sales</th>\n",
       "      <th>tax_status</th>\n",
       "      <th>post_author</th>\n",
       "      <th>post_date</th>\n",
       "      <th>post_excerpt</th>\n",
       "      <th>post_status</th>\n",
       "      <th>comment_status</th>\n",
       "      <th>ping_status</th>\n",
       "      <th>post_name</th>\n",
       "      <th>post_modified_gmt</th>\n",
       "      <th>post_type</th>\n",
       "    </tr>\n",
       "  </thead>\n",
       "  <tbody>\n",
       "    <tr>\n",
       "      <th>0</th>\n",
       "      <td>16004</td>\n",
       "      <td>5.0</td>\n",
       "      <td>NaN</td>\n",
       "      <td>2.0</td>\n",
       "      <td>2018-06-07 16:27:25</td>\n",
       "      <td>NaN</td>\n",
       "      <td>publish</td>\n",
       "      <td>closed</td>\n",
       "      <td>closed</td>\n",
       "      <td>chateau-du-couvent-pomerol-2017</td>\n",
       "      <td>2020-08-25 16:35:02</td>\n",
       "      <td>attachment</td>\n",
       "    </tr>\n",
       "    <tr>\n",
       "      <th>1</th>\n",
       "      <td>NaN</td>\n",
       "      <td>NaN</td>\n",
       "      <td>NaN</td>\n",
       "      <td>NaN</td>\n",
       "      <td>NaT</td>\n",
       "      <td>NaN</td>\n",
       "      <td>NaN</td>\n",
       "      <td>NaN</td>\n",
       "      <td>NaN</td>\n",
       "      <td>NaN</td>\n",
       "      <td>NaT</td>\n",
       "      <td>NaN</td>\n",
       "    </tr>\n",
       "    <tr>\n",
       "      <th>4</th>\n",
       "      <td>15763</td>\n",
       "      <td>1.0</td>\n",
       "      <td>NaN</td>\n",
       "      <td>2.0</td>\n",
       "      <td>2020-01-25 14:08:16</td>\n",
       "      <td>NaN</td>\n",
       "      <td>publish</td>\n",
       "      <td>closed</td>\n",
       "      <td>closed</td>\n",
       "      <td>domaine-de-la-monardiere-vacqueyras-les-vieill...</td>\n",
       "      <td>2020-08-21 09:35:02</td>\n",
       "      <td>attachment</td>\n",
       "    </tr>\n",
       "    <tr>\n",
       "      <th>7</th>\n",
       "      <td>15740</td>\n",
       "      <td>0.0</td>\n",
       "      <td>NaN</td>\n",
       "      <td>2.0</td>\n",
       "      <td>2020-04-25 12:32:17</td>\n",
       "      <td>NaN</td>\n",
       "      <td>publish</td>\n",
       "      <td>closed</td>\n",
       "      <td>closed</td>\n",
       "      <td>jean-faure-saint-emilion-grand-cru-2015</td>\n",
       "      <td>2020-08-27 09:35:02</td>\n",
       "      <td>attachment</td>\n",
       "    </tr>\n",
       "    <tr>\n",
       "      <th>8</th>\n",
       "      <td>14253</td>\n",
       "      <td>0.0</td>\n",
       "      <td>NaN</td>\n",
       "      <td>2.0</td>\n",
       "      <td>2018-02-20 15:29:32</td>\n",
       "      <td>NaN</td>\n",
       "      <td>publish</td>\n",
       "      <td>closed</td>\n",
       "      <td>closed</td>\n",
       "      <td>domaine-huet-vouvray-haut-lieu-sec-2016</td>\n",
       "      <td>2020-07-22 07:55:01</td>\n",
       "      <td>attachment</td>\n",
       "    </tr>\n",
       "    <tr>\n",
       "      <th>...</th>\n",
       "      <td>...</td>\n",
       "      <td>...</td>\n",
       "      <td>...</td>\n",
       "      <td>...</td>\n",
       "      <td>...</td>\n",
       "      <td>...</td>\n",
       "      <td>...</td>\n",
       "      <td>...</td>\n",
       "      <td>...</td>\n",
       "      <td>...</td>\n",
       "      <td>...</td>\n",
       "      <td>...</td>\n",
       "    </tr>\n",
       "    <tr>\n",
       "      <th>1505</th>\n",
       "      <td>15949</td>\n",
       "      <td>1.0</td>\n",
       "      <td>NaN</td>\n",
       "      <td>2.0</td>\n",
       "      <td>2018-02-28 16:37:33</td>\n",
       "      <td>NaN</td>\n",
       "      <td>publish</td>\n",
       "      <td>closed</td>\n",
       "      <td>closed</td>\n",
       "      <td>domaine-de-lidylle-savoie-roussette-2018</td>\n",
       "      <td>2020-06-02 14:55:03</td>\n",
       "      <td>attachment</td>\n",
       "    </tr>\n",
       "    <tr>\n",
       "      <th>1506</th>\n",
       "      <td>7033</td>\n",
       "      <td>4.0</td>\n",
       "      <td>NaN</td>\n",
       "      <td>2.0</td>\n",
       "      <td>2019-03-13 13:44:44</td>\n",
       "      <td>NaN</td>\n",
       "      <td>publish</td>\n",
       "      <td>closed</td>\n",
       "      <td>closed</td>\n",
       "      <td>huile-olive-planeta-3l</td>\n",
       "      <td>2020-08-27 12:55:02</td>\n",
       "      <td>attachment</td>\n",
       "    </tr>\n",
       "    <tr>\n",
       "      <th>1508</th>\n",
       "      <td>12881</td>\n",
       "      <td>2.0</td>\n",
       "      <td>NaN</td>\n",
       "      <td>2.0</td>\n",
       "      <td>2019-03-28 15:25:14</td>\n",
       "      <td>NaN</td>\n",
       "      <td>publish</td>\n",
       "      <td>closed</td>\n",
       "      <td>closed</td>\n",
       "      <td>montbourgeau-etoile-vin-jaune-2009</td>\n",
       "      <td>2019-12-30 09:30:01</td>\n",
       "      <td>attachment</td>\n",
       "    </tr>\n",
       "    <tr>\n",
       "      <th>1511</th>\n",
       "      <td>38</td>\n",
       "      <td>38.0</td>\n",
       "      <td>NaN</td>\n",
       "      <td>2.0</td>\n",
       "      <td>2018-04-18 12:25:58</td>\n",
       "      <td>NaN</td>\n",
       "      <td>publish</td>\n",
       "      <td>closed</td>\n",
       "      <td>closed</td>\n",
       "      <td>emile-boeckel-cremant-brut-blanc-de-blancs</td>\n",
       "      <td>2020-08-27 15:15:03</td>\n",
       "      <td>attachment</td>\n",
       "    </tr>\n",
       "    <tr>\n",
       "      <th>1512</th>\n",
       "      <td>13599</td>\n",
       "      <td>1.0</td>\n",
       "      <td>NaN</td>\n",
       "      <td>2.0</td>\n",
       "      <td>2018-03-01 14:12:39</td>\n",
       "      <td>NaN</td>\n",
       "      <td>publish</td>\n",
       "      <td>closed</td>\n",
       "      <td>closed</td>\n",
       "      <td>champagne-mailly-grand-cru-blanc-de-pinot-noir</td>\n",
       "      <td>2020-08-26 16:05:02</td>\n",
       "      <td>attachment</td>\n",
       "    </tr>\n",
       "  </tbody>\n",
       "</table>\n",
       "<p>799 rows × 12 columns</p>\n",
       "</div>"
      ],
      "text/plain": [
       "     id_web  total_sales tax_status  post_author           post_date  \\\n",
       "0     16004          5.0        NaN          2.0 2018-06-07 16:27:25   \n",
       "1       NaN          NaN        NaN          NaN                 NaT   \n",
       "4     15763          1.0        NaN          2.0 2020-01-25 14:08:16   \n",
       "7     15740          0.0        NaN          2.0 2020-04-25 12:32:17   \n",
       "8     14253          0.0        NaN          2.0 2018-02-20 15:29:32   \n",
       "...     ...          ...        ...          ...                 ...   \n",
       "1505  15949          1.0        NaN          2.0 2018-02-28 16:37:33   \n",
       "1506   7033          4.0        NaN          2.0 2019-03-13 13:44:44   \n",
       "1508  12881          2.0        NaN          2.0 2019-03-28 15:25:14   \n",
       "1511     38         38.0        NaN          2.0 2018-04-18 12:25:58   \n",
       "1512  13599          1.0        NaN          2.0 2018-03-01 14:12:39   \n",
       "\n",
       "     post_excerpt post_status comment_status ping_status  \\\n",
       "0             NaN     publish         closed      closed   \n",
       "1             NaN         NaN            NaN         NaN   \n",
       "4             NaN     publish         closed      closed   \n",
       "7             NaN     publish         closed      closed   \n",
       "8             NaN     publish         closed      closed   \n",
       "...           ...         ...            ...         ...   \n",
       "1505          NaN     publish         closed      closed   \n",
       "1506          NaN     publish         closed      closed   \n",
       "1508          NaN     publish         closed      closed   \n",
       "1511          NaN     publish         closed      closed   \n",
       "1512          NaN     publish         closed      closed   \n",
       "\n",
       "                                              post_name   post_modified_gmt  \\\n",
       "0                       chateau-du-couvent-pomerol-2017 2020-08-25 16:35:02   \n",
       "1                                                   NaN                 NaT   \n",
       "4     domaine-de-la-monardiere-vacqueyras-les-vieill... 2020-08-21 09:35:02   \n",
       "7               jean-faure-saint-emilion-grand-cru-2015 2020-08-27 09:35:02   \n",
       "8               domaine-huet-vouvray-haut-lieu-sec-2016 2020-07-22 07:55:01   \n",
       "...                                                 ...                 ...   \n",
       "1505           domaine-de-lidylle-savoie-roussette-2018 2020-06-02 14:55:03   \n",
       "1506                             huile-olive-planeta-3l 2020-08-27 12:55:02   \n",
       "1508                 montbourgeau-etoile-vin-jaune-2009 2019-12-30 09:30:01   \n",
       "1511         emile-boeckel-cremant-brut-blanc-de-blancs 2020-08-27 15:15:03   \n",
       "1512     champagne-mailly-grand-cru-blanc-de-pinot-noir 2020-08-26 16:05:02   \n",
       "\n",
       "       post_type  \n",
       "0     attachment  \n",
       "1            NaN  \n",
       "4     attachment  \n",
       "7     attachment  \n",
       "8     attachment  \n",
       "...          ...  \n",
       "1505  attachment  \n",
       "1506  attachment  \n",
       "1508  attachment  \n",
       "1511  attachment  \n",
       "1512  attachment  \n",
       "\n",
       "[799 rows x 12 columns]"
      ]
     },
     "execution_count": 20,
     "metadata": {},
     "output_type": "execute_result"
    }
   ],
   "source": [
    "web[web.isna().any(axis=1)]"
   ]
  },
  {
   "cell_type": "code",
   "execution_count": 21,
   "metadata": {},
   "outputs": [
    {
     "data": {
      "text/html": [
       "<div>\n",
       "<style scoped>\n",
       "    .dataframe tbody tr th:only-of-type {\n",
       "        vertical-align: middle;\n",
       "    }\n",
       "\n",
       "    .dataframe tbody tr th {\n",
       "        vertical-align: top;\n",
       "    }\n",
       "\n",
       "    .dataframe thead th {\n",
       "        text-align: right;\n",
       "    }\n",
       "</style>\n",
       "<table border=\"1\" class=\"dataframe\">\n",
       "  <thead>\n",
       "    <tr style=\"text-align: right;\">\n",
       "      <th></th>\n",
       "      <th>id_web</th>\n",
       "      <th>total_sales</th>\n",
       "      <th>tax_status</th>\n",
       "      <th>post_author</th>\n",
       "      <th>post_date</th>\n",
       "      <th>post_excerpt</th>\n",
       "      <th>post_status</th>\n",
       "      <th>comment_status</th>\n",
       "      <th>ping_status</th>\n",
       "      <th>post_name</th>\n",
       "      <th>post_modified_gmt</th>\n",
       "      <th>post_type</th>\n",
       "    </tr>\n",
       "  </thead>\n",
       "  <tbody>\n",
       "    <tr>\n",
       "      <th>0</th>\n",
       "      <td>16004</td>\n",
       "      <td>5.0</td>\n",
       "      <td>NaN</td>\n",
       "      <td>2.0</td>\n",
       "      <td>2018-06-07 16:27:25</td>\n",
       "      <td>NaN</td>\n",
       "      <td>publish</td>\n",
       "      <td>closed</td>\n",
       "      <td>closed</td>\n",
       "      <td>chateau-du-couvent-pomerol-2017</td>\n",
       "      <td>2020-08-25 16:35:02</td>\n",
       "      <td>attachment</td>\n",
       "    </tr>\n",
       "    <tr>\n",
       "      <th>2</th>\n",
       "      <td>15075</td>\n",
       "      <td>3.0</td>\n",
       "      <td>taxable</td>\n",
       "      <td>2.0</td>\n",
       "      <td>2018-02-14 15:39:43</td>\n",
       "      <td>Des couleurs et aromes intenses où le fruit et...</td>\n",
       "      <td>publish</td>\n",
       "      <td>closed</td>\n",
       "      <td>closed</td>\n",
       "      <td>pares-balta-penedes-indigena-2017</td>\n",
       "      <td>2020-08-20 13:35:02</td>\n",
       "      <td>product</td>\n",
       "    </tr>\n",
       "    <tr>\n",
       "      <th>3</th>\n",
       "      <td>16209</td>\n",
       "      <td>6.0</td>\n",
       "      <td>taxable</td>\n",
       "      <td>2.0</td>\n",
       "      <td>2018-02-14 17:15:31</td>\n",
       "      <td>Un joli nez aux arômes de fruits rouges, de ca...</td>\n",
       "      <td>publish</td>\n",
       "      <td>closed</td>\n",
       "      <td>closed</td>\n",
       "      <td>maurel-cabardes-tradition-2017</td>\n",
       "      <td>2020-08-05 16:05:03</td>\n",
       "      <td>product</td>\n",
       "    </tr>\n",
       "    <tr>\n",
       "      <th>4</th>\n",
       "      <td>15763</td>\n",
       "      <td>1.0</td>\n",
       "      <td>NaN</td>\n",
       "      <td>2.0</td>\n",
       "      <td>2020-01-25 14:08:16</td>\n",
       "      <td>NaN</td>\n",
       "      <td>publish</td>\n",
       "      <td>closed</td>\n",
       "      <td>closed</td>\n",
       "      <td>domaine-de-la-monardiere-vacqueyras-les-vieill...</td>\n",
       "      <td>2020-08-21 09:35:02</td>\n",
       "      <td>attachment</td>\n",
       "    </tr>\n",
       "    <tr>\n",
       "      <th>5</th>\n",
       "      <td>13895</td>\n",
       "      <td>0.0</td>\n",
       "      <td>taxable</td>\n",
       "      <td>2.0</td>\n",
       "      <td>2019-03-19 10:41:50</td>\n",
       "      <td>&lt;span style=\"display: inline !important; float...</td>\n",
       "      <td>publish</td>\n",
       "      <td>closed</td>\n",
       "      <td>closed</td>\n",
       "      <td>chateau-saransot-dupre-bordeaux-blanc-2016</td>\n",
       "      <td>2020-04-25 19:11:40</td>\n",
       "      <td>product</td>\n",
       "    </tr>\n",
       "    <tr>\n",
       "      <th>...</th>\n",
       "      <td>...</td>\n",
       "      <td>...</td>\n",
       "      <td>...</td>\n",
       "      <td>...</td>\n",
       "      <td>...</td>\n",
       "      <td>...</td>\n",
       "      <td>...</td>\n",
       "      <td>...</td>\n",
       "      <td>...</td>\n",
       "      <td>...</td>\n",
       "      <td>...</td>\n",
       "      <td>...</td>\n",
       "    </tr>\n",
       "    <tr>\n",
       "      <th>1508</th>\n",
       "      <td>12881</td>\n",
       "      <td>2.0</td>\n",
       "      <td>NaN</td>\n",
       "      <td>2.0</td>\n",
       "      <td>2019-03-28 15:25:14</td>\n",
       "      <td>NaN</td>\n",
       "      <td>publish</td>\n",
       "      <td>closed</td>\n",
       "      <td>closed</td>\n",
       "      <td>montbourgeau-etoile-vin-jaune-2009</td>\n",
       "      <td>2019-12-30 09:30:01</td>\n",
       "      <td>attachment</td>\n",
       "    </tr>\n",
       "    <tr>\n",
       "      <th>1509</th>\n",
       "      <td>15663</td>\n",
       "      <td>3.0</td>\n",
       "      <td>taxable</td>\n",
       "      <td>2.0</td>\n",
       "      <td>2018-02-27 10:27:01</td>\n",
       "      <td>Le Brouilly est le plus méridional des crus du...</td>\n",
       "      <td>publish</td>\n",
       "      <td>closed</td>\n",
       "      <td>closed</td>\n",
       "      <td>chermette-domaine-du-vissoux-brouilly-pierreux...</td>\n",
       "      <td>2020-08-01 07:35:02</td>\n",
       "      <td>product</td>\n",
       "    </tr>\n",
       "    <tr>\n",
       "      <th>1510</th>\n",
       "      <td>15910</td>\n",
       "      <td>0.0</td>\n",
       "      <td>taxable</td>\n",
       "      <td>2.0</td>\n",
       "      <td>2019-03-28 10:59:43</td>\n",
       "      <td>C’est dans cette cuvée la pleine expression du...</td>\n",
       "      <td>publish</td>\n",
       "      <td>closed</td>\n",
       "      <td>closed</td>\n",
       "      <td>thevenet-quintaine-vire-clesse-la-bongran-2015</td>\n",
       "      <td>2020-08-14 08:45:02</td>\n",
       "      <td>product</td>\n",
       "    </tr>\n",
       "    <tr>\n",
       "      <th>1511</th>\n",
       "      <td>38</td>\n",
       "      <td>38.0</td>\n",
       "      <td>NaN</td>\n",
       "      <td>2.0</td>\n",
       "      <td>2018-04-18 12:25:58</td>\n",
       "      <td>NaN</td>\n",
       "      <td>publish</td>\n",
       "      <td>closed</td>\n",
       "      <td>closed</td>\n",
       "      <td>emile-boeckel-cremant-brut-blanc-de-blancs</td>\n",
       "      <td>2020-08-27 15:15:03</td>\n",
       "      <td>attachment</td>\n",
       "    </tr>\n",
       "    <tr>\n",
       "      <th>1512</th>\n",
       "      <td>13599</td>\n",
       "      <td>1.0</td>\n",
       "      <td>NaN</td>\n",
       "      <td>2.0</td>\n",
       "      <td>2018-03-01 14:12:39</td>\n",
       "      <td>NaN</td>\n",
       "      <td>publish</td>\n",
       "      <td>closed</td>\n",
       "      <td>closed</td>\n",
       "      <td>champagne-mailly-grand-cru-blanc-de-pinot-noir</td>\n",
       "      <td>2020-08-26 16:05:02</td>\n",
       "      <td>attachment</td>\n",
       "    </tr>\n",
       "  </tbody>\n",
       "</table>\n",
       "<p>1428 rows × 12 columns</p>\n",
       "</div>"
      ],
      "text/plain": [
       "     id_web  total_sales tax_status  post_author           post_date  \\\n",
       "0     16004          5.0        NaN          2.0 2018-06-07 16:27:25   \n",
       "2     15075          3.0    taxable          2.0 2018-02-14 15:39:43   \n",
       "3     16209          6.0    taxable          2.0 2018-02-14 17:15:31   \n",
       "4     15763          1.0        NaN          2.0 2020-01-25 14:08:16   \n",
       "5     13895          0.0    taxable          2.0 2019-03-19 10:41:50   \n",
       "...     ...          ...        ...          ...                 ...   \n",
       "1508  12881          2.0        NaN          2.0 2019-03-28 15:25:14   \n",
       "1509  15663          3.0    taxable          2.0 2018-02-27 10:27:01   \n",
       "1510  15910          0.0    taxable          2.0 2019-03-28 10:59:43   \n",
       "1511     38         38.0        NaN          2.0 2018-04-18 12:25:58   \n",
       "1512  13599          1.0        NaN          2.0 2018-03-01 14:12:39   \n",
       "\n",
       "                                           post_excerpt post_status  \\\n",
       "0                                                   NaN     publish   \n",
       "2     Des couleurs et aromes intenses où le fruit et...     publish   \n",
       "3     Un joli nez aux arômes de fruits rouges, de ca...     publish   \n",
       "4                                                   NaN     publish   \n",
       "5     <span style=\"display: inline !important; float...     publish   \n",
       "...                                                 ...         ...   \n",
       "1508                                                NaN     publish   \n",
       "1509  Le Brouilly est le plus méridional des crus du...     publish   \n",
       "1510  C’est dans cette cuvée la pleine expression du...     publish   \n",
       "1511                                                NaN     publish   \n",
       "1512                                                NaN     publish   \n",
       "\n",
       "     comment_status ping_status  \\\n",
       "0            closed      closed   \n",
       "2            closed      closed   \n",
       "3            closed      closed   \n",
       "4            closed      closed   \n",
       "5            closed      closed   \n",
       "...             ...         ...   \n",
       "1508         closed      closed   \n",
       "1509         closed      closed   \n",
       "1510         closed      closed   \n",
       "1511         closed      closed   \n",
       "1512         closed      closed   \n",
       "\n",
       "                                              post_name   post_modified_gmt  \\\n",
       "0                       chateau-du-couvent-pomerol-2017 2020-08-25 16:35:02   \n",
       "2                     pares-balta-penedes-indigena-2017 2020-08-20 13:35:02   \n",
       "3                        maurel-cabardes-tradition-2017 2020-08-05 16:05:03   \n",
       "4     domaine-de-la-monardiere-vacqueyras-les-vieill... 2020-08-21 09:35:02   \n",
       "5            chateau-saransot-dupre-bordeaux-blanc-2016 2020-04-25 19:11:40   \n",
       "...                                                 ...                 ...   \n",
       "1508                 montbourgeau-etoile-vin-jaune-2009 2019-12-30 09:30:01   \n",
       "1509  chermette-domaine-du-vissoux-brouilly-pierreux... 2020-08-01 07:35:02   \n",
       "1510     thevenet-quintaine-vire-clesse-la-bongran-2015 2020-08-14 08:45:02   \n",
       "1511         emile-boeckel-cremant-brut-blanc-de-blancs 2020-08-27 15:15:03   \n",
       "1512     champagne-mailly-grand-cru-blanc-de-pinot-noir 2020-08-26 16:05:02   \n",
       "\n",
       "       post_type  \n",
       "0     attachment  \n",
       "2        product  \n",
       "3        product  \n",
       "4     attachment  \n",
       "5        product  \n",
       "...          ...  \n",
       "1508  attachment  \n",
       "1509     product  \n",
       "1510     product  \n",
       "1511  attachment  \n",
       "1512  attachment  \n",
       "\n",
       "[1428 rows x 12 columns]"
      ]
     },
     "execution_count": 21,
     "metadata": {},
     "output_type": "execute_result"
    }
   ],
   "source": [
    "# Supprimer toutes les lignes dont toutes les valeurs sont manquantes\n",
    "web = web.dropna(axis=0, how='all')\n",
    "\n",
    "# Supprimer les lignes dont le skus est manquant\n",
    "web = web.dropna(axis=0, how='any', subset=['id_web'])\n",
    "web"
   ]
  },
  {
   "cell_type": "code",
   "execution_count": 22,
   "metadata": {},
   "outputs": [
    {
     "data": {
      "text/plain": [
       "715"
      ]
     },
     "execution_count": 22,
     "metadata": {},
     "output_type": "execute_result"
    }
   ],
   "source": [
    "#Verification des doublons\n",
    "web.duplicated(subset=['id_web']).sum()"
   ]
  },
  {
   "cell_type": "code",
   "execution_count": 23,
   "metadata": {},
   "outputs": [
    {
     "data": {
      "text/html": [
       "<div>\n",
       "<style scoped>\n",
       "    .dataframe tbody tr th:only-of-type {\n",
       "        vertical-align: middle;\n",
       "    }\n",
       "\n",
       "    .dataframe tbody tr th {\n",
       "        vertical-align: top;\n",
       "    }\n",
       "\n",
       "    .dataframe thead th {\n",
       "        text-align: right;\n",
       "    }\n",
       "</style>\n",
       "<table border=\"1\" class=\"dataframe\">\n",
       "  <thead>\n",
       "    <tr style=\"text-align: right;\">\n",
       "      <th></th>\n",
       "      <th>id_web</th>\n",
       "      <th>total_sales</th>\n",
       "      <th>tax_status</th>\n",
       "      <th>post_author</th>\n",
       "      <th>post_date</th>\n",
       "      <th>post_excerpt</th>\n",
       "      <th>post_status</th>\n",
       "      <th>comment_status</th>\n",
       "      <th>ping_status</th>\n",
       "      <th>post_name</th>\n",
       "      <th>post_modified_gmt</th>\n",
       "      <th>post_type</th>\n",
       "    </tr>\n",
       "  </thead>\n",
       "  <tbody>\n",
       "    <tr>\n",
       "      <th>13</th>\n",
       "      <td>16209</td>\n",
       "      <td>6.0</td>\n",
       "      <td>NaN</td>\n",
       "      <td>2.0</td>\n",
       "      <td>2018-02-14 17:15:31</td>\n",
       "      <td>NaN</td>\n",
       "      <td>publish</td>\n",
       "      <td>closed</td>\n",
       "      <td>closed</td>\n",
       "      <td>maurel-cabardes-tradition-2017</td>\n",
       "      <td>2020-08-05 16:05:03</td>\n",
       "      <td>attachment</td>\n",
       "    </tr>\n",
       "    <tr>\n",
       "      <th>53</th>\n",
       "      <td>16274</td>\n",
       "      <td>13.0</td>\n",
       "      <td>NaN</td>\n",
       "      <td>2.0</td>\n",
       "      <td>2018-05-03 13:09:18</td>\n",
       "      <td>NaN</td>\n",
       "      <td>publish</td>\n",
       "      <td>closed</td>\n",
       "      <td>closed</td>\n",
       "      <td>mourgues-du-gres-costieres-de-nimes-capitelles...</td>\n",
       "      <td>2020-08-04 16:55:02</td>\n",
       "      <td>attachment</td>\n",
       "    </tr>\n",
       "    <tr>\n",
       "      <th>80</th>\n",
       "      <td>12857</td>\n",
       "      <td>0.0</td>\n",
       "      <td>NaN</td>\n",
       "      <td>2.0</td>\n",
       "      <td>2018-04-12 17:56:13</td>\n",
       "      <td>NaN</td>\n",
       "      <td>publish</td>\n",
       "      <td>closed</td>\n",
       "      <td>closed</td>\n",
       "      <td>chateau-de-puligny-montrachet-1cru-champ-canet...</td>\n",
       "      <td>2020-02-06 15:35:02</td>\n",
       "      <td>attachment</td>\n",
       "    </tr>\n",
       "    <tr>\n",
       "      <th>85</th>\n",
       "      <td>15325</td>\n",
       "      <td>4.0</td>\n",
       "      <td>NaN</td>\n",
       "      <td>2.0</td>\n",
       "      <td>2019-03-27 17:59:49</td>\n",
       "      <td>NaN</td>\n",
       "      <td>publish</td>\n",
       "      <td>closed</td>\n",
       "      <td>closed</td>\n",
       "      <td>agnes-levet-amethyste-2017</td>\n",
       "      <td>2020-05-21 12:00:02</td>\n",
       "      <td>attachment</td>\n",
       "    </tr>\n",
       "    <tr>\n",
       "      <th>87</th>\n",
       "      <td>15038</td>\n",
       "      <td>10.0</td>\n",
       "      <td>NaN</td>\n",
       "      <td>2.0</td>\n",
       "      <td>2018-04-13 15:27:12</td>\n",
       "      <td>NaN</td>\n",
       "      <td>publish</td>\n",
       "      <td>closed</td>\n",
       "      <td>closed</td>\n",
       "      <td>gilbert-picq-chablis-vieilles-vignes-2017</td>\n",
       "      <td>2020-08-27 14:05:03</td>\n",
       "      <td>attachment</td>\n",
       "    </tr>\n",
       "    <tr>\n",
       "      <th>...</th>\n",
       "      <td>...</td>\n",
       "      <td>...</td>\n",
       "      <td>...</td>\n",
       "      <td>...</td>\n",
       "      <td>...</td>\n",
       "      <td>...</td>\n",
       "      <td>...</td>\n",
       "      <td>...</td>\n",
       "      <td>...</td>\n",
       "      <td>...</td>\n",
       "      <td>...</td>\n",
       "      <td>...</td>\n",
       "    </tr>\n",
       "    <tr>\n",
       "      <th>1508</th>\n",
       "      <td>12881</td>\n",
       "      <td>2.0</td>\n",
       "      <td>NaN</td>\n",
       "      <td>2.0</td>\n",
       "      <td>2019-03-28 15:25:14</td>\n",
       "      <td>NaN</td>\n",
       "      <td>publish</td>\n",
       "      <td>closed</td>\n",
       "      <td>closed</td>\n",
       "      <td>montbourgeau-etoile-vin-jaune-2009</td>\n",
       "      <td>2019-12-30 09:30:01</td>\n",
       "      <td>attachment</td>\n",
       "    </tr>\n",
       "    <tr>\n",
       "      <th>1509</th>\n",
       "      <td>15663</td>\n",
       "      <td>3.0</td>\n",
       "      <td>taxable</td>\n",
       "      <td>2.0</td>\n",
       "      <td>2018-02-27 10:27:01</td>\n",
       "      <td>Le Brouilly est le plus méridional des crus du...</td>\n",
       "      <td>publish</td>\n",
       "      <td>closed</td>\n",
       "      <td>closed</td>\n",
       "      <td>chermette-domaine-du-vissoux-brouilly-pierreux...</td>\n",
       "      <td>2020-08-01 07:35:02</td>\n",
       "      <td>product</td>\n",
       "    </tr>\n",
       "    <tr>\n",
       "      <th>1510</th>\n",
       "      <td>15910</td>\n",
       "      <td>0.0</td>\n",
       "      <td>taxable</td>\n",
       "      <td>2.0</td>\n",
       "      <td>2019-03-28 10:59:43</td>\n",
       "      <td>C’est dans cette cuvée la pleine expression du...</td>\n",
       "      <td>publish</td>\n",
       "      <td>closed</td>\n",
       "      <td>closed</td>\n",
       "      <td>thevenet-quintaine-vire-clesse-la-bongran-2015</td>\n",
       "      <td>2020-08-14 08:45:02</td>\n",
       "      <td>product</td>\n",
       "    </tr>\n",
       "    <tr>\n",
       "      <th>1511</th>\n",
       "      <td>38</td>\n",
       "      <td>38.0</td>\n",
       "      <td>NaN</td>\n",
       "      <td>2.0</td>\n",
       "      <td>2018-04-18 12:25:58</td>\n",
       "      <td>NaN</td>\n",
       "      <td>publish</td>\n",
       "      <td>closed</td>\n",
       "      <td>closed</td>\n",
       "      <td>emile-boeckel-cremant-brut-blanc-de-blancs</td>\n",
       "      <td>2020-08-27 15:15:03</td>\n",
       "      <td>attachment</td>\n",
       "    </tr>\n",
       "    <tr>\n",
       "      <th>1512</th>\n",
       "      <td>13599</td>\n",
       "      <td>1.0</td>\n",
       "      <td>NaN</td>\n",
       "      <td>2.0</td>\n",
       "      <td>2018-03-01 14:12:39</td>\n",
       "      <td>NaN</td>\n",
       "      <td>publish</td>\n",
       "      <td>closed</td>\n",
       "      <td>closed</td>\n",
       "      <td>champagne-mailly-grand-cru-blanc-de-pinot-noir</td>\n",
       "      <td>2020-08-26 16:05:02</td>\n",
       "      <td>attachment</td>\n",
       "    </tr>\n",
       "  </tbody>\n",
       "</table>\n",
       "<p>715 rows × 12 columns</p>\n",
       "</div>"
      ],
      "text/plain": [
       "     id_web  total_sales tax_status  post_author           post_date  \\\n",
       "13    16209          6.0        NaN          2.0 2018-02-14 17:15:31   \n",
       "53    16274         13.0        NaN          2.0 2018-05-03 13:09:18   \n",
       "80    12857          0.0        NaN          2.0 2018-04-12 17:56:13   \n",
       "85    15325          4.0        NaN          2.0 2019-03-27 17:59:49   \n",
       "87    15038         10.0        NaN          2.0 2018-04-13 15:27:12   \n",
       "...     ...          ...        ...          ...                 ...   \n",
       "1508  12881          2.0        NaN          2.0 2019-03-28 15:25:14   \n",
       "1509  15663          3.0    taxable          2.0 2018-02-27 10:27:01   \n",
       "1510  15910          0.0    taxable          2.0 2019-03-28 10:59:43   \n",
       "1511     38         38.0        NaN          2.0 2018-04-18 12:25:58   \n",
       "1512  13599          1.0        NaN          2.0 2018-03-01 14:12:39   \n",
       "\n",
       "                                           post_excerpt post_status  \\\n",
       "13                                                  NaN     publish   \n",
       "53                                                  NaN     publish   \n",
       "80                                                  NaN     publish   \n",
       "85                                                  NaN     publish   \n",
       "87                                                  NaN     publish   \n",
       "...                                                 ...         ...   \n",
       "1508                                                NaN     publish   \n",
       "1509  Le Brouilly est le plus méridional des crus du...     publish   \n",
       "1510  C’est dans cette cuvée la pleine expression du...     publish   \n",
       "1511                                                NaN     publish   \n",
       "1512                                                NaN     publish   \n",
       "\n",
       "     comment_status ping_status  \\\n",
       "13           closed      closed   \n",
       "53           closed      closed   \n",
       "80           closed      closed   \n",
       "85           closed      closed   \n",
       "87           closed      closed   \n",
       "...             ...         ...   \n",
       "1508         closed      closed   \n",
       "1509         closed      closed   \n",
       "1510         closed      closed   \n",
       "1511         closed      closed   \n",
       "1512         closed      closed   \n",
       "\n",
       "                                              post_name   post_modified_gmt  \\\n",
       "13                       maurel-cabardes-tradition-2017 2020-08-05 16:05:03   \n",
       "53    mourgues-du-gres-costieres-de-nimes-capitelles... 2020-08-04 16:55:02   \n",
       "80    chateau-de-puligny-montrachet-1cru-champ-canet... 2020-02-06 15:35:02   \n",
       "85                           agnes-levet-amethyste-2017 2020-05-21 12:00:02   \n",
       "87            gilbert-picq-chablis-vieilles-vignes-2017 2020-08-27 14:05:03   \n",
       "...                                                 ...                 ...   \n",
       "1508                 montbourgeau-etoile-vin-jaune-2009 2019-12-30 09:30:01   \n",
       "1509  chermette-domaine-du-vissoux-brouilly-pierreux... 2020-08-01 07:35:02   \n",
       "1510     thevenet-quintaine-vire-clesse-la-bongran-2015 2020-08-14 08:45:02   \n",
       "1511         emile-boeckel-cremant-brut-blanc-de-blancs 2020-08-27 15:15:03   \n",
       "1512     champagne-mailly-grand-cru-blanc-de-pinot-noir 2020-08-26 16:05:02   \n",
       "\n",
       "       post_type  \n",
       "13    attachment  \n",
       "53    attachment  \n",
       "80    attachment  \n",
       "85    attachment  \n",
       "87    attachment  \n",
       "...          ...  \n",
       "1508  attachment  \n",
       "1509     product  \n",
       "1510     product  \n",
       "1511  attachment  \n",
       "1512  attachment  \n",
       "\n",
       "[715 rows x 12 columns]"
      ]
     },
     "execution_count": 23,
     "metadata": {},
     "output_type": "execute_result"
    }
   ],
   "source": [
    "dupli = web[web.duplicated(subset=['id_web'])]\n",
    "dupli"
   ]
  },
  {
   "cell_type": "code",
   "execution_count": 24,
   "metadata": {},
   "outputs": [
    {
     "data": {
      "text/html": [
       "<div>\n",
       "<style scoped>\n",
       "    .dataframe tbody tr th:only-of-type {\n",
       "        vertical-align: middle;\n",
       "    }\n",
       "\n",
       "    .dataframe tbody tr th {\n",
       "        vertical-align: top;\n",
       "    }\n",
       "\n",
       "    .dataframe thead th {\n",
       "        text-align: right;\n",
       "    }\n",
       "</style>\n",
       "<table border=\"1\" class=\"dataframe\">\n",
       "  <thead>\n",
       "    <tr style=\"text-align: right;\">\n",
       "      <th></th>\n",
       "      <th>id_web</th>\n",
       "      <th>total_sales</th>\n",
       "      <th>tax_status</th>\n",
       "      <th>post_author</th>\n",
       "      <th>post_date</th>\n",
       "      <th>post_excerpt</th>\n",
       "      <th>post_status</th>\n",
       "      <th>comment_status</th>\n",
       "      <th>ping_status</th>\n",
       "      <th>post_name</th>\n",
       "      <th>post_modified_gmt</th>\n",
       "      <th>post_type</th>\n",
       "    </tr>\n",
       "  </thead>\n",
       "  <tbody>\n",
       "  </tbody>\n",
       "</table>\n",
       "</div>"
      ],
      "text/plain": [
       "Empty DataFrame\n",
       "Columns: [id_web, total_sales, tax_status, post_author, post_date, post_excerpt, post_status, comment_status, ping_status, post_name, post_modified_gmt, post_type]\n",
       "Index: []"
      ]
     },
     "execution_count": 24,
     "metadata": {},
     "output_type": "execute_result"
    }
   ],
   "source": [
    "# Vérification des écarts sur une référence\n",
    "web[web['id_web'] == '15300']"
   ]
  },
  {
   "cell_type": "markdown",
   "metadata": {},
   "source": [
    "La pluspart des doublons sont dûs au fait que pour chaque produit il y ait une ligne correspondant à la description du produit, et une autre à sa photo.\n",
    "\n",
    "On garde donc la première ligne des données, sans l'image pour la doublons."
   ]
  },
  {
   "cell_type": "code",
   "execution_count": 25,
   "metadata": {},
   "outputs": [
    {
     "data": {
      "text/html": [
       "<div>\n",
       "<style scoped>\n",
       "    .dataframe tbody tr th:only-of-type {\n",
       "        vertical-align: middle;\n",
       "    }\n",
       "\n",
       "    .dataframe tbody tr th {\n",
       "        vertical-align: top;\n",
       "    }\n",
       "\n",
       "    .dataframe thead th {\n",
       "        text-align: right;\n",
       "    }\n",
       "</style>\n",
       "<table border=\"1\" class=\"dataframe\">\n",
       "  <thead>\n",
       "    <tr style=\"text-align: right;\">\n",
       "      <th></th>\n",
       "      <th>id_web</th>\n",
       "      <th>total_sales</th>\n",
       "      <th>tax_status</th>\n",
       "      <th>post_author</th>\n",
       "      <th>post_date</th>\n",
       "      <th>post_excerpt</th>\n",
       "      <th>post_status</th>\n",
       "      <th>comment_status</th>\n",
       "      <th>ping_status</th>\n",
       "      <th>post_name</th>\n",
       "      <th>post_modified_gmt</th>\n",
       "      <th>post_type</th>\n",
       "    </tr>\n",
       "  </thead>\n",
       "  <tbody>\n",
       "    <tr>\n",
       "      <th>2</th>\n",
       "      <td>15075</td>\n",
       "      <td>3.0</td>\n",
       "      <td>taxable</td>\n",
       "      <td>2.0</td>\n",
       "      <td>2018-02-14 15:39:43</td>\n",
       "      <td>Des couleurs et aromes intenses où le fruit et...</td>\n",
       "      <td>publish</td>\n",
       "      <td>closed</td>\n",
       "      <td>closed</td>\n",
       "      <td>pares-balta-penedes-indigena-2017</td>\n",
       "      <td>2020-08-20 13:35:02</td>\n",
       "      <td>product</td>\n",
       "    </tr>\n",
       "    <tr>\n",
       "      <th>3</th>\n",
       "      <td>16209</td>\n",
       "      <td>6.0</td>\n",
       "      <td>taxable</td>\n",
       "      <td>2.0</td>\n",
       "      <td>2018-02-14 17:15:31</td>\n",
       "      <td>Un joli nez aux arômes de fruits rouges, de ca...</td>\n",
       "      <td>publish</td>\n",
       "      <td>closed</td>\n",
       "      <td>closed</td>\n",
       "      <td>maurel-cabardes-tradition-2017</td>\n",
       "      <td>2020-08-05 16:05:03</td>\n",
       "      <td>product</td>\n",
       "    </tr>\n",
       "    <tr>\n",
       "      <th>5</th>\n",
       "      <td>13895</td>\n",
       "      <td>0.0</td>\n",
       "      <td>taxable</td>\n",
       "      <td>2.0</td>\n",
       "      <td>2019-03-19 10:41:50</td>\n",
       "      <td>&lt;span style=\"display: inline !important; float...</td>\n",
       "      <td>publish</td>\n",
       "      <td>closed</td>\n",
       "      <td>closed</td>\n",
       "      <td>chateau-saransot-dupre-bordeaux-blanc-2016</td>\n",
       "      <td>2020-04-25 19:11:40</td>\n",
       "      <td>product</td>\n",
       "    </tr>\n",
       "    <tr>\n",
       "      <th>6</th>\n",
       "      <td>12857</td>\n",
       "      <td>0.0</td>\n",
       "      <td>taxable</td>\n",
       "      <td>2.0</td>\n",
       "      <td>2018-04-12 17:56:13</td>\n",
       "      <td>Il présente une grande fraîcheur minérale au n...</td>\n",
       "      <td>publish</td>\n",
       "      <td>closed</td>\n",
       "      <td>closed</td>\n",
       "      <td>chateau-de-puligny-montrachet-1cru-champ-canet...</td>\n",
       "      <td>2020-02-06 15:35:02</td>\n",
       "      <td>product</td>\n",
       "    </tr>\n",
       "    <tr>\n",
       "      <th>9</th>\n",
       "      <td>14106</td>\n",
       "      <td>0.0</td>\n",
       "      <td>taxable</td>\n",
       "      <td>2.0</td>\n",
       "      <td>2019-06-08 09:54:21</td>\n",
       "      <td>Ce vin peut-être dégusté sur sa jeunesse mais ...</td>\n",
       "      <td>publish</td>\n",
       "      <td>closed</td>\n",
       "      <td>closed</td>\n",
       "      <td>stephane-tissot-chateau-chalon-2011</td>\n",
       "      <td>2020-05-29 15:35:03</td>\n",
       "      <td>product</td>\n",
       "    </tr>\n",
       "    <tr>\n",
       "      <th>...</th>\n",
       "      <td>...</td>\n",
       "      <td>...</td>\n",
       "      <td>...</td>\n",
       "      <td>...</td>\n",
       "      <td>...</td>\n",
       "      <td>...</td>\n",
       "      <td>...</td>\n",
       "      <td>...</td>\n",
       "      <td>...</td>\n",
       "      <td>...</td>\n",
       "      <td>...</td>\n",
       "      <td>...</td>\n",
       "    </tr>\n",
       "    <tr>\n",
       "      <th>1501</th>\n",
       "      <td>15941</td>\n",
       "      <td>4.0</td>\n",
       "      <td>taxable</td>\n",
       "      <td>2.0</td>\n",
       "      <td>2018-02-12 14:26:52</td>\n",
       "      <td>Un vin opulent, à la texture onctueuse, et tou...</td>\n",
       "      <td>publish</td>\n",
       "      <td>closed</td>\n",
       "      <td>closed</td>\n",
       "      <td>jerome-cotes-du-rhone-2018</td>\n",
       "      <td>2020-06-25 12:00:03</td>\n",
       "      <td>product</td>\n",
       "    </tr>\n",
       "    <tr>\n",
       "      <th>1503</th>\n",
       "      <td>10459</td>\n",
       "      <td>0.0</td>\n",
       "      <td>taxable</td>\n",
       "      <td>2.0</td>\n",
       "      <td>2018-04-13 15:58:19</td>\n",
       "      <td>Robe d'un superbe rubis, dense et profond - As...</td>\n",
       "      <td>publish</td>\n",
       "      <td>closed</td>\n",
       "      <td>closed</td>\n",
       "      <td>alphonse-mellot-sancerre-rouge-generation-xix-...</td>\n",
       "      <td>2020-08-24 12:05:02</td>\n",
       "      <td>product</td>\n",
       "    </tr>\n",
       "    <tr>\n",
       "      <th>1507</th>\n",
       "      <td>16320</td>\n",
       "      <td>3.0</td>\n",
       "      <td>taxable</td>\n",
       "      <td>2.0</td>\n",
       "      <td>2018-02-12 12:49:29</td>\n",
       "      <td>Magnifique exemple d’assemblage réussi, ou cha...</td>\n",
       "      <td>publish</td>\n",
       "      <td>closed</td>\n",
       "      <td>closed</td>\n",
       "      <td>mourgues-du-gres-costieres-de-nimes-terre-darg...</td>\n",
       "      <td>2020-08-25 09:15:03</td>\n",
       "      <td>product</td>\n",
       "    </tr>\n",
       "    <tr>\n",
       "      <th>1509</th>\n",
       "      <td>15663</td>\n",
       "      <td>3.0</td>\n",
       "      <td>taxable</td>\n",
       "      <td>2.0</td>\n",
       "      <td>2018-02-27 10:27:01</td>\n",
       "      <td>Le Brouilly est le plus méridional des crus du...</td>\n",
       "      <td>publish</td>\n",
       "      <td>closed</td>\n",
       "      <td>closed</td>\n",
       "      <td>chermette-domaine-du-vissoux-brouilly-pierreux...</td>\n",
       "      <td>2020-08-01 07:35:02</td>\n",
       "      <td>product</td>\n",
       "    </tr>\n",
       "    <tr>\n",
       "      <th>1510</th>\n",
       "      <td>15910</td>\n",
       "      <td>0.0</td>\n",
       "      <td>taxable</td>\n",
       "      <td>2.0</td>\n",
       "      <td>2019-03-28 10:59:43</td>\n",
       "      <td>C’est dans cette cuvée la pleine expression du...</td>\n",
       "      <td>publish</td>\n",
       "      <td>closed</td>\n",
       "      <td>closed</td>\n",
       "      <td>thevenet-quintaine-vire-clesse-la-bongran-2015</td>\n",
       "      <td>2020-08-14 08:45:02</td>\n",
       "      <td>product</td>\n",
       "    </tr>\n",
       "  </tbody>\n",
       "</table>\n",
       "<p>714 rows × 12 columns</p>\n",
       "</div>"
      ],
      "text/plain": [
       "     id_web  total_sales tax_status  post_author           post_date  \\\n",
       "2     15075          3.0    taxable          2.0 2018-02-14 15:39:43   \n",
       "3     16209          6.0    taxable          2.0 2018-02-14 17:15:31   \n",
       "5     13895          0.0    taxable          2.0 2019-03-19 10:41:50   \n",
       "6     12857          0.0    taxable          2.0 2018-04-12 17:56:13   \n",
       "9     14106          0.0    taxable          2.0 2019-06-08 09:54:21   \n",
       "...     ...          ...        ...          ...                 ...   \n",
       "1501  15941          4.0    taxable          2.0 2018-02-12 14:26:52   \n",
       "1503  10459          0.0    taxable          2.0 2018-04-13 15:58:19   \n",
       "1507  16320          3.0    taxable          2.0 2018-02-12 12:49:29   \n",
       "1509  15663          3.0    taxable          2.0 2018-02-27 10:27:01   \n",
       "1510  15910          0.0    taxable          2.0 2019-03-28 10:59:43   \n",
       "\n",
       "                                           post_excerpt post_status  \\\n",
       "2     Des couleurs et aromes intenses où le fruit et...     publish   \n",
       "3     Un joli nez aux arômes de fruits rouges, de ca...     publish   \n",
       "5     <span style=\"display: inline !important; float...     publish   \n",
       "6     Il présente une grande fraîcheur minérale au n...     publish   \n",
       "9     Ce vin peut-être dégusté sur sa jeunesse mais ...     publish   \n",
       "...                                                 ...         ...   \n",
       "1501  Un vin opulent, à la texture onctueuse, et tou...     publish   \n",
       "1503  Robe d'un superbe rubis, dense et profond - As...     publish   \n",
       "1507  Magnifique exemple d’assemblage réussi, ou cha...     publish   \n",
       "1509  Le Brouilly est le plus méridional des crus du...     publish   \n",
       "1510  C’est dans cette cuvée la pleine expression du...     publish   \n",
       "\n",
       "     comment_status ping_status  \\\n",
       "2            closed      closed   \n",
       "3            closed      closed   \n",
       "5            closed      closed   \n",
       "6            closed      closed   \n",
       "9            closed      closed   \n",
       "...             ...         ...   \n",
       "1501         closed      closed   \n",
       "1503         closed      closed   \n",
       "1507         closed      closed   \n",
       "1509         closed      closed   \n",
       "1510         closed      closed   \n",
       "\n",
       "                                              post_name   post_modified_gmt  \\\n",
       "2                     pares-balta-penedes-indigena-2017 2020-08-20 13:35:02   \n",
       "3                        maurel-cabardes-tradition-2017 2020-08-05 16:05:03   \n",
       "5            chateau-saransot-dupre-bordeaux-blanc-2016 2020-04-25 19:11:40   \n",
       "6     chateau-de-puligny-montrachet-1cru-champ-canet... 2020-02-06 15:35:02   \n",
       "9                   stephane-tissot-chateau-chalon-2011 2020-05-29 15:35:03   \n",
       "...                                                 ...                 ...   \n",
       "1501                         jerome-cotes-du-rhone-2018 2020-06-25 12:00:03   \n",
       "1503  alphonse-mellot-sancerre-rouge-generation-xix-... 2020-08-24 12:05:02   \n",
       "1507  mourgues-du-gres-costieres-de-nimes-terre-darg... 2020-08-25 09:15:03   \n",
       "1509  chermette-domaine-du-vissoux-brouilly-pierreux... 2020-08-01 07:35:02   \n",
       "1510     thevenet-quintaine-vire-clesse-la-bongran-2015 2020-08-14 08:45:02   \n",
       "\n",
       "     post_type  \n",
       "2      product  \n",
       "3      product  \n",
       "5      product  \n",
       "6      product  \n",
       "9      product  \n",
       "...        ...  \n",
       "1501   product  \n",
       "1503   product  \n",
       "1507   product  \n",
       "1509   product  \n",
       "1510   product  \n",
       "\n",
       "[714 rows x 12 columns]"
      ]
     },
     "execution_count": 25,
     "metadata": {},
     "output_type": "execute_result"
    }
   ],
   "source": [
    "# on garde les lignes 'product' de la colonne post type\n",
    "web = web[web['post_type'] == 'product']\n",
    "web"
   ]
  },
  {
   "cell_type": "code",
   "execution_count": 26,
   "metadata": {},
   "outputs": [
    {
     "data": {
      "text/plain": [
       "id_web               0\n",
       "total_sales          0\n",
       "tax_status           0\n",
       "post_author          0\n",
       "post_date            0\n",
       "post_excerpt         0\n",
       "post_status          0\n",
       "comment_status       0\n",
       "ping_status          0\n",
       "post_name            0\n",
       "post_modified_gmt    0\n",
       "post_type            0\n",
       "dtype: int64"
      ]
     },
     "execution_count": 26,
     "metadata": {},
     "output_type": "execute_result"
    }
   ],
   "source": [
    "#Vérification des valeurs manquantes après de-doublons\n",
    "web.isnull().sum()"
   ]
  },
  {
   "cell_type": "code",
   "execution_count": 27,
   "metadata": {},
   "outputs": [
    {
     "data": {
      "text/plain": [
       "(714, 12)"
      ]
     },
     "execution_count": 27,
     "metadata": {},
     "output_type": "execute_result"
    }
   ],
   "source": [
    "#Taille de la dataframe après la nettoyage\n",
    "web.shape"
   ]
  },
  {
   "cell_type": "markdown",
   "metadata": {},
   "source": [
    "### 1.3. Fichier 'liaison'"
   ]
  },
  {
   "cell_type": "markdown",
   "metadata": {},
   "source": [
    "#### 1.3.1. Lecture du fichier"
   ]
  },
  {
   "cell_type": "code",
   "execution_count": 28,
   "metadata": {},
   "outputs": [
    {
     "name": "stderr",
     "output_type": "stream",
     "text": [
      "c:\\Python312\\Lib\\site-packages\\openpyxl\\worksheet\\_reader.py:329: UserWarning: Unknown extension is not supported and will be removed\n",
      "  warn(msg)\n"
     ]
    }
   ],
   "source": [
    "liaison = pd.read_excel(r'Data\\fichier_liaison.xlsx')"
   ]
  },
  {
   "cell_type": "code",
   "execution_count": 29,
   "metadata": {},
   "outputs": [
    {
     "data": {
      "text/html": [
       "<div>\n",
       "<style scoped>\n",
       "    .dataframe tbody tr th:only-of-type {\n",
       "        vertical-align: middle;\n",
       "    }\n",
       "\n",
       "    .dataframe tbody tr th {\n",
       "        vertical-align: top;\n",
       "    }\n",
       "\n",
       "    .dataframe thead th {\n",
       "        text-align: right;\n",
       "    }\n",
       "</style>\n",
       "<table border=\"1\" class=\"dataframe\">\n",
       "  <thead>\n",
       "    <tr style=\"text-align: right;\">\n",
       "      <th></th>\n",
       "      <th>product_id</th>\n",
       "      <th>id_web</th>\n",
       "    </tr>\n",
       "  </thead>\n",
       "  <tbody>\n",
       "    <tr>\n",
       "      <th>0</th>\n",
       "      <td>3847</td>\n",
       "      <td>15298</td>\n",
       "    </tr>\n",
       "    <tr>\n",
       "      <th>1</th>\n",
       "      <td>3849</td>\n",
       "      <td>15296</td>\n",
       "    </tr>\n",
       "    <tr>\n",
       "      <th>2</th>\n",
       "      <td>3850</td>\n",
       "      <td>15300</td>\n",
       "    </tr>\n",
       "    <tr>\n",
       "      <th>3</th>\n",
       "      <td>4032</td>\n",
       "      <td>19814</td>\n",
       "    </tr>\n",
       "    <tr>\n",
       "      <th>4</th>\n",
       "      <td>4039</td>\n",
       "      <td>19815</td>\n",
       "    </tr>\n",
       "    <tr>\n",
       "      <th>5</th>\n",
       "      <td>4040</td>\n",
       "      <td>15303</td>\n",
       "    </tr>\n",
       "    <tr>\n",
       "      <th>6</th>\n",
       "      <td>4041</td>\n",
       "      <td>14975</td>\n",
       "    </tr>\n",
       "    <tr>\n",
       "      <th>7</th>\n",
       "      <td>4042</td>\n",
       "      <td>16042</td>\n",
       "    </tr>\n",
       "    <tr>\n",
       "      <th>8</th>\n",
       "      <td>4043</td>\n",
       "      <td>14980</td>\n",
       "    </tr>\n",
       "    <tr>\n",
       "      <th>9</th>\n",
       "      <td>4045</td>\n",
       "      <td>16041</td>\n",
       "    </tr>\n",
       "  </tbody>\n",
       "</table>\n",
       "</div>"
      ],
      "text/plain": [
       "   product_id id_web\n",
       "0        3847  15298\n",
       "1        3849  15296\n",
       "2        3850  15300\n",
       "3        4032  19814\n",
       "4        4039  19815\n",
       "5        4040  15303\n",
       "6        4041  14975\n",
       "7        4042  16042\n",
       "8        4043  14980\n",
       "9        4045  16041"
      ]
     },
     "execution_count": 29,
     "metadata": {},
     "output_type": "execute_result"
    }
   ],
   "source": [
    "liaison.head(10)"
   ]
  },
  {
   "cell_type": "code",
   "execution_count": 30,
   "metadata": {},
   "outputs": [
    {
     "name": "stdout",
     "output_type": "stream",
     "text": [
      "<class 'pandas.core.frame.DataFrame'>\n",
      "RangeIndex: 825 entries, 0 to 824\n",
      "Data columns (total 2 columns):\n",
      " #   Column      Non-Null Count  Dtype \n",
      "---  ------      --------------  ----- \n",
      " 0   product_id  825 non-null    int64 \n",
      " 1   id_web      734 non-null    object\n",
      "dtypes: int64(1), object(1)\n",
      "memory usage: 13.0+ KB\n"
     ]
    }
   ],
   "source": [
    "\n",
    "liaison.info()"
   ]
  },
  {
   "cell_type": "markdown",
   "metadata": {},
   "source": [
    "on trouve qu'il y a 91 valeurs manquantes pour l' 'id_web' comparé au 'product_id'.\n",
    "\n",
    "Peut-être parce que tout les produits ne sont pas vendus sur internet."
   ]
  },
  {
   "cell_type": "code",
   "execution_count": 31,
   "metadata": {},
   "outputs": [
    {
     "data": {
      "text/plain": [
       "(825, 2)"
      ]
     },
     "execution_count": 31,
     "metadata": {},
     "output_type": "execute_result"
    }
   ],
   "source": [
    "liaison.shape"
   ]
  },
  {
   "cell_type": "code",
   "execution_count": 32,
   "metadata": {},
   "outputs": [
    {
     "data": {
      "text/html": [
       "<div>\n",
       "<style scoped>\n",
       "    .dataframe tbody tr th:only-of-type {\n",
       "        vertical-align: middle;\n",
       "    }\n",
       "\n",
       "    .dataframe tbody tr th {\n",
       "        vertical-align: top;\n",
       "    }\n",
       "\n",
       "    .dataframe thead th {\n",
       "        text-align: right;\n",
       "    }\n",
       "</style>\n",
       "<table border=\"1\" class=\"dataframe\">\n",
       "  <thead>\n",
       "    <tr style=\"text-align: right;\">\n",
       "      <th></th>\n",
       "      <th>product_id</th>\n",
       "      <th>id_web</th>\n",
       "    </tr>\n",
       "  </thead>\n",
       "  <tbody>\n",
       "    <tr>\n",
       "      <th>count</th>\n",
       "      <td>825.000000</td>\n",
       "      <td>734.0</td>\n",
       "    </tr>\n",
       "    <tr>\n",
       "      <th>unique</th>\n",
       "      <td>NaN</td>\n",
       "      <td>734.0</td>\n",
       "    </tr>\n",
       "    <tr>\n",
       "      <th>top</th>\n",
       "      <td>NaN</td>\n",
       "      <td>15298.0</td>\n",
       "    </tr>\n",
       "    <tr>\n",
       "      <th>freq</th>\n",
       "      <td>NaN</td>\n",
       "      <td>1.0</td>\n",
       "    </tr>\n",
       "    <tr>\n",
       "      <th>mean</th>\n",
       "      <td>5162.597576</td>\n",
       "      <td>NaN</td>\n",
       "    </tr>\n",
       "    <tr>\n",
       "      <th>std</th>\n",
       "      <td>902.644635</td>\n",
       "      <td>NaN</td>\n",
       "    </tr>\n",
       "    <tr>\n",
       "      <th>min</th>\n",
       "      <td>3847.000000</td>\n",
       "      <td>NaN</td>\n",
       "    </tr>\n",
       "    <tr>\n",
       "      <th>25%</th>\n",
       "      <td>4348.000000</td>\n",
       "      <td>NaN</td>\n",
       "    </tr>\n",
       "    <tr>\n",
       "      <th>50%</th>\n",
       "      <td>4907.000000</td>\n",
       "      <td>NaN</td>\n",
       "    </tr>\n",
       "    <tr>\n",
       "      <th>75%</th>\n",
       "      <td>5805.000000</td>\n",
       "      <td>NaN</td>\n",
       "    </tr>\n",
       "    <tr>\n",
       "      <th>max</th>\n",
       "      <td>7338.000000</td>\n",
       "      <td>NaN</td>\n",
       "    </tr>\n",
       "  </tbody>\n",
       "</table>\n",
       "</div>"
      ],
      "text/plain": [
       "         product_id   id_web\n",
       "count    825.000000    734.0\n",
       "unique          NaN    734.0\n",
       "top             NaN  15298.0\n",
       "freq            NaN      1.0\n",
       "mean    5162.597576      NaN\n",
       "std      902.644635      NaN\n",
       "min     3847.000000      NaN\n",
       "25%     4348.000000      NaN\n",
       "50%     4907.000000      NaN\n",
       "75%     5805.000000      NaN\n",
       "max     7338.000000      NaN"
      ]
     },
     "execution_count": 32,
     "metadata": {},
     "output_type": "execute_result"
    }
   ],
   "source": [
    "liaison.describe(include=\"all\")"
   ]
  },
  {
   "cell_type": "markdown",
   "metadata": {},
   "source": [
    "#### 1.3.2. Nettoyage du fichier"
   ]
  },
  {
   "cell_type": "code",
   "execution_count": 33,
   "metadata": {},
   "outputs": [
    {
     "data": {
      "text/plain": [
       "array([15298, 15296, 15300, 19814, 19815, 15303, 14975, 16042, 14980,\n",
       "       16041, 15269, 14977, 16044, 16043, 16449, 16045, 16030, 13127,\n",
       "       19816, nan, 16029, 16039, 16318, 16275, 16498, 16320, 16319, 15966,\n",
       "       15022, 15967, 15490, 16416, 11862, 15444, 15953, 12045, 13074,\n",
       "       15941, 16069, 13072, 15440, 13435, 13078, 13117, 16296, 16014,\n",
       "       16462, 16013, 16180, 15676, 16120, 15564, 15675, 15378, 15813,\n",
       "       13416, 14905, 15767, 16505, 15683, 16504, 15787, 14800, 15353,\n",
       "       15382, 15339, 11668, 13209, 15341, 13217, 304, 11641, 1662, 1360,\n",
       "       15648, 1364, 7086, 1366, 15140, 16238, 16237, 15141, 14944, 14941,\n",
       "       14751, 16093, 15668, 15373, 15375, 14474, 15482, 13453, 15075,\n",
       "       16124, 15785, 15784, 15786, 14332, 16210, 16211, 16209, 15629,\n",
       "       15583, 16160, 16166, 15783, 16560, 15747, 15746, 16190, 16189,\n",
       "       16265, 16191, 16263, 15605, 16529, 15441, 13032, 16256, 16322,\n",
       "       16295, 15656, 15655, 15415, 15414, 15413, 16023, 16024, 15720,\n",
       "       15714, 15717, 15718, 15480, 15213, 15672, 12599, 15758, 15829,\n",
       "       15759, 16585, 15306, 16497, 15261, 12657, 15403, 15461, 16269,\n",
       "       13905, 16567, 15436, 14725, 15310, 15770, 16097, 15428, 15033,\n",
       "       16317, 15032, 6616, 12203, 14253, 12476, 14485, 14945, 15662,\n",
       "       15663, 15664, 15665, 15136, 16537, 16307, 16244, 15839, 13460,\n",
       "       13089, 12942, 14864, 14527, 14865, 15690, 16330, 16154, 16153,\n",
       "       16066, 16065, 15292, 13771, 16246, 16501, 16578, 15567, 16553,\n",
       "       13172, 15120, 15949, 15946, 7818, 13599, 4679, 12586, 12588, 15940,\n",
       "       12587, 12589, 12585, 9562, 13854, 13853, 11585, 11467, 11586,\n",
       "       13765, 13766, 11587, 9636, 12639, 12641, 12640, 14768, 3506, 3510,\n",
       "       3507, 13230, 7819, 3509, 15426, 15621, 15457, 15065, 13604, 12857,\n",
       "       14785, 15476, 14000, 15478, 15475, 16151, 15659, 15147, 15660,\n",
       "       15148, 15149, 15146, 15145, 15801, 15452, 15038, 15030, 15875,\n",
       "       16186, 14371, 10459, 14372, 11049, 15850, 15849, 812, 807, 805,\n",
       "       802, 2534, 793, 791, 2179, 804, 41, 798, 2361, 15848, 16525, 16262,\n",
       "       16261, 15206, 11849, 13515, 13514, 13516, 10814, 11847, 13517,\n",
       "       16081, 15402, 15404, 13647, 14657, 16053, 15525, 15527, 14676,\n",
       "       16057, 16056, 13762, 15280, 15282, 15281, 15283, 15934, 15933,\n",
       "       15575, 16239, 14451, 16324, 15582, 13736, 13659, 15465, 15004,\n",
       "       14699, 15349, 15466, 14700, 10775, 16119, 15667, 14746, 15361,\n",
       "       15196, 15657, 15658, 15670, 16527, 16513, 15880, 15879, 16010,\n",
       "       14950, 16540, 15729, 38, 5646, 8344, 15576, 16138, 14366, 13412,\n",
       "       12601, 14632, 15315, 13627, 14184, 15429, 16132, 14680, 15859,\n",
       "       16229, 14302, 16072, 14300, 13096, 16564, 13754, 15734, 15448,\n",
       "       15881, 15731, 15316, 15732, 14599, 15733, 15730, 12771, 3568,\n",
       "       14506, 15811, 16342, 16292, 15307, 16047, 16255, 15154, 16274,\n",
       "       16148, 14360, 16149, 16289, 14981, 15773, 15776, 16037, 16038,\n",
       "       15807, 15952, 15808, 16062, 16063, 14802, 13052, 14805, 14220,\n",
       "       14374, 14395, 15614, 13809, 15612, 13814, 15613, 15615, 15533,\n",
       "       15531, 15530, 15608, 15586, 15928, 16276, 16277, 15456, 15425,\n",
       "       15047, 15927, 16155, 16280, 9937, 16281, 15554, 15106, 16283,\n",
       "       13379, 15338, 15337, 'bon-cadeau-25-euros', 15737, 15958, 16515,\n",
       "       16586, 11225, 16004, 14756, 16005, 14930, 13313, 15229, 14507,\n",
       "       14509, 14508, 15868, 14581, 14580, 15869, 15871, 15870, 12791,\n",
       "       11602, 15073, 14839, 15272, 14696, 15630, 11996, 13914, 13913,\n",
       "       11997, 531, 13531, 15711, 15713, 15715, 15346, 15345, 15344, 15755,\n",
       "       15677, 14561, 16022, 16011, 3383, 14149, 13904, 14141, 12494,\n",
       "       15462, 15095, 14626, 12496, 12315, 15649, 14809, 15155, 12194,\n",
       "       16328, 14469, 16034, 14679, 15526, 16305, 16306, 15138, 15753,\n",
       "       15756, 16131, 16130, 16129, 14712, 15481, 16146, 14648, 14192,\n",
       "       15860, 15863, 15861, 15862, 15864, 14819, 14828, 14827, 15202,\n",
       "       13959, 13965, 13958, 13957, 13520, 13969, 14715, 19820, 19821,\n",
       "       15748, 19822, 16192, 14730, 14729, 8463, 13982, 15944, 15930,\n",
       "       14912, 15945, 14915, 14855, 14856, 15923, 14845, 14844, 15921,\n",
       "       15922, 12366, 8365, 12365, 14647, 15812, 14661, 16304, 15797,\n",
       "       16094, 14736, 11736, 15036, 15360, 15674, 13557, 15035, 16121,\n",
       "       14241, 14982, 15026, 15116, 15369, 15566, 16003, 15127, 15125,\n",
       "       14323, 15631, 16147, 7033, 11258, 13849, 15818, 15179, 15185,\n",
       "       15183, 15254, 15178, 15184, 15180, 15264, 14338, 15561, 16213,\n",
       "       14692, 13291, 13895, 15688, 14461, 14689, 11277, 15399, 13572,\n",
       "       14955, 13567, 15471, 15080, 14429, 15238, 15237, 14600, 15241,\n",
       "       11933, 15240, 15325, 15328, 15329, 15775, 15774, 14983, 13910,\n",
       "       16539, 15910, 12339, 12869, 14095, 14099, 15856, 12881, 15857,\n",
       "       12882, 15227, 10014, 14265, 14774, 14775, 14773, 15343, 15351,\n",
       "       16323, 523, 15432, 16472, 14379, 15609, 14377, 15895, 13577, 15577,\n",
       "       15766, 15892, 16326, 15574, 13662, 11669, 13215, 13211, 15342,\n",
       "       15318, 13073, 16159, 16264, 14899, 15134, 16133, 16028, 15951,\n",
       "       15487, 15486, 15489, 15529, 14089, 14100, 14092, 14090, 14106,\n",
       "       14101, 14797, 15201, 14923, 14573, 14569, 14570, 15834, 14596,\n",
       "       15126, 14604, 16565, 16580, 16077, 13996, 15072, 11601, 12790,\n",
       "       15070, 16096, 7032, 15324, 15162, 15161, 15163, 16273, 16247,\n",
       "       15654, 15710, 15745, 15678, 15810, 15779, 15707, 15705, 15706,\n",
       "       15704, 15473, 15479, 15647, 15769, 15434, 15764, 16071, 15781,\n",
       "       16031, 15539, 16046, 15204, 15205, 15790, 15791, 15792, 15793,\n",
       "       15795, 15794, 15763, 16152, 15661, 16068, 16067, 8193, 16144,\n",
       "       15256, 15735, 14897, 15736, 15740, 15845, 15741, 16135, 15891,\n",
       "       15887, '13127-1', '14680-1', 16230], dtype=object)"
      ]
     },
     "execution_count": 33,
     "metadata": {},
     "output_type": "execute_result"
    }
   ],
   "source": [
    "liaison.id_web.unique()"
   ]
  },
  {
   "cell_type": "markdown",
   "metadata": {},
   "source": [
    "On constate de réference avec '-1' qu'on va supprimer"
   ]
  },
  {
   "cell_type": "code",
   "execution_count": 34,
   "metadata": {},
   "outputs": [],
   "source": [
    "# Remplacer les données \n",
    "liaison['id_web'].replace(['13127-1'], 13127, inplace=True)\n",
    "liaison['id_web'].replace(['14680-1'], 14680, inplace=True)"
   ]
  },
  {
   "cell_type": "code",
   "execution_count": 35,
   "metadata": {},
   "outputs": [
    {
     "data": {
      "text/plain": [
       "0"
      ]
     },
     "execution_count": 35,
     "metadata": {},
     "output_type": "execute_result"
    }
   ],
   "source": [
    "liaison.duplicated(['product_id', 'id_web']).sum()"
   ]
  },
  {
   "cell_type": "code",
   "execution_count": 36,
   "metadata": {},
   "outputs": [
    {
     "data": {
      "text/plain": [
       "product_id     0\n",
       "id_web        91\n",
       "dtype: int64"
      ]
     },
     "execution_count": 36,
     "metadata": {},
     "output_type": "execute_result"
    }
   ],
   "source": [
    "liaison.isnull().sum()"
   ]
  },
  {
   "cell_type": "markdown",
   "metadata": {},
   "source": [
    "## 2. Réponses aux questions de LAURENT"
   ]
  },
  {
   "cell_type": "markdown",
   "metadata": {},
   "source": [
    "### 2.1. Joindre les 3 dataframes 'erp','web'et 'liaison'"
   ]
  },
  {
   "cell_type": "code",
   "execution_count": 37,
   "metadata": {},
   "outputs": [],
   "source": [
    "# Joindre les 2 dataframes 'erp' et 'liaison'\n",
    "erp_liaison = pd.merge(erp, liaison, on = 'product_id')\n",
    "# Joindre les dataframes 'erp_liaison' et 'web'\n",
    "web_erp_liaison = pd.merge(web, erp_liaison, on = 'id_web', indicator=True, how='inner')"
   ]
  },
  {
   "cell_type": "code",
   "execution_count": 38,
   "metadata": {},
   "outputs": [
    {
     "data": {
      "text/plain": [
       "['both']\n",
       "Categories (3, object): ['left_only', 'right_only', 'both']"
      ]
     },
     "execution_count": 38,
     "metadata": {},
     "output_type": "execute_result"
    }
   ],
   "source": [
    "# Verifier les jointures sont bien reussi\n",
    "web_erp_liaison['_merge'].unique()"
   ]
  },
  {
   "cell_type": "code",
   "execution_count": 39,
   "metadata": {},
   "outputs": [
    {
     "data": {
      "text/html": [
       "<div>\n",
       "<style scoped>\n",
       "    .dataframe tbody tr th:only-of-type {\n",
       "        vertical-align: middle;\n",
       "    }\n",
       "\n",
       "    .dataframe tbody tr th {\n",
       "        vertical-align: top;\n",
       "    }\n",
       "\n",
       "    .dataframe thead th {\n",
       "        text-align: right;\n",
       "    }\n",
       "</style>\n",
       "<table border=\"1\" class=\"dataframe\">\n",
       "  <thead>\n",
       "    <tr style=\"text-align: right;\">\n",
       "      <th></th>\n",
       "      <th>id_web</th>\n",
       "      <th>total_sales</th>\n",
       "      <th>tax_status</th>\n",
       "      <th>post_author</th>\n",
       "      <th>post_date</th>\n",
       "      <th>post_excerpt</th>\n",
       "      <th>post_status</th>\n",
       "      <th>comment_status</th>\n",
       "      <th>ping_status</th>\n",
       "      <th>post_name</th>\n",
       "      <th>post_modified_gmt</th>\n",
       "      <th>post_type</th>\n",
       "      <th>product_id</th>\n",
       "      <th>onsale_web</th>\n",
       "      <th>price</th>\n",
       "      <th>stock_quantity</th>\n",
       "      <th>stock_status</th>\n",
       "      <th>_merge</th>\n",
       "    </tr>\n",
       "  </thead>\n",
       "  <tbody>\n",
       "    <tr>\n",
       "      <th>0</th>\n",
       "      <td>15075</td>\n",
       "      <td>3.0</td>\n",
       "      <td>taxable</td>\n",
       "      <td>2.0</td>\n",
       "      <td>2018-02-14 15:39:43</td>\n",
       "      <td>Des couleurs et aromes intenses où le fruit et...</td>\n",
       "      <td>publish</td>\n",
       "      <td>closed</td>\n",
       "      <td>closed</td>\n",
       "      <td>pares-balta-penedes-indigena-2017</td>\n",
       "      <td>2020-08-20 13:35:02</td>\n",
       "      <td>product</td>\n",
       "      <td>4165</td>\n",
       "      <td>1</td>\n",
       "      <td>12.0</td>\n",
       "      <td>57</td>\n",
       "      <td>instock</td>\n",
       "      <td>both</td>\n",
       "    </tr>\n",
       "    <tr>\n",
       "      <th>1</th>\n",
       "      <td>16209</td>\n",
       "      <td>6.0</td>\n",
       "      <td>taxable</td>\n",
       "      <td>2.0</td>\n",
       "      <td>2018-02-14 17:15:31</td>\n",
       "      <td>Un joli nez aux arômes de fruits rouges, de ca...</td>\n",
       "      <td>publish</td>\n",
       "      <td>closed</td>\n",
       "      <td>closed</td>\n",
       "      <td>maurel-cabardes-tradition-2017</td>\n",
       "      <td>2020-08-05 16:05:03</td>\n",
       "      <td>product</td>\n",
       "      <td>4174</td>\n",
       "      <td>1</td>\n",
       "      <td>5.7</td>\n",
       "      <td>94</td>\n",
       "      <td>instock</td>\n",
       "      <td>both</td>\n",
       "    </tr>\n",
       "    <tr>\n",
       "      <th>2</th>\n",
       "      <td>13895</td>\n",
       "      <td>0.0</td>\n",
       "      <td>taxable</td>\n",
       "      <td>2.0</td>\n",
       "      <td>2019-03-19 10:41:50</td>\n",
       "      <td>&lt;span style=\"display: inline !important; float...</td>\n",
       "      <td>publish</td>\n",
       "      <td>closed</td>\n",
       "      <td>closed</td>\n",
       "      <td>chateau-saransot-dupre-bordeaux-blanc-2016</td>\n",
       "      <td>2020-04-25 19:11:40</td>\n",
       "      <td>product</td>\n",
       "      <td>5796</td>\n",
       "      <td>1</td>\n",
       "      <td>12.5</td>\n",
       "      <td>12</td>\n",
       "      <td>instock</td>\n",
       "      <td>both</td>\n",
       "    </tr>\n",
       "    <tr>\n",
       "      <th>3</th>\n",
       "      <td>12857</td>\n",
       "      <td>0.0</td>\n",
       "      <td>taxable</td>\n",
       "      <td>2.0</td>\n",
       "      <td>2018-04-12 17:56:13</td>\n",
       "      <td>Il présente une grande fraîcheur minérale au n...</td>\n",
       "      <td>publish</td>\n",
       "      <td>closed</td>\n",
       "      <td>closed</td>\n",
       "      <td>chateau-de-puligny-montrachet-1cru-champ-canet...</td>\n",
       "      <td>2020-02-06 15:35:02</td>\n",
       "      <td>product</td>\n",
       "      <td>4582</td>\n",
       "      <td>1</td>\n",
       "      <td>109.6</td>\n",
       "      <td>7</td>\n",
       "      <td>instock</td>\n",
       "      <td>both</td>\n",
       "    </tr>\n",
       "    <tr>\n",
       "      <th>4</th>\n",
       "      <td>14106</td>\n",
       "      <td>0.0</td>\n",
       "      <td>taxable</td>\n",
       "      <td>2.0</td>\n",
       "      <td>2019-06-08 09:54:21</td>\n",
       "      <td>Ce vin peut-être dégusté sur sa jeunesse mais ...</td>\n",
       "      <td>publish</td>\n",
       "      <td>closed</td>\n",
       "      <td>closed</td>\n",
       "      <td>stephane-tissot-chateau-chalon-2011</td>\n",
       "      <td>2020-05-29 15:35:03</td>\n",
       "      <td>product</td>\n",
       "      <td>6106</td>\n",
       "      <td>1</td>\n",
       "      <td>74.8</td>\n",
       "      <td>15</td>\n",
       "      <td>instock</td>\n",
       "      <td>both</td>\n",
       "    </tr>\n",
       "  </tbody>\n",
       "</table>\n",
       "</div>"
      ],
      "text/plain": [
       "  id_web  total_sales tax_status  post_author           post_date  \\\n",
       "0  15075          3.0    taxable          2.0 2018-02-14 15:39:43   \n",
       "1  16209          6.0    taxable          2.0 2018-02-14 17:15:31   \n",
       "2  13895          0.0    taxable          2.0 2019-03-19 10:41:50   \n",
       "3  12857          0.0    taxable          2.0 2018-04-12 17:56:13   \n",
       "4  14106          0.0    taxable          2.0 2019-06-08 09:54:21   \n",
       "\n",
       "                                        post_excerpt post_status  \\\n",
       "0  Des couleurs et aromes intenses où le fruit et...     publish   \n",
       "1  Un joli nez aux arômes de fruits rouges, de ca...     publish   \n",
       "2  <span style=\"display: inline !important; float...     publish   \n",
       "3  Il présente une grande fraîcheur minérale au n...     publish   \n",
       "4  Ce vin peut-être dégusté sur sa jeunesse mais ...     publish   \n",
       "\n",
       "  comment_status ping_status  \\\n",
       "0         closed      closed   \n",
       "1         closed      closed   \n",
       "2         closed      closed   \n",
       "3         closed      closed   \n",
       "4         closed      closed   \n",
       "\n",
       "                                           post_name   post_modified_gmt  \\\n",
       "0                  pares-balta-penedes-indigena-2017 2020-08-20 13:35:02   \n",
       "1                     maurel-cabardes-tradition-2017 2020-08-05 16:05:03   \n",
       "2         chateau-saransot-dupre-bordeaux-blanc-2016 2020-04-25 19:11:40   \n",
       "3  chateau-de-puligny-montrachet-1cru-champ-canet... 2020-02-06 15:35:02   \n",
       "4                stephane-tissot-chateau-chalon-2011 2020-05-29 15:35:03   \n",
       "\n",
       "  post_type  product_id  onsale_web  price  stock_quantity stock_status _merge  \n",
       "0   product        4165           1   12.0              57      instock   both  \n",
       "1   product        4174           1    5.7              94      instock   both  \n",
       "2   product        5796           1   12.5              12      instock   both  \n",
       "3   product        4582           1  109.6               7      instock   both  \n",
       "4   product        6106           1   74.8              15      instock   both  "
      ]
     },
     "execution_count": 39,
     "metadata": {},
     "output_type": "execute_result"
    }
   ],
   "source": [
    "# Afficher les infos avec la nouvelle dataframe après les jointures\n",
    "web_erp_liaison.head()"
   ]
  },
  {
   "cell_type": "code",
   "execution_count": 40,
   "metadata": {},
   "outputs": [
    {
     "name": "stdout",
     "output_type": "stream",
     "text": [
      "<class 'pandas.core.frame.DataFrame'>\n",
      "RangeIndex: 717 entries, 0 to 716\n",
      "Data columns (total 18 columns):\n",
      " #   Column             Non-Null Count  Dtype         \n",
      "---  ------             --------------  -----         \n",
      " 0   id_web             717 non-null    object        \n",
      " 1   total_sales        717 non-null    float64       \n",
      " 2   tax_status         717 non-null    object        \n",
      " 3   post_author        717 non-null    float64       \n",
      " 4   post_date          717 non-null    datetime64[ns]\n",
      " 5   post_excerpt       717 non-null    object        \n",
      " 6   post_status        717 non-null    object        \n",
      " 7   comment_status     717 non-null    object        \n",
      " 8   ping_status        717 non-null    object        \n",
      " 9   post_name          717 non-null    object        \n",
      " 10  post_modified_gmt  717 non-null    datetime64[ns]\n",
      " 11  post_type          717 non-null    object        \n",
      " 12  product_id         717 non-null    int64         \n",
      " 13  onsale_web         717 non-null    int64         \n",
      " 14  price              717 non-null    float64       \n",
      " 15  stock_quantity     717 non-null    int64         \n",
      " 16  stock_status       717 non-null    object        \n",
      " 17  _merge             717 non-null    category      \n",
      "dtypes: category(1), datetime64[ns](2), float64(3), int64(3), object(9)\n",
      "memory usage: 96.2+ KB\n"
     ]
    }
   ],
   "source": [
    "web_erp_liaison.info()"
   ]
  },
  {
   "cell_type": "code",
   "execution_count": 41,
   "metadata": {},
   "outputs": [
    {
     "data": {
      "text/plain": [
       "2"
      ]
     },
     "execution_count": 41,
     "metadata": {},
     "output_type": "execute_result"
    }
   ],
   "source": [
    "web_erp_liaison.duplicated(['product_id', 'id_web']).sum()"
   ]
  },
  {
   "cell_type": "markdown",
   "metadata": {},
   "source": [
    "### 2.2. Le chiffre d’affaire par produit"
   ]
  },
  {
   "cell_type": "code",
   "execution_count": 42,
   "metadata": {},
   "outputs": [
    {
     "data": {
      "text/html": [
       "<div>\n",
       "<style scoped>\n",
       "    .dataframe tbody tr th:only-of-type {\n",
       "        vertical-align: middle;\n",
       "    }\n",
       "\n",
       "    .dataframe tbody tr th {\n",
       "        vertical-align: top;\n",
       "    }\n",
       "\n",
       "    .dataframe thead th {\n",
       "        text-align: right;\n",
       "    }\n",
       "</style>\n",
       "<table border=\"1\" class=\"dataframe\">\n",
       "  <thead>\n",
       "    <tr style=\"text-align: right;\">\n",
       "      <th></th>\n",
       "      <th>post_name</th>\n",
       "      <th>onsale_web</th>\n",
       "      <th>total_sales</th>\n",
       "      <th>price</th>\n",
       "    </tr>\n",
       "  </thead>\n",
       "  <tbody>\n",
       "    <tr>\n",
       "      <th>163</th>\n",
       "      <td>8planeta-sicilia-etna-rosso-2018</td>\n",
       "      <td>1</td>\n",
       "      <td>0.0</td>\n",
       "      <td>18.5</td>\n",
       "    </tr>\n",
       "    <tr>\n",
       "      <th>17</th>\n",
       "      <td>agnes-levet-amethyste-2017</td>\n",
       "      <td>1</td>\n",
       "      <td>4.0</td>\n",
       "      <td>41.2</td>\n",
       "    </tr>\n",
       "    <tr>\n",
       "      <th>353</th>\n",
       "      <td>agnes-levet-cote-rotie-maestria-2017</td>\n",
       "      <td>1</td>\n",
       "      <td>3.0</td>\n",
       "      <td>55.0</td>\n",
       "    </tr>\n",
       "    <tr>\n",
       "      <th>48</th>\n",
       "      <td>agnes-levet-cote-rotie-peroline-2017</td>\n",
       "      <td>1</td>\n",
       "      <td>3.0</td>\n",
       "      <td>57.0</td>\n",
       "    </tr>\n",
       "    <tr>\n",
       "      <th>433</th>\n",
       "      <td>alain-graillot-crozes-hermitage-blanc-2018</td>\n",
       "      <td>1</td>\n",
       "      <td>10.0</td>\n",
       "      <td>24.4</td>\n",
       "    </tr>\n",
       "    <tr>\n",
       "      <th>711</th>\n",
       "      <td>alain-graillot-crozes-hermitage-rouge-2017</td>\n",
       "      <td>1</td>\n",
       "      <td>6.0</td>\n",
       "      <td>24.4</td>\n",
       "    </tr>\n",
       "    <tr>\n",
       "      <th>251</th>\n",
       "      <td>alain-graillot-crozes-hermitage-rouge-la-guira...</td>\n",
       "      <td>1</td>\n",
       "      <td>24.0</td>\n",
       "      <td>37.2</td>\n",
       "    </tr>\n",
       "    <tr>\n",
       "      <th>125</th>\n",
       "      <td>albert-boxler-chasselas-2016</td>\n",
       "      <td>1</td>\n",
       "      <td>6.0</td>\n",
       "      <td>19.2</td>\n",
       "    </tr>\n",
       "    <tr>\n",
       "      <th>183</th>\n",
       "      <td>albert-boxler-cremant-2014</td>\n",
       "      <td>1</td>\n",
       "      <td>3.0</td>\n",
       "      <td>19.2</td>\n",
       "    </tr>\n",
       "    <tr>\n",
       "      <th>240</th>\n",
       "      <td>albert-boxler-pinot-gris-reserve-2016</td>\n",
       "      <td>1</td>\n",
       "      <td>3.0</td>\n",
       "      <td>27.8</td>\n",
       "    </tr>\n",
       "  </tbody>\n",
       "</table>\n",
       "</div>"
      ],
      "text/plain": [
       "                                             post_name  onsale_web  \\\n",
       "163                   8planeta-sicilia-etna-rosso-2018           1   \n",
       "17                          agnes-levet-amethyste-2017           1   \n",
       "353               agnes-levet-cote-rotie-maestria-2017           1   \n",
       "48                agnes-levet-cote-rotie-peroline-2017           1   \n",
       "433         alain-graillot-crozes-hermitage-blanc-2018           1   \n",
       "711         alain-graillot-crozes-hermitage-rouge-2017           1   \n",
       "251  alain-graillot-crozes-hermitage-rouge-la-guira...           1   \n",
       "125                       albert-boxler-chasselas-2016           1   \n",
       "183                         albert-boxler-cremant-2014           1   \n",
       "240              albert-boxler-pinot-gris-reserve-2016           1   \n",
       "\n",
       "     total_sales  price  \n",
       "163          0.0   18.5  \n",
       "17           4.0   41.2  \n",
       "353          3.0   55.0  \n",
       "48           3.0   57.0  \n",
       "433         10.0   24.4  \n",
       "711          6.0   24.4  \n",
       "251         24.0   37.2  \n",
       "125          6.0   19.2  \n",
       "183          3.0   19.2  \n",
       "240          3.0   27.8  "
      ]
     },
     "execution_count": 42,
     "metadata": {},
     "output_type": "execute_result"
    }
   ],
   "source": [
    "# Créer une dataframe avec les colonnes utiles\n",
    "ca_product = web_erp_liaison[['post_name','onsale_web','total_sales','price']].sort_values(by='post_name').copy()\n",
    "ca_product.head(10)"
   ]
  },
  {
   "cell_type": "code",
   "execution_count": 43,
   "metadata": {},
   "outputs": [
    {
     "data": {
      "text/html": [
       "<div>\n",
       "<style scoped>\n",
       "    .dataframe tbody tr th:only-of-type {\n",
       "        vertical-align: middle;\n",
       "    }\n",
       "\n",
       "    .dataframe tbody tr th {\n",
       "        vertical-align: top;\n",
       "    }\n",
       "\n",
       "    .dataframe thead th {\n",
       "        text-align: right;\n",
       "    }\n",
       "</style>\n",
       "<table border=\"1\" class=\"dataframe\">\n",
       "  <thead>\n",
       "    <tr style=\"text-align: right;\">\n",
       "      <th></th>\n",
       "      <th>post_name</th>\n",
       "      <th>onsale_web</th>\n",
       "      <th>total_sales</th>\n",
       "      <th>price</th>\n",
       "      <th>chiffre_affaire</th>\n",
       "    </tr>\n",
       "  </thead>\n",
       "  <tbody>\n",
       "    <tr>\n",
       "      <th>163</th>\n",
       "      <td>8planeta-sicilia-etna-rosso-2018</td>\n",
       "      <td>1</td>\n",
       "      <td>0.0</td>\n",
       "      <td>18.5</td>\n",
       "      <td>0.0</td>\n",
       "    </tr>\n",
       "    <tr>\n",
       "      <th>17</th>\n",
       "      <td>agnes-levet-amethyste-2017</td>\n",
       "      <td>1</td>\n",
       "      <td>4.0</td>\n",
       "      <td>41.2</td>\n",
       "      <td>164.8</td>\n",
       "    </tr>\n",
       "    <tr>\n",
       "      <th>353</th>\n",
       "      <td>agnes-levet-cote-rotie-maestria-2017</td>\n",
       "      <td>1</td>\n",
       "      <td>3.0</td>\n",
       "      <td>55.0</td>\n",
       "      <td>165.0</td>\n",
       "    </tr>\n",
       "    <tr>\n",
       "      <th>48</th>\n",
       "      <td>agnes-levet-cote-rotie-peroline-2017</td>\n",
       "      <td>1</td>\n",
       "      <td>3.0</td>\n",
       "      <td>57.0</td>\n",
       "      <td>171.0</td>\n",
       "    </tr>\n",
       "    <tr>\n",
       "      <th>433</th>\n",
       "      <td>alain-graillot-crozes-hermitage-blanc-2018</td>\n",
       "      <td>1</td>\n",
       "      <td>10.0</td>\n",
       "      <td>24.4</td>\n",
       "      <td>244.0</td>\n",
       "    </tr>\n",
       "    <tr>\n",
       "      <th>...</th>\n",
       "      <td>...</td>\n",
       "      <td>...</td>\n",
       "      <td>...</td>\n",
       "      <td>...</td>\n",
       "      <td>...</td>\n",
       "    </tr>\n",
       "    <tr>\n",
       "      <th>218</th>\n",
       "      <td>zind-humbrecht-pinot-gris-windsbuhl-2013</td>\n",
       "      <td>1</td>\n",
       "      <td>0.0</td>\n",
       "      <td>71.5</td>\n",
       "      <td>0.0</td>\n",
       "    </tr>\n",
       "    <tr>\n",
       "      <th>176</th>\n",
       "      <td>zind-humbrecht-riesling-clos-windsbuhl-2014</td>\n",
       "      <td>1</td>\n",
       "      <td>0.0</td>\n",
       "      <td>69.0</td>\n",
       "      <td>0.0</td>\n",
       "    </tr>\n",
       "    <tr>\n",
       "      <th>16</th>\n",
       "      <td>zind-humbrecht-riesling-gc-rangen-thann-clos-s...</td>\n",
       "      <td>1</td>\n",
       "      <td>0.0</td>\n",
       "      <td>100.0</td>\n",
       "      <td>0.0</td>\n",
       "    </tr>\n",
       "    <tr>\n",
       "      <th>659</th>\n",
       "      <td>zind-humbrecht-riesling-herrenweg-turckheim-2017</td>\n",
       "      <td>1</td>\n",
       "      <td>2.0</td>\n",
       "      <td>31.7</td>\n",
       "      <td>63.4</td>\n",
       "    </tr>\n",
       "    <tr>\n",
       "      <th>553</th>\n",
       "      <td>zind-humbrecht-vdf-zind-2017</td>\n",
       "      <td>1</td>\n",
       "      <td>6.0</td>\n",
       "      <td>25.7</td>\n",
       "      <td>154.2</td>\n",
       "    </tr>\n",
       "  </tbody>\n",
       "</table>\n",
       "<p>717 rows × 5 columns</p>\n",
       "</div>"
      ],
      "text/plain": [
       "                                             post_name  onsale_web  \\\n",
       "163                   8planeta-sicilia-etna-rosso-2018           1   \n",
       "17                          agnes-levet-amethyste-2017           1   \n",
       "353               agnes-levet-cote-rotie-maestria-2017           1   \n",
       "48                agnes-levet-cote-rotie-peroline-2017           1   \n",
       "433         alain-graillot-crozes-hermitage-blanc-2018           1   \n",
       "..                                                 ...         ...   \n",
       "218           zind-humbrecht-pinot-gris-windsbuhl-2013           1   \n",
       "176        zind-humbrecht-riesling-clos-windsbuhl-2014           1   \n",
       "16   zind-humbrecht-riesling-gc-rangen-thann-clos-s...           1   \n",
       "659   zind-humbrecht-riesling-herrenweg-turckheim-2017           1   \n",
       "553                       zind-humbrecht-vdf-zind-2017           1   \n",
       "\n",
       "     total_sales  price  chiffre_affaire  \n",
       "163          0.0   18.5              0.0  \n",
       "17           4.0   41.2            164.8  \n",
       "353          3.0   55.0            165.0  \n",
       "48           3.0   57.0            171.0  \n",
       "433         10.0   24.4            244.0  \n",
       "..           ...    ...              ...  \n",
       "218          0.0   71.5              0.0  \n",
       "176          0.0   69.0              0.0  \n",
       "16           0.0  100.0              0.0  \n",
       "659          2.0   31.7             63.4  \n",
       "553          6.0   25.7            154.2  \n",
       "\n",
       "[717 rows x 5 columns]"
      ]
     },
     "execution_count": 43,
     "metadata": {},
     "output_type": "execute_result"
    }
   ],
   "source": [
    "# Calcul du chiffre d’affaires par produit\n",
    "ca_product['chiffre_affaire'] = ca_product['total_sales'] * ca_product['price']\n",
    "ca_product"
   ]
  },
  {
   "cell_type": "markdown",
   "metadata": {},
   "source": [
    "### 2.3. Le chiffre d’affaire total réalisé en ligne"
   ]
  },
  {
   "cell_type": "code",
   "execution_count": 44,
   "metadata": {},
   "outputs": [
    {
     "data": {
      "text/plain": [
       "array([1, 0], dtype=int64)"
      ]
     },
     "execution_count": 44,
     "metadata": {},
     "output_type": "execute_result"
    }
   ],
   "source": [
    "# Verifier si tous les produits de la dataframe 'ca_produit' sont vendus en ligne\n",
    "ca_product['onsale_web'].unique()"
   ]
  },
  {
   "cell_type": "code",
   "execution_count": 45,
   "metadata": {},
   "outputs": [
    {
     "name": "stdout",
     "output_type": "stream",
     "text": [
      "Le total du chiffre d’affaire réalisé en ligne est: 71988.0euros.\n"
     ]
    }
   ],
   "source": [
    "#  Calcul du chiffre d’affaire total réalisé en ligne\n",
    "ca_total = np.round(ca_product['chiffre_affaire'].sum(), 2)\n",
    "print(\"Le total du chiffre d’affaire réalisé en ligne est: \"+ str(ca_total) +'euros.')"
   ]
  },
  {
   "cell_type": "markdown",
   "metadata": {},
   "source": [
    "### 2.4 Analyse sur la variable prix"
   ]
  },
  {
   "cell_type": "markdown",
   "metadata": {},
   "source": [
    "#### 2.4.1 Description de la variable prix"
   ]
  },
  {
   "cell_type": "markdown",
   "metadata": {},
   "source": [
    "Voir les statistiques diverses (moyenne, maximum, minimum, etc.) de la variable 'prix'\n",
    "pour avoir une première idées des valeurs aberrantes."
   ]
  },
  {
   "cell_type": "code",
   "execution_count": 46,
   "metadata": {},
   "outputs": [
    {
     "data": {
      "text/html": [
       "<div>\n",
       "<style scoped>\n",
       "    .dataframe tbody tr th:only-of-type {\n",
       "        vertical-align: middle;\n",
       "    }\n",
       "\n",
       "    .dataframe tbody tr th {\n",
       "        vertical-align: top;\n",
       "    }\n",
       "\n",
       "    .dataframe thead th {\n",
       "        text-align: right;\n",
       "    }\n",
       "</style>\n",
       "<table border=\"1\" class=\"dataframe\">\n",
       "  <thead>\n",
       "    <tr style=\"text-align: right;\">\n",
       "      <th></th>\n",
       "      <th>id_web</th>\n",
       "      <th>product_id</th>\n",
       "      <th>post_name</th>\n",
       "      <th>total_sales</th>\n",
       "      <th>price</th>\n",
       "    </tr>\n",
       "  </thead>\n",
       "  <tbody>\n",
       "    <tr>\n",
       "      <th>210</th>\n",
       "      <td>14570</td>\n",
       "      <td>6129</td>\n",
       "      <td>moulin-de-gassac-igp-pays-dherault-guilhem-bla...</td>\n",
       "      <td>0.0</td>\n",
       "      <td>5.2</td>\n",
       "    </tr>\n",
       "    <tr>\n",
       "      <th>1</th>\n",
       "      <td>16209</td>\n",
       "      <td>4174</td>\n",
       "      <td>maurel-cabardes-tradition-2017</td>\n",
       "      <td>6.0</td>\n",
       "      <td>5.7</td>\n",
       "    </tr>\n",
       "    <tr>\n",
       "      <th>679</th>\n",
       "      <td>16211</td>\n",
       "      <td>4173</td>\n",
       "      <td>maurel-pays-doc-chenin-colombard-2019</td>\n",
       "      <td>13.0</td>\n",
       "      <td>5.7</td>\n",
       "    </tr>\n",
       "    <tr>\n",
       "      <th>111</th>\n",
       "      <td>14338</td>\n",
       "      <td>5777</td>\n",
       "      <td>maurel-pays-d-oc-cabernet-sauvignon-2017</td>\n",
       "      <td>0.0</td>\n",
       "      <td>5.7</td>\n",
       "    </tr>\n",
       "    <tr>\n",
       "      <th>104</th>\n",
       "      <td>16210</td>\n",
       "      <td>4172</td>\n",
       "      <td>maurel-pays-oc-chardonnay-2019</td>\n",
       "      <td>43.0</td>\n",
       "      <td>5.7</td>\n",
       "    </tr>\n",
       "    <tr>\n",
       "      <th>...</th>\n",
       "      <td>...</td>\n",
       "      <td>...</td>\n",
       "      <td>...</td>\n",
       "      <td>...</td>\n",
       "      <td>...</td>\n",
       "    </tr>\n",
       "    <tr>\n",
       "      <th>177</th>\n",
       "      <td>15185</td>\n",
       "      <td>5767</td>\n",
       "      <td>camille-giroud-clos-de-vougeot-2016</td>\n",
       "      <td>0.0</td>\n",
       "      <td>175.0</td>\n",
       "    </tr>\n",
       "    <tr>\n",
       "      <th>186</th>\n",
       "      <td>3510</td>\n",
       "      <td>4402</td>\n",
       "      <td>cognac-frapin-vip-xo</td>\n",
       "      <td>13.0</td>\n",
       "      <td>176.0</td>\n",
       "    </tr>\n",
       "    <tr>\n",
       "      <th>561</th>\n",
       "      <td>14983</td>\n",
       "      <td>5892</td>\n",
       "      <td>coteaux-champenois-egly-ouriet-ambonnay-rouge-...</td>\n",
       "      <td>3.0</td>\n",
       "      <td>191.3</td>\n",
       "    </tr>\n",
       "    <tr>\n",
       "      <th>318</th>\n",
       "      <td>14581</td>\n",
       "      <td>5001</td>\n",
       "      <td>david-duband-charmes-chambertin-grand-cru-2014</td>\n",
       "      <td>0.0</td>\n",
       "      <td>217.5</td>\n",
       "    </tr>\n",
       "    <tr>\n",
       "      <th>673</th>\n",
       "      <td>15940</td>\n",
       "      <td>4352</td>\n",
       "      <td>champagne-egly-ouriet-grand-cru-millesime-2008</td>\n",
       "      <td>5.0</td>\n",
       "      <td>225.0</td>\n",
       "    </tr>\n",
       "  </tbody>\n",
       "</table>\n",
       "<p>717 rows × 5 columns</p>\n",
       "</div>"
      ],
      "text/plain": [
       "    id_web  product_id                                          post_name  \\\n",
       "210  14570        6129  moulin-de-gassac-igp-pays-dherault-guilhem-bla...   \n",
       "1    16209        4174                     maurel-cabardes-tradition-2017   \n",
       "679  16211        4173              maurel-pays-doc-chenin-colombard-2019   \n",
       "111  14338        5777           maurel-pays-d-oc-cabernet-sauvignon-2017   \n",
       "104  16210        4172                     maurel-pays-oc-chardonnay-2019   \n",
       "..     ...         ...                                                ...   \n",
       "177  15185        5767                camille-giroud-clos-de-vougeot-2016   \n",
       "186   3510        4402                               cognac-frapin-vip-xo   \n",
       "561  14983        5892  coteaux-champenois-egly-ouriet-ambonnay-rouge-...   \n",
       "318  14581        5001     david-duband-charmes-chambertin-grand-cru-2014   \n",
       "673  15940        4352     champagne-egly-ouriet-grand-cru-millesime-2008   \n",
       "\n",
       "     total_sales  price  \n",
       "210          0.0    5.2  \n",
       "1            6.0    5.7  \n",
       "679         13.0    5.7  \n",
       "111          0.0    5.7  \n",
       "104         43.0    5.7  \n",
       "..           ...    ...  \n",
       "177          0.0  175.0  \n",
       "186         13.0  176.0  \n",
       "561          3.0  191.3  \n",
       "318          0.0  217.5  \n",
       "673          5.0  225.0  \n",
       "\n",
       "[717 rows x 5 columns]"
      ]
     },
     "execution_count": 46,
     "metadata": {},
     "output_type": "execute_result"
    }
   ],
   "source": [
    "# Créer la dataframe avec les colonnes utiles pour montrer le prix des produits\n",
    "df_price =  web_erp_liaison[['id_web','product_id','post_name','total_sales','price']].sort_values(by='price')\n",
    "df_price"
   ]
  },
  {
   "cell_type": "code",
   "execution_count": 47,
   "metadata": {},
   "outputs": [
    {
     "data": {
      "text/plain": [
       "count    717.000000\n",
       "mean      32.532357\n",
       "std       27.769101\n",
       "min        5.200000\n",
       "25%       14.100000\n",
       "50%       23.700000\n",
       "75%       42.200000\n",
       "max      225.000000\n",
       "Name: price, dtype: float64"
      ]
     },
     "execution_count": 47,
     "metadata": {},
     "output_type": "execute_result"
    }
   ],
   "source": [
    "df_price.price.describe()"
   ]
  },
  {
   "cell_type": "markdown",
   "metadata": {},
   "source": [
    "#### 2.4.2 Visualisation à l'aide de graphiques 'histogramme' et 'boîte à moustaches'"
   ]
  },
  {
   "cell_type": "code",
   "execution_count": 48,
   "metadata": {},
   "outputs": [
    {
     "data": {
      "application/vnd.plotly.v1+json": {
       "config": {
        "plotlyServerURL": "https://plot.ly"
       },
       "data": [
        {
         "alignmentgroup": "True",
         "bingroup": "x",
         "hovertemplate": "Prix=%{x}<br>count=%{y}<extra></extra>",
         "legendgroup": "",
         "marker": {
          "color": "#636efa",
          "pattern": {
           "shape": ""
          }
         },
         "name": "",
         "nbinsx": 20,
         "offsetgroup": "",
         "orientation": "v",
         "showlegend": false,
         "type": "histogram",
         "x": [
          5.2,
          5.7,
          5.7,
          5.7,
          5.7,
          5.8,
          5.8,
          5.8,
          5.8,
          6.3,
          6.5,
          6.5,
          6.5,
          6.7,
          6.8,
          6.8,
          7,
          7,
          7.1,
          7.1,
          7.1,
          7.2,
          7.4,
          7.4,
          7.5,
          7.6,
          7.6,
          7.7,
          7.8,
          7.8,
          7.9,
          7.9,
          8.1,
          8.2,
          8.4,
          8.5,
          8.5,
          8.6,
          8.6,
          8.7,
          8.7,
          8.7,
          8.7,
          8.7,
          8.9,
          8.9,
          8.9,
          9,
          9,
          9.1,
          9.1,
          9.2,
          9.3,
          9.3,
          9.3,
          9.3,
          9.3,
          9.3,
          9.4,
          9.5,
          9.5,
          9.6,
          9.6,
          9.7,
          9.7,
          9.7,
          9.8,
          9.8,
          9.8,
          9.9,
          9.9,
          9.9,
          9.9,
          9.9,
          9.9,
          10.1,
          10.1,
          10.2,
          10.2,
          10.3,
          10.3,
          10.4,
          10.4,
          10.6,
          10.6,
          10.7,
          10.7,
          10.7,
          10.7,
          10.8,
          10.8,
          10.8,
          10.9,
          10.9,
          11,
          11.1,
          11.1,
          11.1,
          11.1,
          11.1,
          11.1,
          11.1,
          11.3,
          11.3,
          11.5,
          11.5,
          11.6,
          11.6,
          11.6,
          11.8,
          11.9,
          11.9,
          11.9,
          11.9,
          11.9,
          12,
          12,
          12,
          12,
          12,
          12.1,
          12.1,
          12.1,
          12.2,
          12.3,
          12.3,
          12.5,
          12.5,
          12.5,
          12.6,
          12.6,
          12.6,
          12.6,
          12.7,
          12.7,
          12.7,
          12.7,
          12.7,
          12.7,
          12.8,
          12.8,
          12.8,
          12.8,
          12.8,
          12.8,
          12.9,
          12.9,
          12.9,
          12.9,
          12.9,
          13,
          13.1,
          13.1,
          13.2,
          13.2,
          13.3,
          13.3,
          13.4,
          13.4,
          13.4,
          13.5,
          13.5,
          13.5,
          13.5,
          13.5,
          13.5,
          13.5,
          13.6,
          13.6,
          13.7,
          13.7,
          13.7,
          13.7,
          13.7,
          13.8,
          13.9,
          14,
          14.05,
          14.1,
          14.1,
          14.1,
          14.3,
          14.3,
          14.3,
          14.4,
          14.4,
          14.4,
          14.5,
          14.5,
          14.5,
          14.6,
          14.7,
          14.8,
          14.9,
          14.9,
          14.9,
          15.2,
          15.2,
          15.2,
          15.3,
          15.3,
          15.4,
          15.4,
          15.4,
          15.4,
          15.5,
          15.5,
          15.8,
          15.8,
          15.8,
          15.8,
          15.8,
          15.9,
          16.1,
          16.1,
          16.2,
          16.3,
          16.3,
          16.3,
          16.3,
          16.3,
          16.3,
          16.4,
          16.4,
          16.4,
          16.45,
          16.5,
          16.5,
          16.6,
          16.6,
          16.6,
          16.6,
          16.7,
          16.7,
          16.7,
          16.8,
          16.8,
          16.9,
          16.9,
          16.9,
          16.9,
          16.9,
          17,
          17,
          17,
          17.1,
          17.1,
          17.1,
          17.1,
          17.2,
          17.2,
          17.2,
          17.3,
          17.4,
          17.5,
          17.5,
          17.5,
          17.6,
          17.7,
          17.8,
          17.8,
          17.8,
          17.9,
          17.9,
          17.9,
          18,
          18,
          18.1,
          18.2,
          18.2,
          18.2,
          18.2,
          18.25,
          18.3,
          18.4,
          18.4,
          18.5,
          18.5,
          18.6,
          18.7,
          18.7,
          18.8,
          18.9,
          19,
          19,
          19,
          19,
          19,
          19,
          19,
          19,
          19,
          19.2,
          19.2,
          19.2,
          19.3,
          19.3,
          19.5,
          19.5,
          19.5,
          19.5,
          19.8,
          19.8,
          19.8,
          19.8,
          19.8,
          19.8,
          20.1,
          20.2,
          20.2,
          20.35,
          20.4,
          20.4,
          20.5,
          20.5,
          20.6,
          20.8,
          20.8,
          20.8,
          20.8,
          21,
          21,
          21.2,
          21.4,
          21.5,
          21.6,
          21.7,
          21.7,
          21.8,
          21.8,
          21.8,
          21.9,
          22,
          22,
          22.1,
          22.2,
          22.4,
          22.4,
          22.5,
          22.8,
          22.8,
          22.8,
          22.8,
          22.8,
          22.9,
          22.9,
          23,
          23,
          23,
          23,
          23.2,
          23.2,
          23.2,
          23.4,
          23.4,
          23.4,
          23.5,
          23.6,
          23.7,
          23.8,
          24,
          24,
          24,
          24,
          24,
          24,
          24.2,
          24.2,
          24.3,
          24.3,
          24.4,
          24.4,
          24.4,
          24.4,
          24.5,
          24.5,
          24.6,
          24.7,
          24.8,
          25,
          25,
          25,
          25,
          25.2,
          25.2,
          25.3,
          25.3,
          25.7,
          25.7,
          25.9,
          25.9,
          25.9,
          25.9,
          26,
          26.2,
          26.4,
          26.5,
          26.5,
          26.5,
          26.5,
          26.5,
          26.5,
          26.6,
          26.7,
          26.7,
          26.9,
          27,
          27.2,
          27.3,
          27.3,
          27.3,
          27.5,
          27.5,
          27.5,
          27.7,
          27.8,
          27.8,
          27.9,
          27.9,
          27.9,
          27.9,
          27.9,
          28,
          28,
          28,
          28,
          28.1,
          28.1,
          28.4,
          28.4,
          28.5,
          28.5,
          28.5,
          28.8,
          29,
          29,
          29,
          29.2,
          29.4,
          29.5,
          29.5,
          29.5,
          29.7,
          29.8,
          29.8,
          29.8,
          29.9,
          29.9,
          30,
          30,
          30.1,
          30.5,
          30.6,
          30.8,
          31,
          31.2,
          31.5,
          31.5,
          31.6,
          31.7,
          31.7,
          31.7,
          32,
          32.1,
          32.2,
          32.2,
          32.6,
          32.7,
          32.8,
          32.8,
          33,
          33.2,
          33.2,
          33.2,
          33.4,
          33.4,
          33.6,
          33.7,
          34.3,
          34.3,
          34.3,
          34.4,
          34.7,
          34.8,
          35,
          35.1,
          35.2,
          35.3,
          35.5,
          35.6,
          35.6,
          35.6,
          36,
          36,
          36.2,
          36.3,
          36.9,
          37,
          37.2,
          37.5,
          37.7,
          38,
          38,
          38,
          38.4,
          38.4,
          38.5,
          38.6,
          38.6,
          38.6,
          38.6,
          39,
          39,
          39,
          39,
          39.1,
          39.2,
          39.6,
          39.8,
          40,
          40.2,
          40.2,
          40.2,
          40.5,
          40.7,
          41,
          41,
          41,
          41.2,
          41.6,
          41.8,
          41.8,
          41.8,
          42,
          42,
          42.1,
          42.2,
          42.2,
          42.6,
          43,
          43,
          43.5,
          43.5,
          43.9,
          43.9,
          44,
          44,
          44,
          44,
          44,
          44.3,
          44.3,
          44.5,
          44.6,
          45,
          45,
          45.9,
          46,
          46,
          46,
          46,
          46,
          46.5,
          46.5,
          46.5,
          47.2,
          48.4,
          48.5,
          48.5,
          48.5,
          48.5,
          48.7,
          48.7,
          48.8,
          48.8,
          49,
          49,
          49,
          49,
          49.5,
          49.5,
          49.5,
          49.5,
          49.5,
          49.5,
          49.9,
          50,
          50,
          50.1,
          50.4,
          50.5,
          51,
          51.6,
          52.4,
          52.4,
          52.4,
          52.6,
          52.7,
          52.9,
          53,
          53.2,
          54.8,
          54.8,
          54.8,
          55,
          55.4,
          55.6,
          56,
          56.3,
          56.4,
          57,
          57,
          57,
          57,
          57,
          57.6,
          57.6,
          57.7,
          58,
          58,
          58.3,
          58.8,
          59,
          59,
          59,
          59,
          59,
          59,
          59.4,
          59.6,
          59.6,
          59.8,
          59.9,
          59.9,
          59.9,
          60,
          60,
          60.4,
          61.6,
          61.6,
          62,
          62.1,
          62.4,
          62.4,
          62.4,
          62.5,
          63.4,
          63.5,
          63.5,
          64.9,
          65,
          65.9,
          67,
          67.2,
          67.5,
          68.1,
          68.3,
          69,
          69,
          69,
          69.8,
          71.3,
          71.3,
          71.5,
          71.6,
          71.7,
          72,
          73.3,
          74.5,
          74.8,
          76.8,
          77,
          77.4,
          77.8,
          78,
          78,
          78,
          78,
          78,
          79.5,
          79.5,
          79.8,
          80,
          83,
          83.7,
          85.6,
          86.8,
          88.4,
          92,
          93,
          99,
          100,
          102.3,
          104,
          105,
          105,
          105.6,
          108.5,
          109.6,
          112,
          114,
          115,
          115,
          116.4,
          121,
          121,
          122,
          124.8,
          126.5,
          135,
          137,
          157,
          175,
          176,
          191.3,
          217.5,
          225
         ],
         "xaxis": "x",
         "yaxis": "y"
        }
       ],
       "layout": {
        "barmode": "relative",
        "legend": {
         "tracegroupgap": 0,
         "x": 0.75,
         "y": 0.95
        },
        "shapes": [
         {
          "line": {
           "color": "yellowgreen",
           "dash": "dash",
           "width": 2
          },
          "name": "Moyenne",
          "type": "line",
          "x0": 32.532357043235706,
          "x1": 32.532357043235706,
          "xref": "x",
          "y0": 0,
          "y1": 1,
          "yref": "paper"
         },
         {
          "line": {
           "color": "lightseagreen",
           "dash": "dashdot",
           "width": 2
          },
          "name": "Médiane",
          "type": "line",
          "x0": 23.7,
          "x1": 23.7,
          "xref": "x",
          "y0": 0,
          "y1": 1,
          "yref": "paper"
         }
        ],
        "template": {
         "data": {
          "bar": [
           {
            "error_x": {
             "color": "#f2f5fa"
            },
            "error_y": {
             "color": "#f2f5fa"
            },
            "marker": {
             "line": {
              "color": "rgb(17,17,17)",
              "width": 0.5
             },
             "pattern": {
              "fillmode": "overlay",
              "size": 10,
              "solidity": 0.2
             }
            },
            "type": "bar"
           }
          ],
          "barpolar": [
           {
            "marker": {
             "line": {
              "color": "rgb(17,17,17)",
              "width": 0.5
             },
             "pattern": {
              "fillmode": "overlay",
              "size": 10,
              "solidity": 0.2
             }
            },
            "type": "barpolar"
           }
          ],
          "carpet": [
           {
            "aaxis": {
             "endlinecolor": "#A2B1C6",
             "gridcolor": "#506784",
             "linecolor": "#506784",
             "minorgridcolor": "#506784",
             "startlinecolor": "#A2B1C6"
            },
            "baxis": {
             "endlinecolor": "#A2B1C6",
             "gridcolor": "#506784",
             "linecolor": "#506784",
             "minorgridcolor": "#506784",
             "startlinecolor": "#A2B1C6"
            },
            "type": "carpet"
           }
          ],
          "choropleth": [
           {
            "colorbar": {
             "outlinewidth": 0,
             "ticks": ""
            },
            "type": "choropleth"
           }
          ],
          "contour": [
           {
            "colorbar": {
             "outlinewidth": 0,
             "ticks": ""
            },
            "colorscale": [
             [
              0,
              "#0d0887"
             ],
             [
              0.1111111111111111,
              "#46039f"
             ],
             [
              0.2222222222222222,
              "#7201a8"
             ],
             [
              0.3333333333333333,
              "#9c179e"
             ],
             [
              0.4444444444444444,
              "#bd3786"
             ],
             [
              0.5555555555555556,
              "#d8576b"
             ],
             [
              0.6666666666666666,
              "#ed7953"
             ],
             [
              0.7777777777777778,
              "#fb9f3a"
             ],
             [
              0.8888888888888888,
              "#fdca26"
             ],
             [
              1,
              "#f0f921"
             ]
            ],
            "type": "contour"
           }
          ],
          "contourcarpet": [
           {
            "colorbar": {
             "outlinewidth": 0,
             "ticks": ""
            },
            "type": "contourcarpet"
           }
          ],
          "heatmap": [
           {
            "colorbar": {
             "outlinewidth": 0,
             "ticks": ""
            },
            "colorscale": [
             [
              0,
              "#0d0887"
             ],
             [
              0.1111111111111111,
              "#46039f"
             ],
             [
              0.2222222222222222,
              "#7201a8"
             ],
             [
              0.3333333333333333,
              "#9c179e"
             ],
             [
              0.4444444444444444,
              "#bd3786"
             ],
             [
              0.5555555555555556,
              "#d8576b"
             ],
             [
              0.6666666666666666,
              "#ed7953"
             ],
             [
              0.7777777777777778,
              "#fb9f3a"
             ],
             [
              0.8888888888888888,
              "#fdca26"
             ],
             [
              1,
              "#f0f921"
             ]
            ],
            "type": "heatmap"
           }
          ],
          "heatmapgl": [
           {
            "colorbar": {
             "outlinewidth": 0,
             "ticks": ""
            },
            "colorscale": [
             [
              0,
              "#0d0887"
             ],
             [
              0.1111111111111111,
              "#46039f"
             ],
             [
              0.2222222222222222,
              "#7201a8"
             ],
             [
              0.3333333333333333,
              "#9c179e"
             ],
             [
              0.4444444444444444,
              "#bd3786"
             ],
             [
              0.5555555555555556,
              "#d8576b"
             ],
             [
              0.6666666666666666,
              "#ed7953"
             ],
             [
              0.7777777777777778,
              "#fb9f3a"
             ],
             [
              0.8888888888888888,
              "#fdca26"
             ],
             [
              1,
              "#f0f921"
             ]
            ],
            "type": "heatmapgl"
           }
          ],
          "histogram": [
           {
            "marker": {
             "pattern": {
              "fillmode": "overlay",
              "size": 10,
              "solidity": 0.2
             }
            },
            "type": "histogram"
           }
          ],
          "histogram2d": [
           {
            "colorbar": {
             "outlinewidth": 0,
             "ticks": ""
            },
            "colorscale": [
             [
              0,
              "#0d0887"
             ],
             [
              0.1111111111111111,
              "#46039f"
             ],
             [
              0.2222222222222222,
              "#7201a8"
             ],
             [
              0.3333333333333333,
              "#9c179e"
             ],
             [
              0.4444444444444444,
              "#bd3786"
             ],
             [
              0.5555555555555556,
              "#d8576b"
             ],
             [
              0.6666666666666666,
              "#ed7953"
             ],
             [
              0.7777777777777778,
              "#fb9f3a"
             ],
             [
              0.8888888888888888,
              "#fdca26"
             ],
             [
              1,
              "#f0f921"
             ]
            ],
            "type": "histogram2d"
           }
          ],
          "histogram2dcontour": [
           {
            "colorbar": {
             "outlinewidth": 0,
             "ticks": ""
            },
            "colorscale": [
             [
              0,
              "#0d0887"
             ],
             [
              0.1111111111111111,
              "#46039f"
             ],
             [
              0.2222222222222222,
              "#7201a8"
             ],
             [
              0.3333333333333333,
              "#9c179e"
             ],
             [
              0.4444444444444444,
              "#bd3786"
             ],
             [
              0.5555555555555556,
              "#d8576b"
             ],
             [
              0.6666666666666666,
              "#ed7953"
             ],
             [
              0.7777777777777778,
              "#fb9f3a"
             ],
             [
              0.8888888888888888,
              "#fdca26"
             ],
             [
              1,
              "#f0f921"
             ]
            ],
            "type": "histogram2dcontour"
           }
          ],
          "mesh3d": [
           {
            "colorbar": {
             "outlinewidth": 0,
             "ticks": ""
            },
            "type": "mesh3d"
           }
          ],
          "parcoords": [
           {
            "line": {
             "colorbar": {
              "outlinewidth": 0,
              "ticks": ""
             }
            },
            "type": "parcoords"
           }
          ],
          "pie": [
           {
            "automargin": true,
            "type": "pie"
           }
          ],
          "scatter": [
           {
            "marker": {
             "line": {
              "color": "#283442"
             }
            },
            "type": "scatter"
           }
          ],
          "scatter3d": [
           {
            "line": {
             "colorbar": {
              "outlinewidth": 0,
              "ticks": ""
             }
            },
            "marker": {
             "colorbar": {
              "outlinewidth": 0,
              "ticks": ""
             }
            },
            "type": "scatter3d"
           }
          ],
          "scattercarpet": [
           {
            "marker": {
             "colorbar": {
              "outlinewidth": 0,
              "ticks": ""
             }
            },
            "type": "scattercarpet"
           }
          ],
          "scattergeo": [
           {
            "marker": {
             "colorbar": {
              "outlinewidth": 0,
              "ticks": ""
             }
            },
            "type": "scattergeo"
           }
          ],
          "scattergl": [
           {
            "marker": {
             "line": {
              "color": "#283442"
             }
            },
            "type": "scattergl"
           }
          ],
          "scattermapbox": [
           {
            "marker": {
             "colorbar": {
              "outlinewidth": 0,
              "ticks": ""
             }
            },
            "type": "scattermapbox"
           }
          ],
          "scatterpolar": [
           {
            "marker": {
             "colorbar": {
              "outlinewidth": 0,
              "ticks": ""
             }
            },
            "type": "scatterpolar"
           }
          ],
          "scatterpolargl": [
           {
            "marker": {
             "colorbar": {
              "outlinewidth": 0,
              "ticks": ""
             }
            },
            "type": "scatterpolargl"
           }
          ],
          "scatterternary": [
           {
            "marker": {
             "colorbar": {
              "outlinewidth": 0,
              "ticks": ""
             }
            },
            "type": "scatterternary"
           }
          ],
          "surface": [
           {
            "colorbar": {
             "outlinewidth": 0,
             "ticks": ""
            },
            "colorscale": [
             [
              0,
              "#0d0887"
             ],
             [
              0.1111111111111111,
              "#46039f"
             ],
             [
              0.2222222222222222,
              "#7201a8"
             ],
             [
              0.3333333333333333,
              "#9c179e"
             ],
             [
              0.4444444444444444,
              "#bd3786"
             ],
             [
              0.5555555555555556,
              "#d8576b"
             ],
             [
              0.6666666666666666,
              "#ed7953"
             ],
             [
              0.7777777777777778,
              "#fb9f3a"
             ],
             [
              0.8888888888888888,
              "#fdca26"
             ],
             [
              1,
              "#f0f921"
             ]
            ],
            "type": "surface"
           }
          ],
          "table": [
           {
            "cells": {
             "fill": {
              "color": "#506784"
             },
             "line": {
              "color": "rgb(17,17,17)"
             }
            },
            "header": {
             "fill": {
              "color": "#2a3f5f"
             },
             "line": {
              "color": "rgb(17,17,17)"
             }
            },
            "type": "table"
           }
          ]
         },
         "layout": {
          "annotationdefaults": {
           "arrowcolor": "#f2f5fa",
           "arrowhead": 0,
           "arrowwidth": 1
          },
          "autotypenumbers": "strict",
          "coloraxis": {
           "colorbar": {
            "outlinewidth": 0,
            "ticks": ""
           }
          },
          "colorscale": {
           "diverging": [
            [
             0,
             "#8e0152"
            ],
            [
             0.1,
             "#c51b7d"
            ],
            [
             0.2,
             "#de77ae"
            ],
            [
             0.3,
             "#f1b6da"
            ],
            [
             0.4,
             "#fde0ef"
            ],
            [
             0.5,
             "#f7f7f7"
            ],
            [
             0.6,
             "#e6f5d0"
            ],
            [
             0.7,
             "#b8e186"
            ],
            [
             0.8,
             "#7fbc41"
            ],
            [
             0.9,
             "#4d9221"
            ],
            [
             1,
             "#276419"
            ]
           ],
           "sequential": [
            [
             0,
             "#0d0887"
            ],
            [
             0.1111111111111111,
             "#46039f"
            ],
            [
             0.2222222222222222,
             "#7201a8"
            ],
            [
             0.3333333333333333,
             "#9c179e"
            ],
            [
             0.4444444444444444,
             "#bd3786"
            ],
            [
             0.5555555555555556,
             "#d8576b"
            ],
            [
             0.6666666666666666,
             "#ed7953"
            ],
            [
             0.7777777777777778,
             "#fb9f3a"
            ],
            [
             0.8888888888888888,
             "#fdca26"
            ],
            [
             1,
             "#f0f921"
            ]
           ],
           "sequentialminus": [
            [
             0,
             "#0d0887"
            ],
            [
             0.1111111111111111,
             "#46039f"
            ],
            [
             0.2222222222222222,
             "#7201a8"
            ],
            [
             0.3333333333333333,
             "#9c179e"
            ],
            [
             0.4444444444444444,
             "#bd3786"
            ],
            [
             0.5555555555555556,
             "#d8576b"
            ],
            [
             0.6666666666666666,
             "#ed7953"
            ],
            [
             0.7777777777777778,
             "#fb9f3a"
            ],
            [
             0.8888888888888888,
             "#fdca26"
            ],
            [
             1,
             "#f0f921"
            ]
           ]
          },
          "colorway": [
           "#636efa",
           "#EF553B",
           "#00cc96",
           "#ab63fa",
           "#FFA15A",
           "#19d3f3",
           "#FF6692",
           "#B6E880",
           "#FF97FF",
           "#FECB52"
          ],
          "font": {
           "color": "#f2f5fa"
          },
          "geo": {
           "bgcolor": "rgb(17,17,17)",
           "lakecolor": "rgb(17,17,17)",
           "landcolor": "rgb(17,17,17)",
           "showlakes": true,
           "showland": true,
           "subunitcolor": "#506784"
          },
          "hoverlabel": {
           "align": "left"
          },
          "hovermode": "closest",
          "mapbox": {
           "style": "dark"
          },
          "paper_bgcolor": "rgb(17,17,17)",
          "plot_bgcolor": "rgb(17,17,17)",
          "polar": {
           "angularaxis": {
            "gridcolor": "#506784",
            "linecolor": "#506784",
            "ticks": ""
           },
           "bgcolor": "rgb(17,17,17)",
           "radialaxis": {
            "gridcolor": "#506784",
            "linecolor": "#506784",
            "ticks": ""
           }
          },
          "scene": {
           "xaxis": {
            "backgroundcolor": "rgb(17,17,17)",
            "gridcolor": "#506784",
            "gridwidth": 2,
            "linecolor": "#506784",
            "showbackground": true,
            "ticks": "",
            "zerolinecolor": "#C8D4E3"
           },
           "yaxis": {
            "backgroundcolor": "rgb(17,17,17)",
            "gridcolor": "#506784",
            "gridwidth": 2,
            "linecolor": "#506784",
            "showbackground": true,
            "ticks": "",
            "zerolinecolor": "#C8D4E3"
           },
           "zaxis": {
            "backgroundcolor": "rgb(17,17,17)",
            "gridcolor": "#506784",
            "gridwidth": 2,
            "linecolor": "#506784",
            "showbackground": true,
            "ticks": "",
            "zerolinecolor": "#C8D4E3"
           }
          },
          "shapedefaults": {
           "line": {
            "color": "#f2f5fa"
           }
          },
          "sliderdefaults": {
           "bgcolor": "#C8D4E3",
           "bordercolor": "rgb(17,17,17)",
           "borderwidth": 1,
           "tickwidth": 0
          },
          "ternary": {
           "aaxis": {
            "gridcolor": "#506784",
            "linecolor": "#506784",
            "ticks": ""
           },
           "baxis": {
            "gridcolor": "#506784",
            "linecolor": "#506784",
            "ticks": ""
           },
           "bgcolor": "rgb(17,17,17)",
           "caxis": {
            "gridcolor": "#506784",
            "linecolor": "#506784",
            "ticks": ""
           }
          },
          "title": {
           "x": 0.05
          },
          "updatemenudefaults": {
           "bgcolor": "#506784",
           "borderwidth": 0
          },
          "xaxis": {
           "automargin": true,
           "gridcolor": "#283442",
           "linecolor": "#506784",
           "ticks": "",
           "title": {
            "standoff": 15
           },
           "zerolinecolor": "#283442",
           "zerolinewidth": 2
          },
          "yaxis": {
           "automargin": true,
           "gridcolor": "#283442",
           "linecolor": "#506784",
           "ticks": "",
           "title": {
            "standoff": 15
           },
           "zerolinecolor": "#283442",
           "zerolinewidth": 2
          }
         }
        },
        "title": {
         "text": "Dispersion des prix"
        },
        "xaxis": {
         "anchor": "y",
         "domain": [
          0,
          1
         ],
         "title": {
          "text": "Prix"
         }
        },
        "yaxis": {
         "anchor": "x",
         "domain": [
          0,
          1
         ],
         "title": {
          "text": "count"
         }
        }
       }
      }
     },
     "metadata": {},
     "output_type": "display_data"
    },
    {
     "data": {
      "image/png": "[encoded data removed]",
      "text/plain": [
       "<IPython.core.display.Image object>"
      ]
     },
     "metadata": {},
     "output_type": "display_data"
    }
   ],
   "source": [
    "# Création d'un histogramme avec Plotly Express\n",
    "fig = px.histogram(df_price, x='price', nbins=20, title='Dispersion des prix', labels={'price': 'Prix', 'count': 'Nombre d\\'achats'})\n",
    "\n",
    "# Ajout des lignes pour la moyenne et la médiane\n",
    "mean_line = df_price['price'].mean()\n",
    "median_line = df_price['price'].median()\n",
    "\n",
    "fig.add_shape(type='line', x0=mean_line, x1=mean_line, y0=0, y1=1, xref='x', yref='paper', line=dict(color='yellowgreen', width=2, dash='dash'), name='Moyenne')\n",
    "fig.add_shape(type='line', x0=median_line, x1=median_line, y0=0, y1=1, xref='x', yref='paper', line=dict(color='lightseagreen', width=2, dash='dashdot'), name='Médiane')\n",
    "\n",
    "# Afficher la légende\n",
    "fig.update_layout(template='plotly_dark', legend=dict(x=0.75, y=0.95))\n",
    "\n",
    "# Afficher la figure\n",
    "fig.show()\n",
    "fig.update_layout(width=1240)\n",
    "# Enregistrer en tant qu'image\n",
    "fig.write_image(\"figure/1.png\")\n",
    "# Afficher le graphique sur le notebook dans le depot distant GITHUB\n",
    "display(Image(filename=\"figure/1.png\"))\n"
   ]
  },
  {
   "cell_type": "markdown",
   "metadata": {},
   "source": [
    "On peut observer que des valeurs sont très loin de la valeur médiane et de la valeur moyenne."
   ]
  },
  {
   "cell_type": "code",
   "execution_count": 49,
   "metadata": {},
   "outputs": [
    {
     "data": {
      "application/vnd.plotly.v1+json": {
       "config": {
        "plotlyServerURL": "https://plot.ly"
       },
       "data": [
        {
         "boxmean": "sd",
         "type": "box",
         "x": [
          5.2,
          5.7,
          5.7,
          5.7,
          5.7,
          5.8,
          5.8,
          5.8,
          5.8,
          6.3,
          6.5,
          6.5,
          6.5,
          6.7,
          6.8,
          6.8,
          7,
          7,
          7.1,
          7.1,
          7.1,
          7.2,
          7.4,
          7.4,
          7.5,
          7.6,
          7.6,
          7.7,
          7.8,
          7.8,
          7.9,
          7.9,
          8.1,
          8.2,
          8.4,
          8.5,
          8.5,
          8.6,
          8.6,
          8.7,
          8.7,
          8.7,
          8.7,
          8.7,
          8.9,
          8.9,
          8.9,
          9,
          9,
          9.1,
          9.1,
          9.2,
          9.3,
          9.3,
          9.3,
          9.3,
          9.3,
          9.3,
          9.4,
          9.5,
          9.5,
          9.6,
          9.6,
          9.7,
          9.7,
          9.7,
          9.8,
          9.8,
          9.8,
          9.9,
          9.9,
          9.9,
          9.9,
          9.9,
          9.9,
          10.1,
          10.1,
          10.2,
          10.2,
          10.3,
          10.3,
          10.4,
          10.4,
          10.6,
          10.6,
          10.7,
          10.7,
          10.7,
          10.7,
          10.8,
          10.8,
          10.8,
          10.9,
          10.9,
          11,
          11.1,
          11.1,
          11.1,
          11.1,
          11.1,
          11.1,
          11.1,
          11.3,
          11.3,
          11.5,
          11.5,
          11.6,
          11.6,
          11.6,
          11.8,
          11.9,
          11.9,
          11.9,
          11.9,
          11.9,
          12,
          12,
          12,
          12,
          12,
          12.1,
          12.1,
          12.1,
          12.2,
          12.3,
          12.3,
          12.5,
          12.5,
          12.5,
          12.6,
          12.6,
          12.6,
          12.6,
          12.7,
          12.7,
          12.7,
          12.7,
          12.7,
          12.7,
          12.8,
          12.8,
          12.8,
          12.8,
          12.8,
          12.8,
          12.9,
          12.9,
          12.9,
          12.9,
          12.9,
          13,
          13.1,
          13.1,
          13.2,
          13.2,
          13.3,
          13.3,
          13.4,
          13.4,
          13.4,
          13.5,
          13.5,
          13.5,
          13.5,
          13.5,
          13.5,
          13.5,
          13.6,
          13.6,
          13.7,
          13.7,
          13.7,
          13.7,
          13.7,
          13.8,
          13.9,
          14,
          14.05,
          14.1,
          14.1,
          14.1,
          14.3,
          14.3,
          14.3,
          14.4,
          14.4,
          14.4,
          14.5,
          14.5,
          14.5,
          14.6,
          14.7,
          14.8,
          14.9,
          14.9,
          14.9,
          15.2,
          15.2,
          15.2,
          15.3,
          15.3,
          15.4,
          15.4,
          15.4,
          15.4,
          15.5,
          15.5,
          15.8,
          15.8,
          15.8,
          15.8,
          15.8,
          15.9,
          16.1,
          16.1,
          16.2,
          16.3,
          16.3,
          16.3,
          16.3,
          16.3,
          16.3,
          16.4,
          16.4,
          16.4,
          16.45,
          16.5,
          16.5,
          16.6,
          16.6,
          16.6,
          16.6,
          16.7,
          16.7,
          16.7,
          16.8,
          16.8,
          16.9,
          16.9,
          16.9,
          16.9,
          16.9,
          17,
          17,
          17,
          17.1,
          17.1,
          17.1,
          17.1,
          17.2,
          17.2,
          17.2,
          17.3,
          17.4,
          17.5,
          17.5,
          17.5,
          17.6,
          17.7,
          17.8,
          17.8,
          17.8,
          17.9,
          17.9,
          17.9,
          18,
          18,
          18.1,
          18.2,
          18.2,
          18.2,
          18.2,
          18.25,
          18.3,
          18.4,
          18.4,
          18.5,
          18.5,
          18.6,
          18.7,
          18.7,
          18.8,
          18.9,
          19,
          19,
          19,
          19,
          19,
          19,
          19,
          19,
          19,
          19.2,
          19.2,
          19.2,
          19.3,
          19.3,
          19.5,
          19.5,
          19.5,
          19.5,
          19.8,
          19.8,
          19.8,
          19.8,
          19.8,
          19.8,
          20.1,
          20.2,
          20.2,
          20.35,
          20.4,
          20.4,
          20.5,
          20.5,
          20.6,
          20.8,
          20.8,
          20.8,
          20.8,
          21,
          21,
          21.2,
          21.4,
          21.5,
          21.6,
          21.7,
          21.7,
          21.8,
          21.8,
          21.8,
          21.9,
          22,
          22,
          22.1,
          22.2,
          22.4,
          22.4,
          22.5,
          22.8,
          22.8,
          22.8,
          22.8,
          22.8,
          22.9,
          22.9,
          23,
          23,
          23,
          23,
          23.2,
          23.2,
          23.2,
          23.4,
          23.4,
          23.4,
          23.5,
          23.6,
          23.7,
          23.8,
          24,
          24,
          24,
          24,
          24,
          24,
          24.2,
          24.2,
          24.3,
          24.3,
          24.4,
          24.4,
          24.4,
          24.4,
          24.5,
          24.5,
          24.6,
          24.7,
          24.8,
          25,
          25,
          25,
          25,
          25.2,
          25.2,
          25.3,
          25.3,
          25.7,
          25.7,
          25.9,
          25.9,
          25.9,
          25.9,
          26,
          26.2,
          26.4,
          26.5,
          26.5,
          26.5,
          26.5,
          26.5,
          26.5,
          26.6,
          26.7,
          26.7,
          26.9,
          27,
          27.2,
          27.3,
          27.3,
          27.3,
          27.5,
          27.5,
          27.5,
          27.7,
          27.8,
          27.8,
          27.9,
          27.9,
          27.9,
          27.9,
          27.9,
          28,
          28,
          28,
          28,
          28.1,
          28.1,
          28.4,
          28.4,
          28.5,
          28.5,
          28.5,
          28.8,
          29,
          29,
          29,
          29.2,
          29.4,
          29.5,
          29.5,
          29.5,
          29.7,
          29.8,
          29.8,
          29.8,
          29.9,
          29.9,
          30,
          30,
          30.1,
          30.5,
          30.6,
          30.8,
          31,
          31.2,
          31.5,
          31.5,
          31.6,
          31.7,
          31.7,
          31.7,
          32,
          32.1,
          32.2,
          32.2,
          32.6,
          32.7,
          32.8,
          32.8,
          33,
          33.2,
          33.2,
          33.2,
          33.4,
          33.4,
          33.6,
          33.7,
          34.3,
          34.3,
          34.3,
          34.4,
          34.7,
          34.8,
          35,
          35.1,
          35.2,
          35.3,
          35.5,
          35.6,
          35.6,
          35.6,
          36,
          36,
          36.2,
          36.3,
          36.9,
          37,
          37.2,
          37.5,
          37.7,
          38,
          38,
          38,
          38.4,
          38.4,
          38.5,
          38.6,
          38.6,
          38.6,
          38.6,
          39,
          39,
          39,
          39,
          39.1,
          39.2,
          39.6,
          39.8,
          40,
          40.2,
          40.2,
          40.2,
          40.5,
          40.7,
          41,
          41,
          41,
          41.2,
          41.6,
          41.8,
          41.8,
          41.8,
          42,
          42,
          42.1,
          42.2,
          42.2,
          42.6,
          43,
          43,
          43.5,
          43.5,
          43.9,
          43.9,
          44,
          44,
          44,
          44,
          44,
          44.3,
          44.3,
          44.5,
          44.6,
          45,
          45,
          45.9,
          46,
          46,
          46,
          46,
          46,
          46.5,
          46.5,
          46.5,
          47.2,
          48.4,
          48.5,
          48.5,
          48.5,
          48.5,
          48.7,
          48.7,
          48.8,
          48.8,
          49,
          49,
          49,
          49,
          49.5,
          49.5,
          49.5,
          49.5,
          49.5,
          49.5,
          49.9,
          50,
          50,
          50.1,
          50.4,
          50.5,
          51,
          51.6,
          52.4,
          52.4,
          52.4,
          52.6,
          52.7,
          52.9,
          53,
          53.2,
          54.8,
          54.8,
          54.8,
          55,
          55.4,
          55.6,
          56,
          56.3,
          56.4,
          57,
          57,
          57,
          57,
          57,
          57.6,
          57.6,
          57.7,
          58,
          58,
          58.3,
          58.8,
          59,
          59,
          59,
          59,
          59,
          59,
          59.4,
          59.6,
          59.6,
          59.8,
          59.9,
          59.9,
          59.9,
          60,
          60,
          60.4,
          61.6,
          61.6,
          62,
          62.1,
          62.4,
          62.4,
          62.4,
          62.5,
          63.4,
          63.5,
          63.5,
          64.9,
          65,
          65.9,
          67,
          67.2,
          67.5,
          68.1,
          68.3,
          69,
          69,
          69,
          69.8,
          71.3,
          71.3,
          71.5,
          71.6,
          71.7,
          72,
          73.3,
          74.5,
          74.8,
          76.8,
          77,
          77.4,
          77.8,
          78,
          78,
          78,
          78,
          78,
          79.5,
          79.5,
          79.8,
          80,
          83,
          83.7,
          85.6,
          86.8,
          88.4,
          92,
          93,
          99,
          100,
          102.3,
          104,
          105,
          105,
          105.6,
          108.5,
          109.6,
          112,
          114,
          115,
          115,
          116.4,
          121,
          121,
          122,
          124.8,
          126.5,
          135,
          137,
          157,
          175,
          176,
          191.3,
          217.5,
          225
         ]
        }
       ],
       "layout": {
        "template": {
         "data": {
          "bar": [
           {
            "error_x": {
             "color": "#f2f5fa"
            },
            "error_y": {
             "color": "#f2f5fa"
            },
            "marker": {
             "line": {
              "color": "rgb(17,17,17)",
              "width": 0.5
             },
             "pattern": {
              "fillmode": "overlay",
              "size": 10,
              "solidity": 0.2
             }
            },
            "type": "bar"
           }
          ],
          "barpolar": [
           {
            "marker": {
             "line": {
              "color": "rgb(17,17,17)",
              "width": 0.5
             },
             "pattern": {
              "fillmode": "overlay",
              "size": 10,
              "solidity": 0.2
             }
            },
            "type": "barpolar"
           }
          ],
          "carpet": [
           {
            "aaxis": {
             "endlinecolor": "#A2B1C6",
             "gridcolor": "#506784",
             "linecolor": "#506784",
             "minorgridcolor": "#506784",
             "startlinecolor": "#A2B1C6"
            },
            "baxis": {
             "endlinecolor": "#A2B1C6",
             "gridcolor": "#506784",
             "linecolor": "#506784",
             "minorgridcolor": "#506784",
             "startlinecolor": "#A2B1C6"
            },
            "type": "carpet"
           }
          ],
          "choropleth": [
           {
            "colorbar": {
             "outlinewidth": 0,
             "ticks": ""
            },
            "type": "choropleth"
           }
          ],
          "contour": [
           {
            "colorbar": {
             "outlinewidth": 0,
             "ticks": ""
            },
            "colorscale": [
             [
              0,
              "#0d0887"
             ],
             [
              0.1111111111111111,
              "#46039f"
             ],
             [
              0.2222222222222222,
              "#7201a8"
             ],
             [
              0.3333333333333333,
              "#9c179e"
             ],
             [
              0.4444444444444444,
              "#bd3786"
             ],
             [
              0.5555555555555556,
              "#d8576b"
             ],
             [
              0.6666666666666666,
              "#ed7953"
             ],
             [
              0.7777777777777778,
              "#fb9f3a"
             ],
             [
              0.8888888888888888,
              "#fdca26"
             ],
             [
              1,
              "#f0f921"
             ]
            ],
            "type": "contour"
           }
          ],
          "contourcarpet": [
           {
            "colorbar": {
             "outlinewidth": 0,
             "ticks": ""
            },
            "type": "contourcarpet"
           }
          ],
          "heatmap": [
           {
            "colorbar": {
             "outlinewidth": 0,
             "ticks": ""
            },
            "colorscale": [
             [
              0,
              "#0d0887"
             ],
             [
              0.1111111111111111,
              "#46039f"
             ],
             [
              0.2222222222222222,
              "#7201a8"
             ],
             [
              0.3333333333333333,
              "#9c179e"
             ],
             [
              0.4444444444444444,
              "#bd3786"
             ],
             [
              0.5555555555555556,
              "#d8576b"
             ],
             [
              0.6666666666666666,
              "#ed7953"
             ],
             [
              0.7777777777777778,
              "#fb9f3a"
             ],
             [
              0.8888888888888888,
              "#fdca26"
             ],
             [
              1,
              "#f0f921"
             ]
            ],
            "type": "heatmap"
           }
          ],
          "heatmapgl": [
           {
            "colorbar": {
             "outlinewidth": 0,
             "ticks": ""
            },
            "colorscale": [
             [
              0,
              "#0d0887"
             ],
             [
              0.1111111111111111,
              "#46039f"
             ],
             [
              0.2222222222222222,
              "#7201a8"
             ],
             [
              0.3333333333333333,
              "#9c179e"
             ],
             [
              0.4444444444444444,
              "#bd3786"
             ],
             [
              0.5555555555555556,
              "#d8576b"
             ],
             [
              0.6666666666666666,
              "#ed7953"
             ],
             [
              0.7777777777777778,
              "#fb9f3a"
             ],
             [
              0.8888888888888888,
              "#fdca26"
             ],
             [
              1,
              "#f0f921"
             ]
            ],
            "type": "heatmapgl"
           }
          ],
          "histogram": [
           {
            "marker": {
             "pattern": {
              "fillmode": "overlay",
              "size": 10,
              "solidity": 0.2
             }
            },
            "type": "histogram"
           }
          ],
          "histogram2d": [
           {
            "colorbar": {
             "outlinewidth": 0,
             "ticks": ""
            },
            "colorscale": [
             [
              0,
              "#0d0887"
             ],
             [
              0.1111111111111111,
              "#46039f"
             ],
             [
              0.2222222222222222,
              "#7201a8"
             ],
             [
              0.3333333333333333,
              "#9c179e"
             ],
             [
              0.4444444444444444,
              "#bd3786"
             ],
             [
              0.5555555555555556,
              "#d8576b"
             ],
             [
              0.6666666666666666,
              "#ed7953"
             ],
             [
              0.7777777777777778,
              "#fb9f3a"
             ],
             [
              0.8888888888888888,
              "#fdca26"
             ],
             [
              1,
              "#f0f921"
             ]
            ],
            "type": "histogram2d"
           }
          ],
          "histogram2dcontour": [
           {
            "colorbar": {
             "outlinewidth": 0,
             "ticks": ""
            },
            "colorscale": [
             [
              0,
              "#0d0887"
             ],
             [
              0.1111111111111111,
              "#46039f"
             ],
             [
              0.2222222222222222,
              "#7201a8"
             ],
             [
              0.3333333333333333,
              "#9c179e"
             ],
             [
              0.4444444444444444,
              "#bd3786"
             ],
             [
              0.5555555555555556,
              "#d8576b"
             ],
             [
              0.6666666666666666,
              "#ed7953"
             ],
             [
              0.7777777777777778,
              "#fb9f3a"
             ],
             [
              0.8888888888888888,
              "#fdca26"
             ],
             [
              1,
              "#f0f921"
             ]
            ],
            "type": "histogram2dcontour"
           }
          ],
          "mesh3d": [
           {
            "colorbar": {
             "outlinewidth": 0,
             "ticks": ""
            },
            "type": "mesh3d"
           }
          ],
          "parcoords": [
           {
            "line": {
             "colorbar": {
              "outlinewidth": 0,
              "ticks": ""
             }
            },
            "type": "parcoords"
           }
          ],
          "pie": [
           {
            "automargin": true,
            "type": "pie"
           }
          ],
          "scatter": [
           {
            "marker": {
             "line": {
              "color": "#283442"
             }
            },
            "type": "scatter"
           }
          ],
          "scatter3d": [
           {
            "line": {
             "colorbar": {
              "outlinewidth": 0,
              "ticks": ""
             }
            },
            "marker": {
             "colorbar": {
              "outlinewidth": 0,
              "ticks": ""
             }
            },
            "type": "scatter3d"
           }
          ],
          "scattercarpet": [
           {
            "marker": {
             "colorbar": {
              "outlinewidth": 0,
              "ticks": ""
             }
            },
            "type": "scattercarpet"
           }
          ],
          "scattergeo": [
           {
            "marker": {
             "colorbar": {
              "outlinewidth": 0,
              "ticks": ""
             }
            },
            "type": "scattergeo"
           }
          ],
          "scattergl": [
           {
            "marker": {
             "line": {
              "color": "#283442"
             }
            },
            "type": "scattergl"
           }
          ],
          "scattermapbox": [
           {
            "marker": {
             "colorbar": {
              "outlinewidth": 0,
              "ticks": ""
             }
            },
            "type": "scattermapbox"
           }
          ],
          "scatterpolar": [
           {
            "marker": {
             "colorbar": {
              "outlinewidth": 0,
              "ticks": ""
             }
            },
            "type": "scatterpolar"
           }
          ],
          "scatterpolargl": [
           {
            "marker": {
             "colorbar": {
              "outlinewidth": 0,
              "ticks": ""
             }
            },
            "type": "scatterpolargl"
           }
          ],
          "scatterternary": [
           {
            "marker": {
             "colorbar": {
              "outlinewidth": 0,
              "ticks": ""
             }
            },
            "type": "scatterternary"
           }
          ],
          "surface": [
           {
            "colorbar": {
             "outlinewidth": 0,
             "ticks": ""
            },
            "colorscale": [
             [
              0,
              "#0d0887"
             ],
             [
              0.1111111111111111,
              "#46039f"
             ],
             [
              0.2222222222222222,
              "#7201a8"
             ],
             [
              0.3333333333333333,
              "#9c179e"
             ],
             [
              0.4444444444444444,
              "#bd3786"
             ],
             [
              0.5555555555555556,
              "#d8576b"
             ],
             [
              0.6666666666666666,
              "#ed7953"
             ],
             [
              0.7777777777777778,
              "#fb9f3a"
             ],
             [
              0.8888888888888888,
              "#fdca26"
             ],
             [
              1,
              "#f0f921"
             ]
            ],
            "type": "surface"
           }
          ],
          "table": [
           {
            "cells": {
             "fill": {
              "color": "#506784"
             },
             "line": {
              "color": "rgb(17,17,17)"
             }
            },
            "header": {
             "fill": {
              "color": "#2a3f5f"
             },
             "line": {
              "color": "rgb(17,17,17)"
             }
            },
            "type": "table"
           }
          ]
         },
         "layout": {
          "annotationdefaults": {
           "arrowcolor": "#f2f5fa",
           "arrowhead": 0,
           "arrowwidth": 1
          },
          "autotypenumbers": "strict",
          "coloraxis": {
           "colorbar": {
            "outlinewidth": 0,
            "ticks": ""
           }
          },
          "colorscale": {
           "diverging": [
            [
             0,
             "#8e0152"
            ],
            [
             0.1,
             "#c51b7d"
            ],
            [
             0.2,
             "#de77ae"
            ],
            [
             0.3,
             "#f1b6da"
            ],
            [
             0.4,
             "#fde0ef"
            ],
            [
             0.5,
             "#f7f7f7"
            ],
            [
             0.6,
             "#e6f5d0"
            ],
            [
             0.7,
             "#b8e186"
            ],
            [
             0.8,
             "#7fbc41"
            ],
            [
             0.9,
             "#4d9221"
            ],
            [
             1,
             "#276419"
            ]
           ],
           "sequential": [
            [
             0,
             "#0d0887"
            ],
            [
             0.1111111111111111,
             "#46039f"
            ],
            [
             0.2222222222222222,
             "#7201a8"
            ],
            [
             0.3333333333333333,
             "#9c179e"
            ],
            [
             0.4444444444444444,
             "#bd3786"
            ],
            [
             0.5555555555555556,
             "#d8576b"
            ],
            [
             0.6666666666666666,
             "#ed7953"
            ],
            [
             0.7777777777777778,
             "#fb9f3a"
            ],
            [
             0.8888888888888888,
             "#fdca26"
            ],
            [
             1,
             "#f0f921"
            ]
           ],
           "sequentialminus": [
            [
             0,
             "#0d0887"
            ],
            [
             0.1111111111111111,
             "#46039f"
            ],
            [
             0.2222222222222222,
             "#7201a8"
            ],
            [
             0.3333333333333333,
             "#9c179e"
            ],
            [
             0.4444444444444444,
             "#bd3786"
            ],
            [
             0.5555555555555556,
             "#d8576b"
            ],
            [
             0.6666666666666666,
             "#ed7953"
            ],
            [
             0.7777777777777778,
             "#fb9f3a"
            ],
            [
             0.8888888888888888,
             "#fdca26"
            ],
            [
             1,
             "#f0f921"
            ]
           ]
          },
          "colorway": [
           "#636efa",
           "#EF553B",
           "#00cc96",
           "#ab63fa",
           "#FFA15A",
           "#19d3f3",
           "#FF6692",
           "#B6E880",
           "#FF97FF",
           "#FECB52"
          ],
          "font": {
           "color": "#f2f5fa"
          },
          "geo": {
           "bgcolor": "rgb(17,17,17)",
           "lakecolor": "rgb(17,17,17)",
           "landcolor": "rgb(17,17,17)",
           "showlakes": true,
           "showland": true,
           "subunitcolor": "#506784"
          },
          "hoverlabel": {
           "align": "left"
          },
          "hovermode": "closest",
          "mapbox": {
           "style": "dark"
          },
          "paper_bgcolor": "rgb(17,17,17)",
          "plot_bgcolor": "rgb(17,17,17)",
          "polar": {
           "angularaxis": {
            "gridcolor": "#506784",
            "linecolor": "#506784",
            "ticks": ""
           },
           "bgcolor": "rgb(17,17,17)",
           "radialaxis": {
            "gridcolor": "#506784",
            "linecolor": "#506784",
            "ticks": ""
           }
          },
          "scene": {
           "xaxis": {
            "backgroundcolor": "rgb(17,17,17)",
            "gridcolor": "#506784",
            "gridwidth": 2,
            "linecolor": "#506784",
            "showbackground": true,
            "ticks": "",
            "zerolinecolor": "#C8D4E3"
           },
           "yaxis": {
            "backgroundcolor": "rgb(17,17,17)",
            "gridcolor": "#506784",
            "gridwidth": 2,
            "linecolor": "#506784",
            "showbackground": true,
            "ticks": "",
            "zerolinecolor": "#C8D4E3"
           },
           "zaxis": {
            "backgroundcolor": "rgb(17,17,17)",
            "gridcolor": "#506784",
            "gridwidth": 2,
            "linecolor": "#506784",
            "showbackground": true,
            "ticks": "",
            "zerolinecolor": "#C8D4E3"
           }
          },
          "shapedefaults": {
           "line": {
            "color": "#f2f5fa"
           }
          },
          "sliderdefaults": {
           "bgcolor": "#C8D4E3",
           "bordercolor": "rgb(17,17,17)",
           "borderwidth": 1,
           "tickwidth": 0
          },
          "ternary": {
           "aaxis": {
            "gridcolor": "#506784",
            "linecolor": "#506784",
            "ticks": ""
           },
           "baxis": {
            "gridcolor": "#506784",
            "linecolor": "#506784",
            "ticks": ""
           },
           "bgcolor": "rgb(17,17,17)",
           "caxis": {
            "gridcolor": "#506784",
            "linecolor": "#506784",
            "ticks": ""
           }
          },
          "title": {
           "x": 0.05
          },
          "updatemenudefaults": {
           "bgcolor": "#506784",
           "borderwidth": 0
          },
          "xaxis": {
           "automargin": true,
           "gridcolor": "#283442",
           "linecolor": "#506784",
           "ticks": "",
           "title": {
            "standoff": 15
           },
           "zerolinecolor": "#283442",
           "zerolinewidth": 2
          },
          "yaxis": {
           "automargin": true,
           "gridcolor": "#283442",
           "linecolor": "#506784",
           "ticks": "",
           "title": {
            "standoff": 15
           },
           "zerolinecolor": "#283442",
           "zerolinewidth": 2
          }
         }
        },
        "title": {
         "text": "Dispersion des prix"
        },
        "xaxis": {
         "linewidth": 1,
         "nticks": 40,
         "rangemode": "tozero",
         "showline": true,
         "title": {
          "text": "dispersion"
         }
        },
        "yaxis": {
         "showticklabels": true,
         "title": {
          "text": "prix"
         }
        }
       }
      }
     },
     "metadata": {},
     "output_type": "display_data"
    },
    {
     "data": {
      "image/png": "[encoded data removed]",
      "text/plain": [
       "<IPython.core.display.Image object>"
      ]
     },
     "metadata": {},
     "output_type": "display_data"
    }
   ],
   "source": [
    "fig = go.Figure()\n",
    "fig.add_trace(go.Box(\n",
    "    x=df_price['price'],\n",
    "    boxmean='sd'))\n",
    "fig.update_yaxes(showticklabels = True)\n",
    "fig.update_xaxes( nticks = 40,title_text = 'Prix', showline=True, linewidth=1,rangemode=\"tozero\")\n",
    "# Personnalisez le titre et les étiquettes des axes\n",
    "fig.update_layout(template='plotly_dark',\n",
    "    title='Dispersion des prix',\n",
    "    xaxis_title='dispersion',\n",
    "    yaxis_title='prix'\n",
    ")\n",
    "\n",
    "# Afficher la figure\n",
    "fig.show()\n",
    "fig.update_layout(width=1240)\n",
    "# Enregistrer en tant qu'image\n",
    "fig.write_image(\"figure/1.png\")\n",
    "# Afficher le graphique sur le notebook dans le depot distant GITHUB\n",
    "display(Image(filename=\"figure/1.png\"))"
   ]
  },
  {
   "cell_type": "markdown",
   "metadata": {},
   "source": [
    "#### 2.4.3 Chercher les outliers (aberrantes) avec la méthode IQR"
   ]
  },
  {
   "cell_type": "markdown",
   "metadata": {},
   "source": [
    "Les valeurs au-dessous de Q1−1.5IQ ou au-dessus de Q3+1.5IQ sont considérées comme des outliers."
   ]
  },
  {
   "cell_type": "code",
   "execution_count": 50,
   "metadata": {},
   "outputs": [
    {
     "name": "stdout",
     "output_type": "stream",
     "text": [
      "Q1 =  14.1\n",
      "Q2 =  23.7\n",
      "Q3 =  42.2\n"
     ]
    }
   ],
   "source": [
    "# Calcul les deux quartiles Q1, Q2 et Q3\n",
    "Q1 = df_price['price'].quantile(0.25)\n",
    "Q2 = df_price['price'].quantile(0.5) # Médiane\n",
    "Q3 = np.round((df_price['price'].quantile(0.75)),2)\n",
    "print('Q1 = ', Q1 )\n",
    "print('Q2 = ', Q2 )\n",
    "print('Q3 = ', Q3)"
   ]
  },
  {
   "cell_type": "code",
   "execution_count": 51,
   "metadata": {},
   "outputs": [
    {
     "name": "stdout",
     "output_type": "stream",
     "text": [
      "IQ =  28.1\n"
     ]
    }
   ],
   "source": [
    "# Calcul de l'écart interquartile IQ\n",
    "IQ = Q3 - Q1\n",
    "print('IQ = ', IQ)"
   ]
  },
  {
   "cell_type": "code",
   "execution_count": 52,
   "metadata": {},
   "outputs": [
    {
     "name": "stdout",
     "output_type": "stream",
     "text": [
      "seuil_min =  -28.05\n",
      "seuil_max =  84.35000000000001\n"
     ]
    }
   ],
   "source": [
    "# Trouver les seuils des valeurs pour les outliers\n",
    "seuil_min = np.round(Q1 - (1.5*IQ), 2)\n",
    "seuil_max =  Q3 + (1.5*IQ)\n",
    "print('seuil_min = ', seuil_min)\n",
    "print('seuil_max = ', seuil_max)"
   ]
  },
  {
   "cell_type": "code",
   "execution_count": 53,
   "metadata": {},
   "outputs": [
    {
     "name": "stdout",
     "output_type": "stream",
     "text": [
      "Les valeurs abérrantes sont:  [85.6, 86.8, 88.4, 92.0, 93.0, 99.0, 100.0, 102.3, 104.0, 105.0, 105.0, 105.6, 108.5, 109.6, 112.0, 114.0, 115.0, 115.0, 116.4, 121.0, 121.0, 122.0, 124.8, 126.5, 135.0, 137.0, 157.0, 175.0, 176.0, 191.3, 217.5, 225.0]\n",
      "Avec la methode IQR, on trouve  32 valeurs outliers pour la variable prix.\n"
     ]
    }
   ],
   "source": [
    "outlier =[]\n",
    "for x in df_price['price']:\n",
    "    if ((x > seuil_max) or (x < seuil_min)):\n",
    "         outlier.append(x)\n",
    "print('Les valeurs abérrantes sont: ', outlier)\n",
    "print(\"Avec la methode IQR, on trouve \", len(outlier), \"valeurs outliers pour la variable prix.\")"
   ]
  },
  {
   "cell_type": "markdown",
   "metadata": {},
   "source": [
    "#### 2.4.4 Chercher les outliers avec la methode Z-score"
   ]
  },
  {
   "cell_type": "markdown",
   "metadata": {},
   "source": [
    "95% des points de données se situent entre +/-2 écarts types (threshold = 2).\n",
    "\n",
    "99.7% des points de données se situent entre +/-3 écarts types.\n",
    "\n",
    "Ici, si le score Z d’un point de données est supérieur à 2 ou inférieur à -2 est considéré comme les outliers.\n",
    "\n",
    "Z-score = (Observation - Mean)/Std.deviation."
   ]
  },
  {
   "cell_type": "code",
   "execution_count": 54,
   "metadata": {},
   "outputs": [
    {
     "data": {
      "text/html": [
       "<div>\n",
       "<style scoped>\n",
       "    .dataframe tbody tr th:only-of-type {\n",
       "        vertical-align: middle;\n",
       "    }\n",
       "\n",
       "    .dataframe tbody tr th {\n",
       "        vertical-align: top;\n",
       "    }\n",
       "\n",
       "    .dataframe thead th {\n",
       "        text-align: right;\n",
       "    }\n",
       "</style>\n",
       "<table border=\"1\" class=\"dataframe\">\n",
       "  <thead>\n",
       "    <tr style=\"text-align: right;\">\n",
       "      <th></th>\n",
       "      <th>id_web</th>\n",
       "      <th>product_id</th>\n",
       "      <th>post_name</th>\n",
       "      <th>total_sales</th>\n",
       "      <th>price</th>\n",
       "      <th>z_score</th>\n",
       "    </tr>\n",
       "  </thead>\n",
       "  <tbody>\n",
       "    <tr>\n",
       "      <th>210</th>\n",
       "      <td>14570</td>\n",
       "      <td>6129</td>\n",
       "      <td>moulin-de-gassac-igp-pays-dherault-guilhem-bla...</td>\n",
       "      <td>0.0</td>\n",
       "      <td>5.2</td>\n",
       "      <td>-0.984272</td>\n",
       "    </tr>\n",
       "    <tr>\n",
       "      <th>1</th>\n",
       "      <td>16209</td>\n",
       "      <td>4174</td>\n",
       "      <td>maurel-cabardes-tradition-2017</td>\n",
       "      <td>6.0</td>\n",
       "      <td>5.7</td>\n",
       "      <td>-0.966267</td>\n",
       "    </tr>\n",
       "    <tr>\n",
       "      <th>679</th>\n",
       "      <td>16211</td>\n",
       "      <td>4173</td>\n",
       "      <td>maurel-pays-doc-chenin-colombard-2019</td>\n",
       "      <td>13.0</td>\n",
       "      <td>5.7</td>\n",
       "      <td>-0.966267</td>\n",
       "    </tr>\n",
       "    <tr>\n",
       "      <th>111</th>\n",
       "      <td>14338</td>\n",
       "      <td>5777</td>\n",
       "      <td>maurel-pays-d-oc-cabernet-sauvignon-2017</td>\n",
       "      <td>0.0</td>\n",
       "      <td>5.7</td>\n",
       "      <td>-0.966267</td>\n",
       "    </tr>\n",
       "    <tr>\n",
       "      <th>104</th>\n",
       "      <td>16210</td>\n",
       "      <td>4172</td>\n",
       "      <td>maurel-pays-oc-chardonnay-2019</td>\n",
       "      <td>43.0</td>\n",
       "      <td>5.7</td>\n",
       "      <td>-0.966267</td>\n",
       "    </tr>\n",
       "    <tr>\n",
       "      <th>160</th>\n",
       "      <td>16322</td>\n",
       "      <td>4198</td>\n",
       "      <td>moulin-gassac-igp-pays-herault-guilhem-rouge-2019</td>\n",
       "      <td>0.0</td>\n",
       "      <td>5.8</td>\n",
       "      <td>-0.962666</td>\n",
       "    </tr>\n",
       "    <tr>\n",
       "      <th>138</th>\n",
       "      <td>16295</td>\n",
       "      <td>4200</td>\n",
       "      <td>moulin-de-gassac-igp-pays-dherault-guilhem-ros...</td>\n",
       "      <td>46.0</td>\n",
       "      <td>5.8</td>\n",
       "      <td>-0.962666</td>\n",
       "    </tr>\n",
       "    <tr>\n",
       "      <th>471</th>\n",
       "      <td>16213</td>\n",
       "      <td>5779</td>\n",
       "      <td>maurel-pays-d-oc-syrah-2019</td>\n",
       "      <td>8.0</td>\n",
       "      <td>5.8</td>\n",
       "      <td>-0.962666</td>\n",
       "    </tr>\n",
       "    <tr>\n",
       "      <th>274</th>\n",
       "      <td>15561</td>\n",
       "      <td>5778</td>\n",
       "      <td>maurel-pays-d-oc-merot-2018</td>\n",
       "      <td>24.0</td>\n",
       "      <td>5.8</td>\n",
       "      <td>-0.962666</td>\n",
       "    </tr>\n",
       "    <tr>\n",
       "      <th>146</th>\n",
       "      <td>15934</td>\n",
       "      <td>4680</td>\n",
       "      <td>domaine-de-joy-cotes-de-gascogne-envie-de-joy-...</td>\n",
       "      <td>2.0</td>\n",
       "      <td>6.3</td>\n",
       "      <td>-0.944660</td>\n",
       "    </tr>\n",
       "  </tbody>\n",
       "</table>\n",
       "</div>"
      ],
      "text/plain": [
       "    id_web  product_id                                          post_name  \\\n",
       "210  14570        6129  moulin-de-gassac-igp-pays-dherault-guilhem-bla...   \n",
       "1    16209        4174                     maurel-cabardes-tradition-2017   \n",
       "679  16211        4173              maurel-pays-doc-chenin-colombard-2019   \n",
       "111  14338        5777           maurel-pays-d-oc-cabernet-sauvignon-2017   \n",
       "104  16210        4172                     maurel-pays-oc-chardonnay-2019   \n",
       "160  16322        4198  moulin-gassac-igp-pays-herault-guilhem-rouge-2019   \n",
       "138  16295        4200  moulin-de-gassac-igp-pays-dherault-guilhem-ros...   \n",
       "471  16213        5779                        maurel-pays-d-oc-syrah-2019   \n",
       "274  15561        5778                        maurel-pays-d-oc-merot-2018   \n",
       "146  15934        4680  domaine-de-joy-cotes-de-gascogne-envie-de-joy-...   \n",
       "\n",
       "     total_sales  price   z_score  \n",
       "210          0.0    5.2 -0.984272  \n",
       "1            6.0    5.7 -0.966267  \n",
       "679         13.0    5.7 -0.966267  \n",
       "111          0.0    5.7 -0.966267  \n",
       "104         43.0    5.7 -0.966267  \n",
       "160          0.0    5.8 -0.962666  \n",
       "138         46.0    5.8 -0.962666  \n",
       "471          8.0    5.8 -0.962666  \n",
       "274         24.0    5.8 -0.962666  \n",
       "146          2.0    6.3 -0.944660  "
      ]
     },
     "execution_count": 54,
     "metadata": {},
     "output_type": "execute_result"
    }
   ],
   "source": [
    "df_zscore = df_price.copy()\n",
    "df_zscore['z_score'] =(df_zscore.price - df_zscore.price.mean())/df_zscore.price.std()\n",
    "df_zscore.head(10)"
   ]
  },
  {
   "cell_type": "code",
   "execution_count": 55,
   "metadata": {},
   "outputs": [
    {
     "name": "stdout",
     "output_type": "stream",
     "text": [
      "Les valeurs abérrantes sont:  [2.011863575557903, 2.141504070282435, 2.177515318817027, 2.393582810024581, 2.4295940585591733, 2.5124199301887353, 2.5736390526975423, 2.6096503012321346, 2.6096503012321346, 2.6312570503528896, 2.7356896711032075, 2.7753020444912586, 2.8617290409742804, 2.933751538043465, 2.969762786578057, 2.969762786578057, 3.0201785345264867, 3.185830277785611, 3.185830277785611, 3.2218415263202034, 3.3226730222170615, 3.3838921447258685, 3.6899877572699027, 3.762010254339087, 4.482235225030933, 5.130437698653593, 5.166448947188186, 5.717421049767448, 6.660915761373765, 6.931000125383207]\n"
     ]
    }
   ],
   "source": [
    "threshold_1 = 2\n",
    "outlier_2 = []\n",
    "for y in df_zscore['z_score']:\n",
    "    if y > threshold_1:\n",
    "        outlier_2.append(y)\n",
    "print('Les valeurs abérrantes sont: ', outlier_2)"
   ]
  },
  {
   "cell_type": "code",
   "execution_count": 56,
   "metadata": {},
   "outputs": [
    {
     "name": "stdout",
     "output_type": "stream",
     "text": [
      "Les valeurs abérrantes sont:  [3.0201785345264867, 3.185830277785611, 3.185830277785611, 3.2218415263202034, 3.3226730222170615, 3.3838921447258685, 3.6899877572699027, 3.762010254339087, 4.482235225030933, 5.130437698653593, 5.166448947188186, 5.717421049767448, 6.660915761373765, 6.931000125383207]\n"
     ]
    }
   ],
   "source": [
    "threshold_2 = 3\n",
    "outlier_3 = []\n",
    "for z in df_zscore['z_score']:\n",
    "    if z > threshold_2:\n",
    "        outlier_3.append(z)\n",
    "print('Les valeurs abérrantes sont: ', outlier_3)"
   ]
  },
  {
   "cell_type": "markdown",
   "metadata": {},
   "source": [
    "Résultat:"
   ]
  },
  {
   "cell_type": "code",
   "execution_count": 57,
   "metadata": {},
   "outputs": [
    {
     "name": "stdout",
     "output_type": "stream",
     "text": [
      "Avec la methode Z-score,threshold = 2, on trouve  30 valeurs outliers pour la variable prix.\n",
      "Avec la methode Z-score,threshold = 3, on trouve  14 valeurs outliers pour la variable prix.\n"
     ]
    }
   ],
   "source": [
    "print(\"Avec la methode Z-score,threshold = 2, on trouve \", len(outlier_2), \"valeurs outliers pour la variable prix.\")\n",
    "print(\"Avec la methode Z-score,threshold = 3, on trouve \", len(outlier_3), \"valeurs outliers pour la variable prix.\")"
   ]
  },
  {
   "cell_type": "markdown",
   "metadata": {},
   "source": [
    "#### 2.4.5 Visualisation à l'aide de graphiques ' nuage de points'"
   ]
  },
  {
   "cell_type": "markdown",
   "metadata": {},
   "source": [
    "Utilisé pour observer la relation entre le prix et la quantité vendue de chaque produit.\n",
    "On observe que même avec des prix beaucoup plus élevés, certain produits se vendent."
   ]
  },
  {
   "cell_type": "code",
   "execution_count": 58,
   "metadata": {},
   "outputs": [
    {
     "data": {
      "application/vnd.plotly.v1+json": {
       "config": {
        "plotlyServerURL": "https://plot.ly"
       },
       "data": [
        {
         "hovertemplate": "price=%{x}<br>total_sales=%{y}<extra></extra>",
         "legendgroup": "",
         "marker": {
          "color": "#636efa",
          "symbol": "circle"
         },
         "mode": "markers",
         "name": "",
         "orientation": "v",
         "showlegend": false,
         "type": "scatter",
         "x": [
          5.2,
          5.7,
          5.7,
          5.7,
          5.7,
          5.8,
          5.8,
          5.8,
          5.8,
          6.3,
          6.5,
          6.5,
          6.5,
          6.7,
          6.8,
          6.8,
          7,
          7,
          7.1,
          7.1,
          7.1,
          7.2,
          7.4,
          7.4,
          7.5,
          7.6,
          7.6,
          7.7,
          7.8,
          7.8,
          7.9,
          7.9,
          8.1,
          8.2,
          8.4,
          8.5,
          8.5,
          8.6,
          8.6,
          8.7,
          8.7,
          8.7,
          8.7,
          8.7,
          8.9,
          8.9,
          8.9,
          9,
          9,
          9.1,
          9.1,
          9.2,
          9.3,
          9.3,
          9.3,
          9.3,
          9.3,
          9.3,
          9.4,
          9.5,
          9.5,
          9.6,
          9.6,
          9.7,
          9.7,
          9.7,
          9.8,
          9.8,
          9.8,
          9.9,
          9.9,
          9.9,
          9.9,
          9.9,
          9.9,
          10.1,
          10.1,
          10.2,
          10.2,
          10.3,
          10.3,
          10.4,
          10.4,
          10.6,
          10.6,
          10.7,
          10.7,
          10.7,
          10.7,
          10.8,
          10.8,
          10.8,
          10.9,
          10.9,
          11,
          11.1,
          11.1,
          11.1,
          11.1,
          11.1,
          11.1,
          11.1,
          11.3,
          11.3,
          11.5,
          11.5,
          11.6,
          11.6,
          11.6,
          11.8,
          11.9,
          11.9,
          11.9,
          11.9,
          11.9,
          12,
          12,
          12,
          12,
          12,
          12.1,
          12.1,
          12.1,
          12.2,
          12.3,
          12.3,
          12.5,
          12.5,
          12.5,
          12.6,
          12.6,
          12.6,
          12.6,
          12.7,
          12.7,
          12.7,
          12.7,
          12.7,
          12.7,
          12.8,
          12.8,
          12.8,
          12.8,
          12.8,
          12.8,
          12.9,
          12.9,
          12.9,
          12.9,
          12.9,
          13,
          13.1,
          13.1,
          13.2,
          13.2,
          13.3,
          13.3,
          13.4,
          13.4,
          13.4,
          13.5,
          13.5,
          13.5,
          13.5,
          13.5,
          13.5,
          13.5,
          13.6,
          13.6,
          13.7,
          13.7,
          13.7,
          13.7,
          13.7,
          13.8,
          13.9,
          14,
          14.05,
          14.1,
          14.1,
          14.1,
          14.3,
          14.3,
          14.3,
          14.4,
          14.4,
          14.4,
          14.5,
          14.5,
          14.5,
          14.6,
          14.7,
          14.8,
          14.9,
          14.9,
          14.9,
          15.2,
          15.2,
          15.2,
          15.3,
          15.3,
          15.4,
          15.4,
          15.4,
          15.4,
          15.5,
          15.5,
          15.8,
          15.8,
          15.8,
          15.8,
          15.8,
          15.9,
          16.1,
          16.1,
          16.2,
          16.3,
          16.3,
          16.3,
          16.3,
          16.3,
          16.3,
          16.4,
          16.4,
          16.4,
          16.45,
          16.5,
          16.5,
          16.6,
          16.6,
          16.6,
          16.6,
          16.7,
          16.7,
          16.7,
          16.8,
          16.8,
          16.9,
          16.9,
          16.9,
          16.9,
          16.9,
          17,
          17,
          17,
          17.1,
          17.1,
          17.1,
          17.1,
          17.2,
          17.2,
          17.2,
          17.3,
          17.4,
          17.5,
          17.5,
          17.5,
          17.6,
          17.7,
          17.8,
          17.8,
          17.8,
          17.9,
          17.9,
          17.9,
          18,
          18,
          18.1,
          18.2,
          18.2,
          18.2,
          18.2,
          18.25,
          18.3,
          18.4,
          18.4,
          18.5,
          18.5,
          18.6,
          18.7,
          18.7,
          18.8,
          18.9,
          19,
          19,
          19,
          19,
          19,
          19,
          19,
          19,
          19,
          19.2,
          19.2,
          19.2,
          19.3,
          19.3,
          19.5,
          19.5,
          19.5,
          19.5,
          19.8,
          19.8,
          19.8,
          19.8,
          19.8,
          19.8,
          20.1,
          20.2,
          20.2,
          20.35,
          20.4,
          20.4,
          20.5,
          20.5,
          20.6,
          20.8,
          20.8,
          20.8,
          20.8,
          21,
          21,
          21.2,
          21.4,
          21.5,
          21.6,
          21.7,
          21.7,
          21.8,
          21.8,
          21.8,
          21.9,
          22,
          22,
          22.1,
          22.2,
          22.4,
          22.4,
          22.5,
          22.8,
          22.8,
          22.8,
          22.8,
          22.8,
          22.9,
          22.9,
          23,
          23,
          23,
          23,
          23.2,
          23.2,
          23.2,
          23.4,
          23.4,
          23.4,
          23.5,
          23.6,
          23.7,
          23.8,
          24,
          24,
          24,
          24,
          24,
          24,
          24.2,
          24.2,
          24.3,
          24.3,
          24.4,
          24.4,
          24.4,
          24.4,
          24.5,
          24.5,
          24.6,
          24.7,
          24.8,
          25,
          25,
          25,
          25,
          25.2,
          25.2,
          25.3,
          25.3,
          25.7,
          25.7,
          25.9,
          25.9,
          25.9,
          25.9,
          26,
          26.2,
          26.4,
          26.5,
          26.5,
          26.5,
          26.5,
          26.5,
          26.5,
          26.6,
          26.7,
          26.7,
          26.9,
          27,
          27.2,
          27.3,
          27.3,
          27.3,
          27.5,
          27.5,
          27.5,
          27.7,
          27.8,
          27.8,
          27.9,
          27.9,
          27.9,
          27.9,
          27.9,
          28,
          28,
          28,
          28,
          28.1,
          28.1,
          28.4,
          28.4,
          28.5,
          28.5,
          28.5,
          28.8,
          29,
          29,
          29,
          29.2,
          29.4,
          29.5,
          29.5,
          29.5,
          29.7,
          29.8,
          29.8,
          29.8,
          29.9,
          29.9,
          30,
          30,
          30.1,
          30.5,
          30.6,
          30.8,
          31,
          31.2,
          31.5,
          31.5,
          31.6,
          31.7,
          31.7,
          31.7,
          32,
          32.1,
          32.2,
          32.2,
          32.6,
          32.7,
          32.8,
          32.8,
          33,
          33.2,
          33.2,
          33.2,
          33.4,
          33.4,
          33.6,
          33.7,
          34.3,
          34.3,
          34.3,
          34.4,
          34.7,
          34.8,
          35,
          35.1,
          35.2,
          35.3,
          35.5,
          35.6,
          35.6,
          35.6,
          36,
          36,
          36.2,
          36.3,
          36.9,
          37,
          37.2,
          37.5,
          37.7,
          38,
          38,
          38,
          38.4,
          38.4,
          38.5,
          38.6,
          38.6,
          38.6,
          38.6,
          39,
          39,
          39,
          39,
          39.1,
          39.2,
          39.6,
          39.8,
          40,
          40.2,
          40.2,
          40.2,
          40.5,
          40.7,
          41,
          41,
          41,
          41.2,
          41.6,
          41.8,
          41.8,
          41.8,
          42,
          42,
          42.1,
          42.2,
          42.2,
          42.6,
          43,
          43,
          43.5,
          43.5,
          43.9,
          43.9,
          44,
          44,
          44,
          44,
          44,
          44.3,
          44.3,
          44.5,
          44.6,
          45,
          45,
          45.9,
          46,
          46,
          46,
          46,
          46,
          46.5,
          46.5,
          46.5,
          47.2,
          48.4,
          48.5,
          48.5,
          48.5,
          48.5,
          48.7,
          48.7,
          48.8,
          48.8,
          49,
          49,
          49,
          49,
          49.5,
          49.5,
          49.5,
          49.5,
          49.5,
          49.5,
          49.9,
          50,
          50,
          50.1,
          50.4,
          50.5,
          51,
          51.6,
          52.4,
          52.4,
          52.4,
          52.6,
          52.7,
          52.9,
          53,
          53.2,
          54.8,
          54.8,
          54.8,
          55,
          55.4,
          55.6,
          56,
          56.3,
          56.4,
          57,
          57,
          57,
          57,
          57,
          57.6,
          57.6,
          57.7,
          58,
          58,
          58.3,
          58.8,
          59,
          59,
          59,
          59,
          59,
          59,
          59.4,
          59.6,
          59.6,
          59.8,
          59.9,
          59.9,
          59.9,
          60,
          60,
          60.4,
          61.6,
          61.6,
          62,
          62.1,
          62.4,
          62.4,
          62.4,
          62.5,
          63.4,
          63.5,
          63.5,
          64.9,
          65,
          65.9,
          67,
          67.2,
          67.5,
          68.1,
          68.3,
          69,
          69,
          69,
          69.8,
          71.3,
          71.3,
          71.5,
          71.6,
          71.7,
          72,
          73.3,
          74.5,
          74.8,
          76.8,
          77,
          77.4,
          77.8,
          78,
          78,
          78,
          78,
          78,
          79.5,
          79.5,
          79.8,
          80,
          83,
          83.7,
          85.6,
          86.8,
          88.4,
          92,
          93,
          99,
          100,
          102.3,
          104,
          105,
          105,
          105.6,
          108.5,
          109.6,
          112,
          114,
          115,
          115,
          116.4,
          121,
          121,
          122,
          124.8,
          126.5,
          135,
          137,
          157,
          175,
          176,
          191.3,
          217.5,
          225
         ],
         "xaxis": "x",
         "y": [
          0,
          6,
          13,
          0,
          43,
          0,
          46,
          8,
          24,
          2,
          14,
          1,
          4,
          5,
          7,
          5,
          10,
          2,
          19,
          12,
          26,
          0,
          0,
          0,
          1,
          20,
          16,
          6,
          1,
          18,
          5,
          0,
          0,
          4,
          5,
          18,
          29,
          14,
          38,
          0,
          18,
          11,
          7,
          11,
          4,
          1,
          1,
          5,
          4,
          6,
          1,
          1,
          12,
          33,
          1,
          3,
          7,
          3,
          8,
          8,
          1,
          0,
          3,
          3,
          0,
          12,
          18,
          13,
          3,
          4,
          12,
          1,
          1,
          6,
          6,
          1,
          4,
          3,
          0,
          0,
          0,
          1,
          0,
          0,
          3,
          0,
          1,
          1,
          0,
          10,
          9,
          3,
          38,
          0,
          9,
          0,
          0,
          2,
          0,
          11,
          2,
          1,
          14,
          3,
          0,
          17,
          0,
          0,
          12,
          0,
          9,
          0,
          6,
          3,
          9,
          7,
          10,
          0,
          0,
          3,
          6,
          0,
          5,
          2,
          3,
          3,
          15,
          0,
          0,
          6,
          4,
          6,
          1,
          4,
          0,
          4,
          10,
          5,
          0,
          0,
          0,
          1,
          1,
          0,
          15,
          0,
          22,
          12,
          0,
          0,
          11,
          2,
          0,
          0,
          18,
          42,
          3,
          0,
          1,
          0,
          5,
          0,
          9,
          8,
          0,
          0,
          0,
          9,
          0,
          1,
          12,
          0,
          1,
          0,
          3,
          0,
          2,
          4,
          8,
          3,
          1,
          3,
          1,
          0,
          3,
          18,
          2,
          0,
          3,
          3,
          11,
          0,
          12,
          3,
          5,
          12,
          6,
          1,
          1,
          1,
          7,
          5,
          1,
          3,
          0,
          4,
          1,
          0,
          0,
          1,
          3,
          0,
          15,
          4,
          0,
          0,
          12,
          3,
          1,
          3,
          0,
          0,
          0,
          2,
          4,
          4,
          1,
          9,
          62,
          1,
          1,
          0,
          3,
          2,
          1,
          0,
          32,
          0,
          0,
          13,
          9,
          0,
          2,
          0,
          6,
          1,
          0,
          3,
          0,
          2,
          0,
          0,
          4,
          2,
          3,
          0,
          5,
          0,
          0,
          5,
          2,
          0,
          1,
          0,
          0,
          0,
          0,
          3,
          12,
          3,
          0,
          0,
          0,
          0,
          12,
          0,
          0,
          0,
          0,
          0,
          0,
          0,
          0,
          2,
          1,
          7,
          0,
          7,
          0,
          11,
          0,
          2,
          3,
          7,
          6,
          1,
          0,
          0,
          0,
          30,
          0,
          2,
          0,
          0,
          0,
          4,
          7,
          3,
          0,
          1,
          6,
          4,
          0,
          2,
          6,
          10,
          1,
          0,
          20,
          0,
          19,
          0,
          9,
          0,
          1,
          1,
          19,
          0,
          3,
          0,
          6,
          0,
          18,
          19,
          1,
          2,
          1,
          0,
          13,
          7,
          13,
          0,
          0,
          22,
          0,
          0,
          0,
          0,
          12,
          5,
          12,
          1,
          0,
          0,
          6,
          7,
          0,
          5,
          4,
          0,
          0,
          7,
          0,
          0,
          0,
          7,
          1,
          6,
          2,
          0,
          0,
          6,
          0,
          10,
          0,
          21,
          1,
          0,
          3,
          0,
          10,
          1,
          5,
          37,
          41,
          0,
          5,
          4,
          6,
          0,
          6,
          8,
          2,
          2,
          15,
          0,
          0,
          6,
          0,
          0,
          6,
          0,
          5,
          6,
          1,
          0,
          4,
          2,
          0,
          6,
          4,
          0,
          0,
          0,
          1,
          3,
          0,
          0,
          0,
          36,
          3,
          0,
          0,
          1,
          0,
          0,
          3,
          4,
          0,
          5,
          0,
          0,
          8,
          0,
          36,
          3,
          3,
          0,
          0,
          2,
          0,
          0,
          1,
          0,
          0,
          0,
          0,
          0,
          0,
          0,
          0,
          2,
          0,
          3,
          7,
          7,
          7,
          1,
          8,
          2,
          0,
          0,
          1,
          5,
          0,
          0,
          8,
          0,
          3,
          0,
          3,
          19,
          0,
          0,
          3,
          0,
          0,
          6,
          0,
          0,
          0,
          4,
          0,
          7,
          0,
          0,
          3,
          0,
          1,
          1,
          0,
          0,
          0,
          1,
          0,
          0,
          0,
          0,
          24,
          0,
          1,
          0,
          0,
          0,
          2,
          0,
          0,
          2,
          1,
          2,
          1,
          4,
          1,
          40,
          0,
          0,
          1,
          0,
          2,
          7,
          0,
          1,
          0,
          0,
          0,
          0,
          8,
          0,
          4,
          0,
          1,
          1,
          0,
          4,
          0,
          0,
          0,
          4,
          14,
          0,
          0,
          3,
          0,
          23,
          2,
          1,
          0,
          10,
          0,
          0,
          0,
          23,
          1,
          0,
          2,
          0,
          0,
          0,
          2,
          0,
          0,
          5,
          0,
          0,
          0,
          0,
          1,
          0,
          17,
          0,
          1,
          0,
          0,
          0,
          0,
          96,
          87,
          1,
          0,
          0,
          0,
          2,
          9,
          0,
          1,
          1,
          0,
          1,
          1,
          0,
          0,
          0,
          12,
          3,
          2,
          0,
          0,
          1,
          0,
          30,
          4,
          0,
          3,
          23,
          3,
          1,
          0,
          1,
          0,
          0,
          0,
          0,
          0,
          0,
          3,
          1,
          0,
          0,
          0,
          0,
          4,
          0,
          0,
          0,
          0,
          1,
          0,
          1,
          2,
          0,
          0,
          0,
          0,
          0,
          16,
          3,
          0,
          1,
          0,
          2,
          0,
          0,
          4,
          0,
          0,
          1,
          1,
          0,
          0,
          0,
          0,
          7,
          0,
          0,
          0,
          0,
          1,
          0,
          0,
          0,
          10,
          0,
          0,
          0,
          10,
          0,
          0,
          0,
          0,
          0,
          0,
          0,
          0,
          0,
          0,
          0,
          0,
          0,
          0,
          0,
          3,
          0,
          6,
          0,
          0,
          1,
          0,
          0,
          0,
          0,
          0,
          0,
          0,
          1,
          0,
          0,
          0,
          2,
          0,
          0,
          0,
          0,
          2,
          0,
          0,
          0,
          0,
          0,
          11,
          2,
          5,
          0,
          0,
          13,
          3,
          0,
          5
         ],
         "yaxis": "y"
        }
       ],
       "layout": {
        "legend": {
         "tracegroupgap": 0
        },
        "template": {
         "data": {
          "bar": [
           {
            "error_x": {
             "color": "#f2f5fa"
            },
            "error_y": {
             "color": "#f2f5fa"
            },
            "marker": {
             "line": {
              "color": "rgb(17,17,17)",
              "width": 0.5
             },
             "pattern": {
              "fillmode": "overlay",
              "size": 10,
              "solidity": 0.2
             }
            },
            "type": "bar"
           }
          ],
          "barpolar": [
           {
            "marker": {
             "line": {
              "color": "rgb(17,17,17)",
              "width": 0.5
             },
             "pattern": {
              "fillmode": "overlay",
              "size": 10,
              "solidity": 0.2
             }
            },
            "type": "barpolar"
           }
          ],
          "carpet": [
           {
            "aaxis": {
             "endlinecolor": "#A2B1C6",
             "gridcolor": "#506784",
             "linecolor": "#506784",
             "minorgridcolor": "#506784",
             "startlinecolor": "#A2B1C6"
            },
            "baxis": {
             "endlinecolor": "#A2B1C6",
             "gridcolor": "#506784",
             "linecolor": "#506784",
             "minorgridcolor": "#506784",
             "startlinecolor": "#A2B1C6"
            },
            "type": "carpet"
           }
          ],
          "choropleth": [
           {
            "colorbar": {
             "outlinewidth": 0,
             "ticks": ""
            },
            "type": "choropleth"
           }
          ],
          "contour": [
           {
            "colorbar": {
             "outlinewidth": 0,
             "ticks": ""
            },
            "colorscale": [
             [
              0,
              "#0d0887"
             ],
             [
              0.1111111111111111,
              "#46039f"
             ],
             [
              0.2222222222222222,
              "#7201a8"
             ],
             [
              0.3333333333333333,
              "#9c179e"
             ],
             [
              0.4444444444444444,
              "#bd3786"
             ],
             [
              0.5555555555555556,
              "#d8576b"
             ],
             [
              0.6666666666666666,
              "#ed7953"
             ],
             [
              0.7777777777777778,
              "#fb9f3a"
             ],
             [
              0.8888888888888888,
              "#fdca26"
             ],
             [
              1,
              "#f0f921"
             ]
            ],
            "type": "contour"
           }
          ],
          "contourcarpet": [
           {
            "colorbar": {
             "outlinewidth": 0,
             "ticks": ""
            },
            "type": "contourcarpet"
           }
          ],
          "heatmap": [
           {
            "colorbar": {
             "outlinewidth": 0,
             "ticks": ""
            },
            "colorscale": [
             [
              0,
              "#0d0887"
             ],
             [
              0.1111111111111111,
              "#46039f"
             ],
             [
              0.2222222222222222,
              "#7201a8"
             ],
             [
              0.3333333333333333,
              "#9c179e"
             ],
             [
              0.4444444444444444,
              "#bd3786"
             ],
             [
              0.5555555555555556,
              "#d8576b"
             ],
             [
              0.6666666666666666,
              "#ed7953"
             ],
             [
              0.7777777777777778,
              "#fb9f3a"
             ],
             [
              0.8888888888888888,
              "#fdca26"
             ],
             [
              1,
              "#f0f921"
             ]
            ],
            "type": "heatmap"
           }
          ],
          "heatmapgl": [
           {
            "colorbar": {
             "outlinewidth": 0,
             "ticks": ""
            },
            "colorscale": [
             [
              0,
              "#0d0887"
             ],
             [
              0.1111111111111111,
              "#46039f"
             ],
             [
              0.2222222222222222,
              "#7201a8"
             ],
             [
              0.3333333333333333,
              "#9c179e"
             ],
             [
              0.4444444444444444,
              "#bd3786"
             ],
             [
              0.5555555555555556,
              "#d8576b"
             ],
             [
              0.6666666666666666,
              "#ed7953"
             ],
             [
              0.7777777777777778,
              "#fb9f3a"
             ],
             [
              0.8888888888888888,
              "#fdca26"
             ],
             [
              1,
              "#f0f921"
             ]
            ],
            "type": "heatmapgl"
           }
          ],
          "histogram": [
           {
            "marker": {
             "pattern": {
              "fillmode": "overlay",
              "size": 10,
              "solidity": 0.2
             }
            },
            "type": "histogram"
           }
          ],
          "histogram2d": [
           {
            "colorbar": {
             "outlinewidth": 0,
             "ticks": ""
            },
            "colorscale": [
             [
              0,
              "#0d0887"
             ],
             [
              0.1111111111111111,
              "#46039f"
             ],
             [
              0.2222222222222222,
              "#7201a8"
             ],
             [
              0.3333333333333333,
              "#9c179e"
             ],
             [
              0.4444444444444444,
              "#bd3786"
             ],
             [
              0.5555555555555556,
              "#d8576b"
             ],
             [
              0.6666666666666666,
              "#ed7953"
             ],
             [
              0.7777777777777778,
              "#fb9f3a"
             ],
             [
              0.8888888888888888,
              "#fdca26"
             ],
             [
              1,
              "#f0f921"
             ]
            ],
            "type": "histogram2d"
           }
          ],
          "histogram2dcontour": [
           {
            "colorbar": {
             "outlinewidth": 0,
             "ticks": ""
            },
            "colorscale": [
             [
              0,
              "#0d0887"
             ],
             [
              0.1111111111111111,
              "#46039f"
             ],
             [
              0.2222222222222222,
              "#7201a8"
             ],
             [
              0.3333333333333333,
              "#9c179e"
             ],
             [
              0.4444444444444444,
              "#bd3786"
             ],
             [
              0.5555555555555556,
              "#d8576b"
             ],
             [
              0.6666666666666666,
              "#ed7953"
             ],
             [
              0.7777777777777778,
              "#fb9f3a"
             ],
             [
              0.8888888888888888,
              "#fdca26"
             ],
             [
              1,
              "#f0f921"
             ]
            ],
            "type": "histogram2dcontour"
           }
          ],
          "mesh3d": [
           {
            "colorbar": {
             "outlinewidth": 0,
             "ticks": ""
            },
            "type": "mesh3d"
           }
          ],
          "parcoords": [
           {
            "line": {
             "colorbar": {
              "outlinewidth": 0,
              "ticks": ""
             }
            },
            "type": "parcoords"
           }
          ],
          "pie": [
           {
            "automargin": true,
            "type": "pie"
           }
          ],
          "scatter": [
           {
            "marker": {
             "line": {
              "color": "#283442"
             }
            },
            "type": "scatter"
           }
          ],
          "scatter3d": [
           {
            "line": {
             "colorbar": {
              "outlinewidth": 0,
              "ticks": ""
             }
            },
            "marker": {
             "colorbar": {
              "outlinewidth": 0,
              "ticks": ""
             }
            },
            "type": "scatter3d"
           }
          ],
          "scattercarpet": [
           {
            "marker": {
             "colorbar": {
              "outlinewidth": 0,
              "ticks": ""
             }
            },
            "type": "scattercarpet"
           }
          ],
          "scattergeo": [
           {
            "marker": {
             "colorbar": {
              "outlinewidth": 0,
              "ticks": ""
             }
            },
            "type": "scattergeo"
           }
          ],
          "scattergl": [
           {
            "marker": {
             "line": {
              "color": "#283442"
             }
            },
            "type": "scattergl"
           }
          ],
          "scattermapbox": [
           {
            "marker": {
             "colorbar": {
              "outlinewidth": 0,
              "ticks": ""
             }
            },
            "type": "scattermapbox"
           }
          ],
          "scatterpolar": [
           {
            "marker": {
             "colorbar": {
              "outlinewidth": 0,
              "ticks": ""
             }
            },
            "type": "scatterpolar"
           }
          ],
          "scatterpolargl": [
           {
            "marker": {
             "colorbar": {
              "outlinewidth": 0,
              "ticks": ""
             }
            },
            "type": "scatterpolargl"
           }
          ],
          "scatterternary": [
           {
            "marker": {
             "colorbar": {
              "outlinewidth": 0,
              "ticks": ""
             }
            },
            "type": "scatterternary"
           }
          ],
          "surface": [
           {
            "colorbar": {
             "outlinewidth": 0,
             "ticks": ""
            },
            "colorscale": [
             [
              0,
              "#0d0887"
             ],
             [
              0.1111111111111111,
              "#46039f"
             ],
             [
              0.2222222222222222,
              "#7201a8"
             ],
             [
              0.3333333333333333,
              "#9c179e"
             ],
             [
              0.4444444444444444,
              "#bd3786"
             ],
             [
              0.5555555555555556,
              "#d8576b"
             ],
             [
              0.6666666666666666,
              "#ed7953"
             ],
             [
              0.7777777777777778,
              "#fb9f3a"
             ],
             [
              0.8888888888888888,
              "#fdca26"
             ],
             [
              1,
              "#f0f921"
             ]
            ],
            "type": "surface"
           }
          ],
          "table": [
           {
            "cells": {
             "fill": {
              "color": "#506784"
             },
             "line": {
              "color": "rgb(17,17,17)"
             }
            },
            "header": {
             "fill": {
              "color": "#2a3f5f"
             },
             "line": {
              "color": "rgb(17,17,17)"
             }
            },
            "type": "table"
           }
          ]
         },
         "layout": {
          "annotationdefaults": {
           "arrowcolor": "#f2f5fa",
           "arrowhead": 0,
           "arrowwidth": 1
          },
          "autotypenumbers": "strict",
          "coloraxis": {
           "colorbar": {
            "outlinewidth": 0,
            "ticks": ""
           }
          },
          "colorscale": {
           "diverging": [
            [
             0,
             "#8e0152"
            ],
            [
             0.1,
             "#c51b7d"
            ],
            [
             0.2,
             "#de77ae"
            ],
            [
             0.3,
             "#f1b6da"
            ],
            [
             0.4,
             "#fde0ef"
            ],
            [
             0.5,
             "#f7f7f7"
            ],
            [
             0.6,
             "#e6f5d0"
            ],
            [
             0.7,
             "#b8e186"
            ],
            [
             0.8,
             "#7fbc41"
            ],
            [
             0.9,
             "#4d9221"
            ],
            [
             1,
             "#276419"
            ]
           ],
           "sequential": [
            [
             0,
             "#0d0887"
            ],
            [
             0.1111111111111111,
             "#46039f"
            ],
            [
             0.2222222222222222,
             "#7201a8"
            ],
            [
             0.3333333333333333,
             "#9c179e"
            ],
            [
             0.4444444444444444,
             "#bd3786"
            ],
            [
             0.5555555555555556,
             "#d8576b"
            ],
            [
             0.6666666666666666,
             "#ed7953"
            ],
            [
             0.7777777777777778,
             "#fb9f3a"
            ],
            [
             0.8888888888888888,
             "#fdca26"
            ],
            [
             1,
             "#f0f921"
            ]
           ],
           "sequentialminus": [
            [
             0,
             "#0d0887"
            ],
            [
             0.1111111111111111,
             "#46039f"
            ],
            [
             0.2222222222222222,
             "#7201a8"
            ],
            [
             0.3333333333333333,
             "#9c179e"
            ],
            [
             0.4444444444444444,
             "#bd3786"
            ],
            [
             0.5555555555555556,
             "#d8576b"
            ],
            [
             0.6666666666666666,
             "#ed7953"
            ],
            [
             0.7777777777777778,
             "#fb9f3a"
            ],
            [
             0.8888888888888888,
             "#fdca26"
            ],
            [
             1,
             "#f0f921"
            ]
           ]
          },
          "colorway": [
           "#636efa",
           "#EF553B",
           "#00cc96",
           "#ab63fa",
           "#FFA15A",
           "#19d3f3",
           "#FF6692",
           "#B6E880",
           "#FF97FF",
           "#FECB52"
          ],
          "font": {
           "color": "#f2f5fa"
          },
          "geo": {
           "bgcolor": "rgb(17,17,17)",
           "lakecolor": "rgb(17,17,17)",
           "landcolor": "rgb(17,17,17)",
           "showlakes": true,
           "showland": true,
           "subunitcolor": "#506784"
          },
          "hoverlabel": {
           "align": "left"
          },
          "hovermode": "closest",
          "mapbox": {
           "style": "dark"
          },
          "paper_bgcolor": "rgb(17,17,17)",
          "plot_bgcolor": "rgb(17,17,17)",
          "polar": {
           "angularaxis": {
            "gridcolor": "#506784",
            "linecolor": "#506784",
            "ticks": ""
           },
           "bgcolor": "rgb(17,17,17)",
           "radialaxis": {
            "gridcolor": "#506784",
            "linecolor": "#506784",
            "ticks": ""
           }
          },
          "scene": {
           "xaxis": {
            "backgroundcolor": "rgb(17,17,17)",
            "gridcolor": "#506784",
            "gridwidth": 2,
            "linecolor": "#506784",
            "showbackground": true,
            "ticks": "",
            "zerolinecolor": "#C8D4E3"
           },
           "yaxis": {
            "backgroundcolor": "rgb(17,17,17)",
            "gridcolor": "#506784",
            "gridwidth": 2,
            "linecolor": "#506784",
            "showbackground": true,
            "ticks": "",
            "zerolinecolor": "#C8D4E3"
           },
           "zaxis": {
            "backgroundcolor": "rgb(17,17,17)",
            "gridcolor": "#506784",
            "gridwidth": 2,
            "linecolor": "#506784",
            "showbackground": true,
            "ticks": "",
            "zerolinecolor": "#C8D4E3"
           }
          },
          "shapedefaults": {
           "line": {
            "color": "#f2f5fa"
           }
          },
          "sliderdefaults": {
           "bgcolor": "#C8D4E3",
           "bordercolor": "rgb(17,17,17)",
           "borderwidth": 1,
           "tickwidth": 0
          },
          "ternary": {
           "aaxis": {
            "gridcolor": "#506784",
            "linecolor": "#506784",
            "ticks": ""
           },
           "baxis": {
            "gridcolor": "#506784",
            "linecolor": "#506784",
            "ticks": ""
           },
           "bgcolor": "rgb(17,17,17)",
           "caxis": {
            "gridcolor": "#506784",
            "linecolor": "#506784",
            "ticks": ""
           }
          },
          "title": {
           "x": 0.05
          },
          "updatemenudefaults": {
           "bgcolor": "#506784",
           "borderwidth": 0
          },
          "xaxis": {
           "automargin": true,
           "gridcolor": "#283442",
           "linecolor": "#506784",
           "ticks": "",
           "title": {
            "standoff": 15
           },
           "zerolinecolor": "#283442",
           "zerolinewidth": 2
          },
          "yaxis": {
           "automargin": true,
           "gridcolor": "#283442",
           "linecolor": "#506784",
           "ticks": "",
           "title": {
            "standoff": 15
           },
           "zerolinecolor": "#283442",
           "zerolinewidth": 2
          }
         }
        },
        "title": {
         "text": "Prix en terme de quantités vendues"
        },
        "xaxis": {
         "anchor": "y",
         "domain": [
          0,
          1
         ],
         "title": {
          "text": "Price"
         }
        },
        "yaxis": {
         "anchor": "x",
         "domain": [
          0,
          1
         ],
         "title": {
          "text": "Nombre de ventes"
         }
        }
       }
      }
     },
     "metadata": {},
     "output_type": "display_data"
    },
    {
     "data": {
      "image/png": "[encoded data removed]",
      "text/plain": [
       "<IPython.core.display.Image object>"
      ]
     },
     "metadata": {},
     "output_type": "display_data"
    }
   ],
   "source": [
    "# Créez un graphique de dispersion avec Plotly Express\n",
    "fig = px.scatter(df_price, x='price', y='total_sales', title=\"Prix en terme de quantités vendues\")\n",
    "\n",
    "# Personnalisez les étiquettes des axes\n",
    "fig.update_xaxes(title_text=\"Price\")\n",
    "fig.update_yaxes(title_text=\"Nombre de ventes\")\n",
    "fig.update_layout(template='plotly_dark')\n",
    "# Afficher la figure\n",
    "fig.show()\n",
    "fig.update_layout(width=1240)\n",
    "# Enregistrer en tant qu'image\n",
    "fig.write_image(\"figure/1.png\")\n",
    "# Afficher le graphique sur le notebook dans le depot distant GITHUB\n",
    "display(Image(filename=\"figure/1.png\"))"
   ]
  },
  {
   "cell_type": "markdown",
   "metadata": {},
   "source": [
    "Conclusion:"
   ]
  },
  {
   "cell_type": "markdown",
   "metadata": {},
   "source": [
    "Dans notre base de données, nous identifions:\n",
    "\n",
    "32 valeurs outliers avec la méthode IQR (basée sur la médiane)\n",
    "\n",
    "30 valeurs outliers avec la méthode Z-score (basée sur la moyenne) avec un intervalle de confiance de 2 écarts type.\n",
    "\n",
    "14 valeurs outliers avec la méthode Z-score (basée sur la moyenne) avec un intervalle de confiance de 3 écarts type.\n",
    "\n",
    "On remarque donc que c'est la valeur à 2 écarts type qui se rapproche le plus du IQR."
   ]
  },
  {
   "cell_type": "markdown",
   "metadata": {},
   "source": [
    "#### 2.4.6 Calcul du chiffre d’affaire total réalisé en ligne si suppression des valeurs aberrantes (Z-score, threshold=2 )"
   ]
  },
  {
   "cell_type": "code",
   "execution_count": 59,
   "metadata": {},
   "outputs": [
    {
     "data": {
      "text/html": [
       "<div>\n",
       "<style scoped>\n",
       "    .dataframe tbody tr th:only-of-type {\n",
       "        vertical-align: middle;\n",
       "    }\n",
       "\n",
       "    .dataframe tbody tr th {\n",
       "        vertical-align: top;\n",
       "    }\n",
       "\n",
       "    .dataframe thead th {\n",
       "        text-align: right;\n",
       "    }\n",
       "</style>\n",
       "<table border=\"1\" class=\"dataframe\">\n",
       "  <thead>\n",
       "    <tr style=\"text-align: right;\">\n",
       "      <th></th>\n",
       "      <th>id_web</th>\n",
       "      <th>product_id</th>\n",
       "      <th>post_name</th>\n",
       "      <th>total_sales</th>\n",
       "      <th>price</th>\n",
       "      <th>z_score</th>\n",
       "    </tr>\n",
       "  </thead>\n",
       "  <tbody>\n",
       "    <tr>\n",
       "      <th>152</th>\n",
       "      <td>11668</td>\n",
       "      <td>4132</td>\n",
       "      <td>zind-humbrecht-pinot-gris-grand-cru-rangen-de-...</td>\n",
       "      <td>0.0</td>\n",
       "      <td>88.4</td>\n",
       "      <td>2.011864</td>\n",
       "    </tr>\n",
       "    <tr>\n",
       "      <th>548</th>\n",
       "      <td>19822</td>\n",
       "      <td>5565</td>\n",
       "      <td>tempier-bandol-cabassaou-2017</td>\n",
       "      <td>0.0</td>\n",
       "      <td>92.0</td>\n",
       "      <td>2.141504</td>\n",
       "    </tr>\n",
       "    <tr>\n",
       "      <th>439</th>\n",
       "      <td>14774</td>\n",
       "      <td>5916</td>\n",
       "      <td>wemyss-malts-single-cask-chocolate-moka-cake</td>\n",
       "      <td>0.0</td>\n",
       "      <td>93.0</td>\n",
       "      <td>2.177515</td>\n",
       "    </tr>\n",
       "    <tr>\n",
       "      <th>119</th>\n",
       "      <td>11601</td>\n",
       "      <td>6214</td>\n",
       "      <td>domaine-des-comtes-lafon-volnay-1er-cru-champa...</td>\n",
       "      <td>0.0</td>\n",
       "      <td>99.0</td>\n",
       "      <td>2.393583</td>\n",
       "    </tr>\n",
       "    <tr>\n",
       "      <th>16</th>\n",
       "      <td>15382</td>\n",
       "      <td>4115</td>\n",
       "      <td>zind-humbrecht-riesling-gc-rangen-thann-clos-s...</td>\n",
       "      <td>0.0</td>\n",
       "      <td>100.0</td>\n",
       "      <td>2.429594</td>\n",
       "    </tr>\n",
       "    <tr>\n",
       "      <th>37</th>\n",
       "      <td>14805</td>\n",
       "      <td>4903</td>\n",
       "      <td>domaine-des-croix-corton-grand-cru-les-greves-...</td>\n",
       "      <td>0.0</td>\n",
       "      <td>102.3</td>\n",
       "      <td>2.512420</td>\n",
       "    </tr>\n",
       "    <tr>\n",
       "      <th>413</th>\n",
       "      <td>3509</td>\n",
       "      <td>4407</td>\n",
       "      <td>cognac-frapin-cigar-blend</td>\n",
       "      <td>1.0</td>\n",
       "      <td>104.0</td>\n",
       "      <td>2.573639</td>\n",
       "    </tr>\n",
       "    <tr>\n",
       "      <th>102</th>\n",
       "      <td>12791</td>\n",
       "      <td>5007</td>\n",
       "      <td>domaine-des-comtes-lafon-volnay-1er-cru-santen...</td>\n",
       "      <td>0.0</td>\n",
       "      <td>105.0</td>\n",
       "      <td>2.609650</td>\n",
       "    </tr>\n",
       "    <tr>\n",
       "      <th>232</th>\n",
       "      <td>11602</td>\n",
       "      <td>5008</td>\n",
       "      <td>domaine-des-comtes-lafon-volnay-1er-cru-santen...</td>\n",
       "      <td>0.0</td>\n",
       "      <td>105.0</td>\n",
       "      <td>2.609650</td>\n",
       "    </tr>\n",
       "    <tr>\n",
       "      <th>289</th>\n",
       "      <td>14596</td>\n",
       "      <td>6201</td>\n",
       "      <td>david-duband-chambolle-musigny-1er-cru-les-sen...</td>\n",
       "      <td>0.0</td>\n",
       "      <td>105.6</td>\n",
       "      <td>2.631257</td>\n",
       "    </tr>\n",
       "    <tr>\n",
       "      <th>582</th>\n",
       "      <td>3507</td>\n",
       "      <td>4404</td>\n",
       "      <td>cognac-frapin-fontpinot-xo</td>\n",
       "      <td>2.0</td>\n",
       "      <td>108.5</td>\n",
       "      <td>2.735690</td>\n",
       "    </tr>\n",
       "    <tr>\n",
       "      <th>3</th>\n",
       "      <td>12857</td>\n",
       "      <td>4582</td>\n",
       "      <td>chateau-de-puligny-montrachet-1cru-champ-canet...</td>\n",
       "      <td>0.0</td>\n",
       "      <td>109.6</td>\n",
       "      <td>2.775302</td>\n",
       "    </tr>\n",
       "    <tr>\n",
       "      <th>187</th>\n",
       "      <td>13914</td>\n",
       "      <td>5025</td>\n",
       "      <td>champagne-agrapart-fils-lavizoise-grand-cru-20...</td>\n",
       "      <td>0.0</td>\n",
       "      <td>112.0</td>\n",
       "      <td>2.861729</td>\n",
       "    </tr>\n",
       "    <tr>\n",
       "      <th>510</th>\n",
       "      <td>14773</td>\n",
       "      <td>5918</td>\n",
       "      <td>wemyss-malts-single-cask-scotch-whisky-chai-ca...</td>\n",
       "      <td>0.0</td>\n",
       "      <td>114.0</td>\n",
       "      <td>2.933752</td>\n",
       "    </tr>\n",
       "    <tr>\n",
       "      <th>399</th>\n",
       "      <td>12790</td>\n",
       "      <td>6215</td>\n",
       "      <td>domaine-des-comtes-lafon-volnay-1er-cru-champa...</td>\n",
       "      <td>0.0</td>\n",
       "      <td>115.0</td>\n",
       "      <td>2.969763</td>\n",
       "    </tr>\n",
       "    <tr>\n",
       "      <th>5</th>\n",
       "      <td>13996</td>\n",
       "      <td>6212</td>\n",
       "      <td>domaine-des-comtes-lafon-volnay-1er-cru-santen...</td>\n",
       "      <td>2.0</td>\n",
       "      <td>115.0</td>\n",
       "      <td>2.969763</td>\n",
       "    </tr>\n",
       "    <tr>\n",
       "      <th>408</th>\n",
       "      <td>15126</td>\n",
       "      <td>6202</td>\n",
       "      <td>domaine-clerget-echezeaux-en-orveaux-2015</td>\n",
       "      <td>0.0</td>\n",
       "      <td>116.4</td>\n",
       "      <td>3.020179</td>\n",
       "    </tr>\n",
       "    <tr>\n",
       "      <th>396</th>\n",
       "      <td>15072</td>\n",
       "      <td>6213</td>\n",
       "      <td>domaine-des-comtes-lafon-volnay-1er-cru-santen...</td>\n",
       "      <td>0.0</td>\n",
       "      <td>121.0</td>\n",
       "      <td>3.185830</td>\n",
       "    </tr>\n",
       "    <tr>\n",
       "      <th>201</th>\n",
       "      <td>15070</td>\n",
       "      <td>6216</td>\n",
       "      <td>domaine-des-comtes-lafon-volnay-1er-cru-champa...</td>\n",
       "      <td>0.0</td>\n",
       "      <td>121.0</td>\n",
       "      <td>3.185830</td>\n",
       "    </tr>\n",
       "    <tr>\n",
       "      <th>239</th>\n",
       "      <td>14775</td>\n",
       "      <td>5917</td>\n",
       "      <td>wemyss-malts-single-cask-scotch-whisky-choc-n-...</td>\n",
       "      <td>0.0</td>\n",
       "      <td>122.0</td>\n",
       "      <td>3.221842</td>\n",
       "    </tr>\n",
       "    <tr>\n",
       "      <th>181</th>\n",
       "      <td>14915</td>\n",
       "      <td>5612</td>\n",
       "      <td>domaine-weinbach-gewurztraminer-gc-furstentum-...</td>\n",
       "      <td>0.0</td>\n",
       "      <td>124.8</td>\n",
       "      <td>3.322673</td>\n",
       "    </tr>\n",
       "    <tr>\n",
       "      <th>521</th>\n",
       "      <td>12589</td>\n",
       "      <td>4355</td>\n",
       "      <td>champagne-egly-ouriet-grand-cru-brut-blanc-de-...</td>\n",
       "      <td>11.0</td>\n",
       "      <td>126.5</td>\n",
       "      <td>3.383892</td>\n",
       "    </tr>\n",
       "    <tr>\n",
       "      <th>574</th>\n",
       "      <td>14923</td>\n",
       "      <td>6126</td>\n",
       "      <td>champagne-gosset-celebris-vintage-2007</td>\n",
       "      <td>2.0</td>\n",
       "      <td>135.0</td>\n",
       "      <td>3.689988</td>\n",
       "    </tr>\n",
       "    <tr>\n",
       "      <th>337</th>\n",
       "      <td>14220</td>\n",
       "      <td>4904</td>\n",
       "      <td>domaine-des-croix-corton-charlemagne-grand-cru...</td>\n",
       "      <td>5.0</td>\n",
       "      <td>137.0</td>\n",
       "      <td>3.762010</td>\n",
       "    </tr>\n",
       "    <tr>\n",
       "      <th>466</th>\n",
       "      <td>7819</td>\n",
       "      <td>4406</td>\n",
       "      <td>cognac-frapin-chateau-de-fontpinot-1989-20-ans</td>\n",
       "      <td>0.0</td>\n",
       "      <td>157.0</td>\n",
       "      <td>4.482235</td>\n",
       "    </tr>\n",
       "    <tr>\n",
       "      <th>177</th>\n",
       "      <td>15185</td>\n",
       "      <td>5767</td>\n",
       "      <td>camille-giroud-clos-de-vougeot-2016</td>\n",
       "      <td>0.0</td>\n",
       "      <td>175.0</td>\n",
       "      <td>5.130438</td>\n",
       "    </tr>\n",
       "    <tr>\n",
       "      <th>186</th>\n",
       "      <td>3510</td>\n",
       "      <td>4402</td>\n",
       "      <td>cognac-frapin-vip-xo</td>\n",
       "      <td>13.0</td>\n",
       "      <td>176.0</td>\n",
       "      <td>5.166449</td>\n",
       "    </tr>\n",
       "    <tr>\n",
       "      <th>561</th>\n",
       "      <td>14983</td>\n",
       "      <td>5892</td>\n",
       "      <td>coteaux-champenois-egly-ouriet-ambonnay-rouge-...</td>\n",
       "      <td>3.0</td>\n",
       "      <td>191.3</td>\n",
       "      <td>5.717421</td>\n",
       "    </tr>\n",
       "    <tr>\n",
       "      <th>318</th>\n",
       "      <td>14581</td>\n",
       "      <td>5001</td>\n",
       "      <td>david-duband-charmes-chambertin-grand-cru-2014</td>\n",
       "      <td>0.0</td>\n",
       "      <td>217.5</td>\n",
       "      <td>6.660916</td>\n",
       "    </tr>\n",
       "    <tr>\n",
       "      <th>673</th>\n",
       "      <td>15940</td>\n",
       "      <td>4352</td>\n",
       "      <td>champagne-egly-ouriet-grand-cru-millesime-2008</td>\n",
       "      <td>5.0</td>\n",
       "      <td>225.0</td>\n",
       "      <td>6.931000</td>\n",
       "    </tr>\n",
       "  </tbody>\n",
       "</table>\n",
       "</div>"
      ],
      "text/plain": [
       "    id_web  product_id                                          post_name  \\\n",
       "152  11668        4132  zind-humbrecht-pinot-gris-grand-cru-rangen-de-...   \n",
       "548  19822        5565                      tempier-bandol-cabassaou-2017   \n",
       "439  14774        5916       wemyss-malts-single-cask-chocolate-moka-cake   \n",
       "119  11601        6214  domaine-des-comtes-lafon-volnay-1er-cru-champa...   \n",
       "16   15382        4115  zind-humbrecht-riesling-gc-rangen-thann-clos-s...   \n",
       "37   14805        4903  domaine-des-croix-corton-grand-cru-les-greves-...   \n",
       "413   3509        4407                          cognac-frapin-cigar-blend   \n",
       "102  12791        5007  domaine-des-comtes-lafon-volnay-1er-cru-santen...   \n",
       "232  11602        5008  domaine-des-comtes-lafon-volnay-1er-cru-santen...   \n",
       "289  14596        6201  david-duband-chambolle-musigny-1er-cru-les-sen...   \n",
       "582   3507        4404                         cognac-frapin-fontpinot-xo   \n",
       "3    12857        4582  chateau-de-puligny-montrachet-1cru-champ-canet...   \n",
       "187  13914        5025  champagne-agrapart-fils-lavizoise-grand-cru-20...   \n",
       "510  14773        5918  wemyss-malts-single-cask-scotch-whisky-chai-ca...   \n",
       "399  12790        6215  domaine-des-comtes-lafon-volnay-1er-cru-champa...   \n",
       "5    13996        6212  domaine-des-comtes-lafon-volnay-1er-cru-santen...   \n",
       "408  15126        6202          domaine-clerget-echezeaux-en-orveaux-2015   \n",
       "396  15072        6213  domaine-des-comtes-lafon-volnay-1er-cru-santen...   \n",
       "201  15070        6216  domaine-des-comtes-lafon-volnay-1er-cru-champa...   \n",
       "239  14775        5917  wemyss-malts-single-cask-scotch-whisky-choc-n-...   \n",
       "181  14915        5612  domaine-weinbach-gewurztraminer-gc-furstentum-...   \n",
       "521  12589        4355  champagne-egly-ouriet-grand-cru-brut-blanc-de-...   \n",
       "574  14923        6126             champagne-gosset-celebris-vintage-2007   \n",
       "337  14220        4904  domaine-des-croix-corton-charlemagne-grand-cru...   \n",
       "466   7819        4406     cognac-frapin-chateau-de-fontpinot-1989-20-ans   \n",
       "177  15185        5767                camille-giroud-clos-de-vougeot-2016   \n",
       "186   3510        4402                               cognac-frapin-vip-xo   \n",
       "561  14983        5892  coteaux-champenois-egly-ouriet-ambonnay-rouge-...   \n",
       "318  14581        5001     david-duband-charmes-chambertin-grand-cru-2014   \n",
       "673  15940        4352     champagne-egly-ouriet-grand-cru-millesime-2008   \n",
       "\n",
       "     total_sales  price   z_score  \n",
       "152          0.0   88.4  2.011864  \n",
       "548          0.0   92.0  2.141504  \n",
       "439          0.0   93.0  2.177515  \n",
       "119          0.0   99.0  2.393583  \n",
       "16           0.0  100.0  2.429594  \n",
       "37           0.0  102.3  2.512420  \n",
       "413          1.0  104.0  2.573639  \n",
       "102          0.0  105.0  2.609650  \n",
       "232          0.0  105.0  2.609650  \n",
       "289          0.0  105.6  2.631257  \n",
       "582          2.0  108.5  2.735690  \n",
       "3            0.0  109.6  2.775302  \n",
       "187          0.0  112.0  2.861729  \n",
       "510          0.0  114.0  2.933752  \n",
       "399          0.0  115.0  2.969763  \n",
       "5            2.0  115.0  2.969763  \n",
       "408          0.0  116.4  3.020179  \n",
       "396          0.0  121.0  3.185830  \n",
       "201          0.0  121.0  3.185830  \n",
       "239          0.0  122.0  3.221842  \n",
       "181          0.0  124.8  3.322673  \n",
       "521         11.0  126.5  3.383892  \n",
       "574          2.0  135.0  3.689988  \n",
       "337          5.0  137.0  3.762010  \n",
       "466          0.0  157.0  4.482235  \n",
       "177          0.0  175.0  5.130438  \n",
       "186         13.0  176.0  5.166449  \n",
       "561          3.0  191.3  5.717421  \n",
       "318          0.0  217.5  6.660916  \n",
       "673          5.0  225.0  6.931000  "
      ]
     },
     "execution_count": 59,
     "metadata": {},
     "output_type": "execute_result"
    }
   ],
   "source": [
    "df_zscore_outlier = df_zscore.loc[df_zscore.z_score.abs()>2]\n",
    "df_zscore_outlier"
   ]
  },
  {
   "cell_type": "code",
   "execution_count": 60,
   "metadata": {},
   "outputs": [
    {
     "name": "stdout",
     "output_type": "stream",
     "text": [
      " Le total du chiffre d’affaires avec les valeurs aberrantes est:  6884.4 euros.\n"
     ]
    }
   ],
   "source": [
    "ca_aberrant = (df_zscore_outlier['total_sales'] * df_zscore_outlier['price']).sum()\n",
    "print(\" Le total du chiffre d’affaires avec les valeurs aberrantes est: \",ca_aberrant, \"euros.\" )"
   ]
  },
  {
   "cell_type": "code",
   "execution_count": 61,
   "metadata": {},
   "outputs": [
    {
     "name": "stdout",
     "output_type": "stream",
     "text": [
      "Après suppression des valeurs aberrantes, le chiffre d’affaires total réalisé en ligne est de:  65103.6 euros, moins 6884.4 euros qu'avant.\n"
     ]
    }
   ],
   "source": [
    "ca_after = np.round((ca_total - ca_aberrant),2)\n",
    "print(\"Après suppression des valeurs aberrantes, le chiffre d’affaires total réalisé en ligne est de: \",ca_after, \"euros, moins\", ca_aberrant, \"euros qu'avant.\" )"
   ]
  },
  {
   "cell_type": "markdown",
   "metadata": {},
   "source": [
    "## 3. Conclusions et Solutions:"
   ]
  },
  {
   "cell_type": "markdown",
   "metadata": {},
   "source": [
    "Les valeurs aberrantes, ou plutôt incohérentes, influencent certains paramètres statistiques, par exemple, la moyenne. Cela peut fausser la compréhension du jeu de données et nous conduire à émettre des hypothèses erronées sur ce dernier.\n",
    "\n",
    "Dans notre cas d'étude il est tout à fait possible qu'il y ait une grosse différence de prix entre certaines catégories de vins, avec des prix entre 5.2 et 225 euros. Pour le vérifier, il aurait fallu disposer de données relatives au prix par type de vin (Beaujolais, Bourgogne, Champagne,...) afin de pouvoir créer des box-plot différenciées.\n",
    "\n",
    "Dans le cas échéant il existe 3 méthodes couramment utilisées pour traiter les valeurs aberrantes.\n",
    "\n",
    "1 - Suppression des valeurs aberrantes:\n",
    "\n",
    "Nous pouvons facilement supprimer les valeurs aberrantes, mais cela restreint nos données. Si nous avons beaucoup de lignes, de données, nous pouvons peut-être prendre des risques.\n",
    "\n",
    "2 - Méthode Winsorize:\n",
    "\n",
    "Dans la méthode Winsorize, nous devons importer winsorize depuis Scipy. Nous limitons les valeurs aberrantes avec une limite supérieure et inférieure. Nous fixerons les limites. Nous ferons de nos limites supérieures et inférieures pour les données nos nouveaux points maximum et minimum.\n",
    "\n",
    "3 - Transformation du journal:\n",
    "\n",
    "Couramment utilisée sur des données biaisées. La transformation du journal réduit l'asymétrie des données et tente de la rendre normale. La transformation du journal ne la rend pas toujours normale, elle rend parfois les données plus biaisées. Cela dépend donc des données. Nous devons appliquer la transformation et contrôler le résultat. Pour cela il faut implémenter la transformation du journal de NumPy avec np.log"
   ]
  },
  {
   "cell_type": "code",
   "execution_count": null,
   "metadata": {},
   "outputs": [],
   "source": []
  }
 ],
 "metadata": {
  "kernelspec": {
   "display_name": "Python 3 (ipykernel)",
   "language": "python",
   "name": "python3"
  },
  "language_info": {
   "codemirror_mode": {
    "name": "ipython",
    "version": 3
   },
   "file_extension": ".py",
   "mimetype": "text/x-python",
   "name": "python",
   "nbconvert_exporter": "python",
   "pygments_lexer": "ipython3",
   "version": "3.12.0"
  },
  "vscode": {
   "interpreter": {
    "hash": "ce4934cb09fd5275a57ad467500be7931db97d724ab239ad2a12d00034d69fd1"
   }
  }
 },
 "nbformat": 4,
 "nbformat_minor": 2
}
